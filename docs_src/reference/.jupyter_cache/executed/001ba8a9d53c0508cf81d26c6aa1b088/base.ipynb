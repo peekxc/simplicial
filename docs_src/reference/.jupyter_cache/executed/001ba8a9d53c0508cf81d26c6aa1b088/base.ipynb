{
 "cells": [
  {
   "cell_type": "code",
   "execution_count": 1,
   "id": "0674f72c",
   "metadata": {},
   "outputs": [
    {
     "name": "stderr",
     "output_type": "stream",
     "text": [
      "/var/folders/0l/b3dbb2_d2bb4y3wbbfk0wt_80000gn/T/ipykernel_82775/3654062754.py:20: DeprecationWarning: `set_matplotlib_formats` is deprecated since IPython 7.23, directly use `matplotlib_inline.backend_inline.set_matplotlib_formats()`\n",
      "  set_matplotlib_formats(fig_format)\n"
     ]
    },
    {
     "name": "stdout",
     "output_type": "stream",
     "text": [
      "{\"/Users/mpiekenbrock/opt/miniconda3/envs/simplicial/lib/python3.10/importlib/_bootstrap.py\": 1665174128.0, \"/Users/mpiekenbrock/opt/miniconda3/envs/simplicial/lib/python3.10/importlib/_bootstrap_external.py\": 1665174128.0, \"/Users/mpiekenbrock/opt/miniconda3/envs/simplicial/lib/python3.10/codecs.py\": 1665174127.0, \"/Users/mpiekenbrock/opt/miniconda3/envs/simplicial/lib/python3.10/encodings/aliases.py\": 1665174128.0, \"/Users/mpiekenbrock/opt/miniconda3/envs/simplicial/lib/python3.10/encodings/__init__.py\": 1665174128.0, \"/Users/mpiekenbrock/opt/miniconda3/envs/simplicial/lib/python3.10/encodings/utf_8.py\": 1665174128.0, \"/Users/mpiekenbrock/opt/miniconda3/envs/simplicial/lib/python3.10/abc.py\": 1665174127.0, \"/Users/mpiekenbrock/opt/miniconda3/envs/simplicial/lib/python3.10/io.py\": 1665174127.0, \"/Users/mpiekenbrock/opt/miniconda3/envs/simplicial/lib/python3.10/stat.py\": 1665174127.0, \"/Users/mpiekenbrock/opt/miniconda3/envs/simplicial/lib/python3.10/_collections_abc.py\": 1665174127.0, \"/Users/mpiekenbrock/opt/miniconda3/envs/simplicial/lib/python3.10/genericpath.py\": 1665174127.0, \"/Users/mpiekenbrock/opt/miniconda3/envs/simplicial/lib/python3.10/posixpath.py\": 1665174127.0, \"/Users/mpiekenbrock/opt/miniconda3/envs/simplicial/lib/python3.10/os.py\": 1665174127.0, \"/Users/mpiekenbrock/opt/miniconda3/envs/simplicial/lib/python3.10/_sitebuiltins.py\": 1665174127.0, \"/Users/mpiekenbrock/opt/miniconda3/envs/simplicial/lib/python3.10/types.py\": 1665174127.0, \"/Users/mpiekenbrock/opt/miniconda3/envs/simplicial/lib/python3.10/enum.py\": 1665174127.0, \"/Users/mpiekenbrock/opt/miniconda3/envs/simplicial/lib/python3.10/sre_constants.py\": 1665174127.0, \"/Users/mpiekenbrock/opt/miniconda3/envs/simplicial/lib/python3.10/sre_parse.py\": 1665174127.0, \"/Users/mpiekenbrock/opt/miniconda3/envs/simplicial/lib/python3.10/sre_compile.py\": 1665174127.0, \"/Users/mpiekenbrock/opt/miniconda3/envs/simplicial/lib/python3.10/keyword.py\": 1665174127.0, \"/Users/mpiekenbrock/opt/miniconda3/envs/simplicial/lib/python3.10/operator.py\": 1665174127.0, \"/Users/mpiekenbrock/opt/miniconda3/envs/simplicial/lib/python3.10/reprlib.py\": 1665174127.0, \"/Users/mpiekenbrock/opt/miniconda3/envs/simplicial/lib/python3.10/collections/__init__.py\": 1665174127.0, \"/Users/mpiekenbrock/opt/miniconda3/envs/simplicial/lib/python3.10/functools.py\": 1665174127.0, \"/Users/mpiekenbrock/opt/miniconda3/envs/simplicial/lib/python3.10/copyreg.py\": 1665174127.0, \"/Users/mpiekenbrock/opt/miniconda3/envs/simplicial/lib/python3.10/re.py\": 1665174127.0, \"/Users/mpiekenbrock/opt/miniconda3/envs/simplicial/lib/python3.10/contextlib.py\": 1665174127.0, \"/Users/mpiekenbrock/opt/miniconda3/envs/simplicial/lib/python3.10/site-packages/colorama/ansi.py\": 1674407456.981845, \"/Users/mpiekenbrock/opt/miniconda3/envs/simplicial/lib/python3.10/lib-dynload/_ctypes.cpython-310-darwin.so\": 1665174156.0, \"/Users/mpiekenbrock/opt/miniconda3/envs/simplicial/lib/python3.10/lib-dynload/_struct.cpython-310-darwin.so\": 1665174159.0, \"/Users/mpiekenbrock/opt/miniconda3/envs/simplicial/lib/python3.10/struct.py\": 1665174127.0, \"/Users/mpiekenbrock/opt/miniconda3/envs/simplicial/lib/python3.10/ctypes/_endian.py\": 1665174127.0, \"/Users/mpiekenbrock/opt/miniconda3/envs/simplicial/lib/python3.10/ctypes/__init__.py\": 1665174127.0, \"/Users/mpiekenbrock/opt/miniconda3/envs/simplicial/lib/python3.10/site-packages/colorama/win32.py\": 1674407456.9826193, \"/Users/mpiekenbrock/opt/miniconda3/envs/simplicial/lib/python3.10/site-packages/colorama/winterm.py\": 1674407456.982885, \"/Users/mpiekenbrock/opt/miniconda3/envs/simplicial/lib/python3.10/site-packages/colorama/ansitowin32.py\": 1674407456.9821262, \"/Users/mpiekenbrock/opt/miniconda3/envs/simplicial/lib/python3.10/site-packages/colorama/initialise.py\": 1674407456.9823742, \"/Users/mpiekenbrock/opt/miniconda3/envs/simplicial/lib/python3.10/site-packages/colorama/__init__.py\": 1674407456.9815855, \"/Users/mpiekenbrock/opt/miniconda3/envs/simplicial/lib/python3.10/token.py\": 1665174127.0, \"/Users/mpiekenbrock/opt/miniconda3/envs/simplicial/lib/python3.10/tokenize.py\": 1665174127.0, \"/Users/mpiekenbrock/opt/miniconda3/envs/simplicial/lib/python3.10/linecache.py\": 1665174127.0, \"/Users/mpiekenbrock/opt/miniconda3/envs/simplicial/lib/python3.10/site-packages/pretty_errors/__init__.py\": 1675363907.5513098, \"/Users/mpiekenbrock/opt/miniconda3/envs/simplicial/lib/python3.10/site-packages/_distutils_hack/__init__.py\": 1659543724.0, \"/Users/mpiekenbrock/opt/miniconda3/envs/simplicial/lib/python3.10/warnings.py\": 1665174127.0, \"/Users/mpiekenbrock/opt/miniconda3/envs/simplicial/lib/python3.10/importlib/__init__.py\": 1665174128.0, \"/Users/mpiekenbrock/opt/miniconda3/envs/simplicial/lib/python3.10/importlib/_abc.py\": 1665174128.0, \"/Users/mpiekenbrock/opt/miniconda3/envs/simplicial/lib/python3.10/importlib/util.py\": 1665174128.0, \"/Users/mpiekenbrock/opt/miniconda3/envs/simplicial/lib/python3.10/importlib/machinery.py\": 1665174128.0, \"/Users/mpiekenbrock/opt/miniconda3/envs/simplicial/lib/python3.10/site-packages/sitecustomize.py\": 1675363922.280664, \"/Users/mpiekenbrock/opt/miniconda3/envs/simplicial/lib/python3.10/site.py\": 1665174127.0, \"/Users/mpiekenbrock/opt/miniconda3/envs/simplicial/lib/python3.10/runpy.py\": 1665174127.0, \"/Users/mpiekenbrock/opt/miniconda3/envs/simplicial/lib/python3.10/collections/abc.py\": 1665174127.0, \"/Users/mpiekenbrock/opt/miniconda3/envs/simplicial/lib/python3.10/typing.py\": 1665174127.0, \"/Users/mpiekenbrock/opt/miniconda3/envs/simplicial/lib/python3.10/site-packages/ipykernel/_version.py\": 1673812954.4050348, \"/Users/mpiekenbrock/opt/miniconda3/envs/simplicial/lib/python3.10/lib-dynload/_json.cpython-310-darwin.so\": 1665174157.0, \"/Users/mpiekenbrock/opt/miniconda3/envs/simplicial/lib/python3.10/json/scanner.py\": 1665174128.0, \"/Users/mpiekenbrock/opt/miniconda3/envs/simplicial/lib/python3.10/json/decoder.py\": 1665174128.0, \"/Users/mpiekenbrock/opt/miniconda3/envs/simplicial/lib/python3.10/json/encoder.py\": 1665174128.0, \"/Users/mpiekenbrock/opt/miniconda3/envs/simplicial/lib/python3.10/json/__init__.py\": 1665174128.0, \"/Users/mpiekenbrock/opt/miniconda3/envs/simplicial/lib/python3.10/signal.py\": 1665174127.0, \"/Users/mpiekenbrock/opt/miniconda3/envs/simplicial/lib/python3.10/_weakrefset.py\": 1665174127.0, \"/Users/mpiekenbrock/opt/miniconda3/envs/simplicial/lib/python3.10/threading.py\": 1665174127.0, \"/Users/mpiekenbrock/opt/miniconda3/envs/simplicial/lib/python3.10/lib-dynload/fcntl.cpython-310-darwin.so\": 1665174156.0, \"/Users/mpiekenbrock/opt/miniconda3/envs/simplicial/lib/python3.10/lib-dynload/_posixsubprocess.cpython-310-darwin.so\": 1665174158.0, \"/Users/mpiekenbrock/opt/miniconda3/envs/simplicial/lib/python3.10/lib-dynload/select.cpython-310-darwin.so\": 1665174157.0, \"/Users/mpiekenbrock/opt/miniconda3/envs/simplicial/lib/python3.10/lib-dynload/math.cpython-310-darwin.so\": 1665174157.0, \"/Users/mpiekenbrock/opt/miniconda3/envs/simplicial/lib/python3.10/selectors.py\": 1665174127.0, \"/Users/mpiekenbrock/opt/miniconda3/envs/simplicial/lib/python3.10/subprocess.py\": 1665174127.0, \"/Users/mpiekenbrock/opt/miniconda3/envs/simplicial/lib/python3.10/site-packages/jupyter_client/_version.py\": 1673812953.8528848, \"/Users/mpiekenbrock/opt/miniconda3/envs/simplicial/lib/python3.10/ast.py\": 1665174127.0, \"/Users/mpiekenbrock/opt/miniconda3/envs/simplicial/lib/python3.10/lib-dynload/_opcode.cpython-310-darwin.so\": 1665174155.0, \"/Users/mpiekenbrock/opt/miniconda3/envs/simplicial/lib/python3.10/opcode.py\": 1665174127.0, \"/Users/mpiekenbrock/opt/miniconda3/envs/simplicial/lib/python3.10/dis.py\": 1665174127.0, \"/Users/mpiekenbrock/opt/miniconda3/envs/simplicial/lib/python3.10/inspect.py\": 1665174127.0, \"/Users/mpiekenbrock/opt/miniconda3/envs/simplicial/lib/python3.10/fnmatch.py\": 1665174127.0, \"/Users/mpiekenbrock/opt/miniconda3/envs/simplicial/lib/python3.10/ntpath.py\": 1665174127.0, \"/Users/mpiekenbrock/opt/miniconda3/envs/simplicial/lib/python3.10/urllib/__init__.py\": 1665174129.0, \"/Users/mpiekenbrock/opt/miniconda3/envs/simplicial/lib/python3.10/urllib/parse.py\": 1665174129.0, \"/Users/mpiekenbrock/opt/miniconda3/envs/simplicial/lib/python3.10/pathlib.py\": 1665174127.0, \"/Users/mpiekenbrock/opt/miniconda3/envs/simplicial/lib/python3.10/site-packages/traitlets/utils/__init__.py\": 1673812950.5653143, \"/Users/mpiekenbrock/opt/miniconda3/envs/simplicial/lib/python3.10/site-packages/traitlets/utils/bunch.py\": 1673812950.565674, \"/Users/mpiekenbrock/opt/miniconda3/envs/simplicial/lib/python3.10/site-packages/traitlets/utils/descriptions.py\": 1673812950.566288, \"/Users/mpiekenbrock/opt/miniconda3/envs/simplicial/lib/python3.10/site-packages/traitlets/utils/getargspec.py\": 1673812950.5665581, \"/Users/mpiekenbrock/opt/miniconda3/envs/simplicial/lib/python3.10/site-packages/traitlets/utils/importstring.py\": 1673812950.5668814, \"/Users/mpiekenbrock/opt/miniconda3/envs/simplicial/lib/python3.10/site-packages/traitlets/utils/sentinel.py\": 1673812950.5673952, \"/Users/mpiekenbrock/opt/miniconda3/envs/simplicial/lib/python3.10/site-packages/traitlets/traitlets.py\": 1673812950.5575416, \"/Users/mpiekenbrock/opt/miniconda3/envs/simplicial/lib/python3.10/site-packages/traitlets/_version.py\": 1673812950.5564396, \"/Users/mpiekenbrock/opt/miniconda3/envs/simplicial/lib/python3.10/weakref.py\": 1665174127.0, \"/Users/mpiekenbrock/opt/miniconda3/envs/simplicial/lib/python3.10/copy.py\": 1665174127.0, \"/Users/mpiekenbrock/opt/miniconda3/envs/simplicial/lib/python3.10/site-packages/traitlets/utils/decorators.py\": 1673812950.5659807, \"/Users/mpiekenbrock/opt/miniconda3/envs/simplicial/lib/python3.10/site-packages/traitlets/__init__.py\": 1673812950.5561087, \"/Users/mpiekenbrock/opt/miniconda3/envs/simplicial/lib/python3.10/concurrent/__init__.py\": 1665174127.0, \"/Users/mpiekenbrock/opt/miniconda3/envs/simplicial/lib/python3.10/traceback.py\": 1665174127.0, \"/Users/mpiekenbrock/opt/miniconda3/envs/simplicial/lib/python3.10/string.py\": 1665174127.0, \"/Users/mpiekenbrock/opt/miniconda3/envs/simplicial/lib/python3.10/logging/__init__.py\": 1665174128.0, \"/Users/mpiekenbrock/opt/miniconda3/envs/simplicial/lib/python3.10/concurrent/futures/_base.py\": 1665174127.0, \"/Users/mpiekenbrock/opt/miniconda3/envs/simplicial/lib/python3.10/concurrent/futures/__init__.py\": 1665174127.0, \"/Users/mpiekenbrock/opt/miniconda3/envs/simplicial/lib/python3.10/lib-dynload/_heapq.cpython-310-darwin.so\": 1665174158.0, \"/Users/mpiekenbrock/opt/miniconda3/envs/simplicial/lib/python3.10/heapq.py\": 1665174127.0, \"/Users/mpiekenbrock/opt/miniconda3/envs/simplicial/lib/python3.10/lib-dynload/_socket.cpython-310-darwin.so\": 1665174155.0, \"/Users/mpiekenbrock/opt/miniconda3/envs/simplicial/lib/python3.10/lib-dynload/array.cpython-310-darwin.so\": 1665174156.0, \"/Users/mpiekenbrock/opt/miniconda3/envs/simplicial/lib/python3.10/socket.py\": 1665174127.0, \"/Users/mpiekenbrock/opt/miniconda3/envs/simplicial/lib/python3.10/lib-dynload/_ssl.cpython-310-darwin.so\": 1665174158.0, \"/Users/mpiekenbrock/opt/miniconda3/envs/simplicial/lib/python3.10/lib-dynload/binascii.cpython-310-darwin.so\": 1665174157.0, \"/Users/mpiekenbrock/opt/miniconda3/envs/simplicial/lib/python3.10/base64.py\": 1665174127.0, \"/Users/mpiekenbrock/opt/miniconda3/envs/simplicial/lib/python3.10/ssl.py\": 1665174127.0, \"/Users/mpiekenbrock/opt/miniconda3/envs/simplicial/lib/python3.10/asyncio/constants.py\": 1665174127.0, \"/Users/mpiekenbrock/opt/miniconda3/envs/simplicial/lib/python3.10/asyncio/format_helpers.py\": 1665174127.0, \"/Users/mpiekenbrock/opt/miniconda3/envs/simplicial/lib/python3.10/asyncio/base_futures.py\": 1665174127.0, \"/Users/mpiekenbrock/opt/miniconda3/envs/simplicial/lib/python3.10/asyncio/log.py\": 1665174127.0, \"/Users/mpiekenbrock/opt/miniconda3/envs/simplicial/lib/python3.10/asyncio/coroutines.py\": 1665174127.0, \"/Users/mpiekenbrock/opt/miniconda3/envs/simplicial/lib/python3.10/lib-dynload/_contextvars.cpython-310-darwin.so\": 1665174157.0, \"/Users/mpiekenbrock/opt/miniconda3/envs/simplicial/lib/python3.10/contextvars.py\": 1665174127.0, \"/Users/mpiekenbrock/opt/miniconda3/envs/simplicial/lib/python3.10/asyncio/exceptions.py\": 1665174127.0, \"/Users/mpiekenbrock/opt/miniconda3/envs/simplicial/lib/python3.10/asyncio/base_tasks.py\": 1665174127.0, \"/Users/mpiekenbrock/opt/miniconda3/envs/simplicial/lib/python3.10/lib-dynload/_asyncio.cpython-310-darwin.so\": 1665174158.0, \"/Users/mpiekenbrock/opt/miniconda3/envs/simplicial/lib/python3.10/asyncio/events.py\": 1665174127.0, \"/Users/mpiekenbrock/opt/miniconda3/envs/simplicial/lib/python3.10/asyncio/futures.py\": 1665174127.0, \"/Users/mpiekenbrock/opt/miniconda3/envs/simplicial/lib/python3.10/asyncio/protocols.py\": 1665174127.0, \"/Users/mpiekenbrock/opt/miniconda3/envs/simplicial/lib/python3.10/asyncio/transports.py\": 1665174127.0, \"/Users/mpiekenbrock/opt/miniconda3/envs/simplicial/lib/python3.10/asyncio/sslproto.py\": 1665174127.0, \"/Users/mpiekenbrock/opt/miniconda3/envs/simplicial/lib/python3.10/asyncio/mixins.py\": 1665174127.0, \"/Users/mpiekenbrock/opt/miniconda3/envs/simplicial/lib/python3.10/asyncio/tasks.py\": 1665174127.0, \"/Users/mpiekenbrock/opt/miniconda3/envs/simplicial/lib/python3.10/asyncio/locks.py\": 1665174127.0, \"/Users/mpiekenbrock/opt/miniconda3/envs/simplicial/lib/python3.10/asyncio/staggered.py\": 1665174127.0, \"/Users/mpiekenbrock/opt/miniconda3/envs/simplicial/lib/python3.10/asyncio/trsock.py\": 1665174127.0, \"/Users/mpiekenbrock/opt/miniconda3/envs/simplicial/lib/python3.10/asyncio/base_events.py\": 1665174127.0, \"/Users/mpiekenbrock/opt/miniconda3/envs/simplicial/lib/python3.10/asyncio/runners.py\": 1665174127.0, \"/Users/mpiekenbrock/opt/miniconda3/envs/simplicial/lib/python3.10/asyncio/queues.py\": 1665174127.0, \"/Users/mpiekenbrock/opt/miniconda3/envs/simplicial/lib/python3.10/asyncio/streams.py\": 1665174127.0, \"/Users/mpiekenbrock/opt/miniconda3/envs/simplicial/lib/python3.10/asyncio/subprocess.py\": 1665174127.0, \"/Users/mpiekenbrock/opt/miniconda3/envs/simplicial/lib/python3.10/asyncio/threads.py\": 1665174127.0, \"/Users/mpiekenbrock/opt/miniconda3/envs/simplicial/lib/python3.10/asyncio/base_subprocess.py\": 1665174127.0, \"/Users/mpiekenbrock/opt/miniconda3/envs/simplicial/lib/python3.10/asyncio/selector_events.py\": 1665174127.0, \"/Users/mpiekenbrock/opt/miniconda3/envs/simplicial/lib/python3.10/asyncio/unix_events.py\": 1665174127.0, \"/Users/mpiekenbrock/opt/miniconda3/envs/simplicial/lib/python3.10/asyncio/__init__.py\": 1665174127.0, \"/Users/mpiekenbrock/opt/miniconda3/envs/simplicial/lib/python3.10/lib-dynload/_queue.cpython-310-darwin.so\": 1665174154.0, \"/Users/mpiekenbrock/opt/miniconda3/envs/simplicial/lib/python3.10/queue.py\": 1665174127.0, \"/Users/mpiekenbrock/opt/miniconda3/envs/simplicial/lib/python3.10/platform.py\": 1665174127.0, \"/Users/mpiekenbrock/opt/miniconda3/envs/simplicial/lib/python3.10/site-packages/zmq/backend/select.py\": 1673812950.9204407, \"/Users/mpiekenbrock/opt/miniconda3/envs/simplicial/lib/python3.10/site-packages/zmq/error.py\": 1673812950.8966486, \"/Users/mpiekenbrock/opt/miniconda3/envs/simplicial/lib/python3.10/site-packages/zmq/backend/cython/context.cpython-310-darwin.so\": 1673812950.9353635, \"/Users/mpiekenbrock/opt/miniconda3/envs/simplicial/lib/python3.10/site-packages/zmq/backend/cython/message.cpython-310-darwin.so\": 1673812950.9296107, \"/Users/mpiekenbrock/opt/miniconda3/envs/simplicial/lib/python3.10/lib-dynload/_bisect.cpython-310-darwin.so\": 1665174159.0, \"/Users/mpiekenbrock/opt/miniconda3/envs/simplicial/lib/python3.10/bisect.py\": 1665174127.0, \"/Users/mpiekenbrock/opt/miniconda3/envs/simplicial/lib/python3.10/lib-dynload/_random.cpython-310-darwin.so\": 1665174159.0, \"/Users/mpiekenbrock/opt/miniconda3/envs/simplicial/lib/python3.10/lib-dynload/_sha512.cpython-310-darwin.so\": 1665174153.0, \"/Users/mpiekenbrock/opt/miniconda3/envs/simplicial/lib/python3.10/random.py\": 1665174127.0, \"/Users/mpiekenbrock/opt/miniconda3/envs/simplicial/lib/python3.10/_compat_pickle.py\": 1665174127.0, \"/Users/mpiekenbrock/opt/miniconda3/envs/simplicial/lib/python3.10/lib-dynload/_pickle.cpython-310-darwin.so\": 1665174156.0, \"/Users/mpiekenbrock/opt/miniconda3/envs/simplicial/lib/python3.10/pickle.py\": 1665174127.0, \"/Users/mpiekenbrock/opt/miniconda3/envs/simplicial/lib/python3.10/site-packages/zmq/constants.py\": 1673812950.8981223, \"/Users/mpiekenbrock/opt/miniconda3/envs/simplicial/lib/python3.10/site-packages/zmq/backend/cython/socket.cpython-310-darwin.so\": 1673812950.9332402, \"/Users/mpiekenbrock/opt/miniconda3/envs/simplicial/lib/python3.10/site-packages/zmq/backend/cython/_device.cpython-310-darwin.so\": 1673812950.924836, \"/Users/mpiekenbrock/opt/miniconda3/envs/simplicial/lib/python3.10/site-packages/zmq/backend/cython/_poll.cpython-310-darwin.so\": 1673812950.9280899, \"/Users/mpiekenbrock/opt/miniconda3/envs/simplicial/lib/python3.10/site-packages/zmq/backend/cython/_proxy_steerable.cpython-310-darwin.so\": 1673812950.92381, \"/Users/mpiekenbrock/opt/miniconda3/envs/simplicial/lib/python3.10/site-packages/zmq/backend/cython/_version.cpython-310-darwin.so\": 1673812950.9261503, \"/Users/mpiekenbrock/opt/miniconda3/envs/simplicial/lib/python3.10/site-packages/zmq/backend/cython/error.cpython-310-darwin.so\": 1673812950.9308736, \"/Users/mpiekenbrock/opt/miniconda3/envs/simplicial/lib/python3.10/site-packages/zmq/backend/cython/utils.cpython-310-darwin.so\": 1673812950.9341855, \"/Users/mpiekenbrock/opt/miniconda3/envs/simplicial/lib/python3.10/site-packages/zmq/backend/cython/__init__.py\": 1673812950.9301586, \"/Users/mpiekenbrock/opt/miniconda3/envs/simplicial/lib/python3.10/site-packages/zmq/backend/__init__.py\": 1673812950.920148, \"/Users/mpiekenbrock/opt/miniconda3/envs/simplicial/lib/python3.10/site-packages/zmq/utils/__init__.py\": 1673812950.9172142, \"/Users/mpiekenbrock/opt/miniconda3/envs/simplicial/lib/python3.10/site-packages/zmq/utils/interop.py\": 1673812950.9180038, \"/Users/mpiekenbrock/opt/miniconda3/envs/simplicial/lib/python3.10/site-packages/zmq/sugar/attrsettr.py\": 1673812950.9015272, \"/Users/mpiekenbrock/opt/miniconda3/envs/simplicial/lib/python3.10/site-packages/zmq/_typing.py\": 1673812950.896393, \"/Users/mpiekenbrock/opt/miniconda3/envs/simplicial/lib/python3.10/site-packages/zmq/utils/jsonapi.py\": 1673812950.9182947, \"/Users/mpiekenbrock/opt/miniconda3/envs/simplicial/lib/python3.10/site-packages/zmq/sugar/poll.py\": 1673812950.9031315, \"/Users/mpiekenbrock/opt/miniconda3/envs/simplicial/lib/python3.10/site-packages/zmq/sugar/socket.py\": 1673812950.9035027, \"/Users/mpiekenbrock/opt/miniconda3/envs/simplicial/lib/python3.10/site-packages/zmq/sugar/context.py\": 1673812950.9023013, \"/Users/mpiekenbrock/opt/miniconda3/envs/simplicial/lib/python3.10/site-packages/zmq/sugar/frame.py\": 1673812950.9025645, \"/Users/mpiekenbrock/opt/miniconda3/envs/simplicial/lib/python3.10/site-packages/zmq/sugar/tracker.py\": 1673812950.9028723, \"/Users/mpiekenbrock/opt/miniconda3/envs/simplicial/lib/python3.10/site-packages/zmq/sugar/version.py\": 1673812950.901044, \"/Users/mpiekenbrock/opt/miniconda3/envs/simplicial/lib/python3.10/site-packages/zmq/sugar/stopwatch.py\": 1673812950.9020083, \"/Users/mpiekenbrock/opt/miniconda3/envs/simplicial/lib/python3.10/site-packages/zmq/sugar/__init__.py\": 1673812950.9017642, \"/Users/mpiekenbrock/opt/miniconda3/envs/simplicial/lib/python3.10/site-packages/zmq/__init__.py\": 1673812950.8984363, \"/Users/mpiekenbrock/opt/miniconda3/envs/simplicial/lib/python3.10/site-packages/zmq/_future.py\": 1673812950.897295, \"/Users/mpiekenbrock/opt/miniconda3/envs/simplicial/lib/python3.10/site-packages/zmq/asyncio.py\": 1673812950.897802, \"/Users/mpiekenbrock/opt/miniconda3/envs/simplicial/lib/python3.10/site-packages/jupyter_client/channelsabc.py\": 1673812953.8537114, \"/Users/mpiekenbrock/opt/miniconda3/envs/simplicial/lib/python3.10/lib-dynload/_hashlib.cpython-310-darwin.so\": 1665174157.0, \"/Users/mpiekenbrock/opt/miniconda3/envs/simplicial/lib/python3.10/lib-dynload/_blake2.cpython-310-darwin.so\": 1665174153.0, \"/Users/mpiekenbrock/opt/miniconda3/envs/simplicial/lib/python3.10/hashlib.py\": 1665174127.0, \"/Users/mpiekenbrock/opt/miniconda3/envs/simplicial/lib/python3.10/hmac.py\": 1665174127.0, \"/Users/mpiekenbrock/opt/miniconda3/envs/simplicial/lib/python3.10/dataclasses.py\": 1665174127.0, \"/Users/mpiekenbrock/opt/miniconda3/envs/simplicial/lib/python3.10/pprint.py\": 1665174127.0, \"/Users/mpiekenbrock/opt/miniconda3/envs/simplicial/lib/python3.10/lib-dynload/_datetime.cpython-310-darwin.so\": 1665174157.0, \"/Users/mpiekenbrock/opt/miniconda3/envs/simplicial/lib/python3.10/datetime.py\": 1665174127.0, \"/Users/mpiekenbrock/opt/miniconda3/envs/simplicial/lib/python3.10/site-packages/tornado/__init__.py\": 1673812950.6519506, \"/Users/mpiekenbrock/opt/miniconda3/envs/simplicial/lib/python3.10/numbers.py\": 1665174127.0, \"/Users/mpiekenbrock/opt/miniconda3/envs/simplicial/lib/python3.10/logging/handlers.py\": 1665174128.0, \"/Users/mpiekenbrock/opt/miniconda3/envs/simplicial/lib/python3.10/html/entities.py\": 1665174128.0, \"/Users/mpiekenbrock/opt/miniconda3/envs/simplicial/lib/python3.10/html/__init__.py\": 1665174128.0, \"/Users/mpiekenbrock/opt/miniconda3/envs/simplicial/lib/python3.10/lib-dynload/zlib.cpython-310-darwin.so\": 1665174153.0, \"/Users/mpiekenbrock/opt/miniconda3/envs/simplicial/lib/python3.10/site-packages/tornado/speedups.abi3.so\": 1673812950.6581008, \"/Users/mpiekenbrock/opt/miniconda3/envs/simplicial/lib/python3.10/site-packages/tornado/util.py\": 1673812950.6508784, \"/Users/mpiekenbrock/opt/miniconda3/envs/simplicial/lib/python3.10/site-packages/tornado/escape.py\": 1673812950.6470616, \"/Users/mpiekenbrock/opt/miniconda3/envs/simplicial/lib/python3.10/lib-dynload/_curses.cpython-310-darwin.so\": 1665174157.0, \"/Users/mpiekenbrock/opt/miniconda3/envs/simplicial/lib/python3.10/curses/__init__.py\": 1665174127.0, \"/Users/mpiekenbrock/opt/miniconda3/envs/simplicial/lib/python3.10/site-packages/tornado/log.py\": 1673812950.650514, \"/Users/mpiekenbrock/opt/miniconda3/envs/simplicial/lib/python3.10/site-packages/tornado/concurrent.py\": 1673812950.6467054, \"/Users/mpiekenbrock/opt/miniconda3/envs/simplicial/lib/python3.10/site-packages/tornado/ioloop.py\": 1673812950.6532712, \"/Users/mpiekenbrock/opt/miniconda3/envs/simplicial/lib/python3.10/socketserver.py\": 1665174127.0, \"/Users/mpiekenbrock/opt/miniconda3/envs/simplicial/lib/python3.10/logging/config.py\": 1665174128.0, \"/Users/mpiekenbrock/opt/miniconda3/envs/simplicial/lib/python3.10/textwrap.py\": 1665174127.0, \"/Users/mpiekenbrock/opt/miniconda3/envs/simplicial/lib/python3.10/site-packages/traitlets/utils/text.py\": 1673812950.5682092, \"/Users/mpiekenbrock/opt/miniconda3/envs/simplicial/lib/python3.10/gettext.py\": 1665174127.0, \"/Users/mpiekenbrock/opt/miniconda3/envs/simplicial/lib/python3.10/argparse.py\": 1665174127.0, \"/Users/mpiekenbrock/opt/miniconda3/envs/simplicial/lib/python3.10/site-packages/traitlets/config/loader.py\": 1673812950.5593064, \"/Users/mpiekenbrock/opt/miniconda3/envs/simplicial/lib/python3.10/site-packages/traitlets/config/configurable.py\": 1673812950.5588722, \"/Users/mpiekenbrock/opt/miniconda3/envs/simplicial/lib/python3.10/site-packages/traitlets/utils/nested_update.py\": 1673812950.5671327, \"/Users/mpiekenbrock/opt/miniconda3/envs/simplicial/lib/python3.10/site-packages/traitlets/config/application.py\": 1673812950.5582573, \"/Users/mpiekenbrock/opt/miniconda3/envs/simplicial/lib/python3.10/site-packages/traitlets/config/__init__.py\": 1673812950.5578613, \"/Users/mpiekenbrock/opt/miniconda3/envs/simplicial/lib/python3.10/site-packages/traitlets/log.py\": 1673812950.5566773, \"/Users/mpiekenbrock/opt/miniconda3/envs/simplicial/lib/python3.10/site-packages/zmq/eventloop/__init__.py\": 1673812950.955041, \"/Users/mpiekenbrock/opt/miniconda3/envs/simplicial/lib/python3.10/site-packages/zmq/eventloop/zmqstream.py\": 1673812950.956015, \"/Users/mpiekenbrock/opt/miniconda3/envs/simplicial/lib/python3.10/site-packages/jupyter_client/adapter.py\": 1673812953.853156, \"/Users/mpiekenbrock/opt/miniconda3/envs/simplicial/lib/python3.10/site-packages/dateutil/_version.py\": 1673812952.9585447, \"/Users/mpiekenbrock/opt/miniconda3/envs/simplicial/lib/python3.10/site-packages/dateutil/__init__.py\": 1673812952.9574769, \"/Users/mpiekenbrock/opt/miniconda3/envs/simplicial/lib/python3.10/__future__.py\": 1665174127.0, \"/Users/mpiekenbrock/opt/miniconda3/envs/simplicial/lib/python3.10/locale.py\": 1665174127.0, \"/Users/mpiekenbrock/opt/miniconda3/envs/simplicial/lib/python3.10/calendar.py\": 1665174127.0, \"/Users/mpiekenbrock/opt/miniconda3/envs/simplicial/lib/python3.10/site-packages/six.py\": 1673812950.8829827, \"/Users/mpiekenbrock/opt/miniconda3/envs/simplicial/lib/python3.10/lib-dynload/_decimal.cpython-310-darwin.so\": 1665174155.0, \"/Users/mpiekenbrock/opt/miniconda3/envs/simplicial/lib/python3.10/decimal.py\": 1665174127.0, \"/Users/mpiekenbrock/opt/miniconda3/envs/simplicial/lib/python3.10/site-packages/dateutil/_common.py\": 1673812952.9581916, \"/Users/mpiekenbrock/opt/miniconda3/envs/simplicial/lib/python3.10/site-packages/dateutil/relativedelta.py\": 1673812952.9592032, \"/Users/mpiekenbrock/opt/miniconda3/envs/simplicial/lib/python3.10/site-packages/dateutil/tz/_common.py\": 1673812952.9622903, \"/Users/mpiekenbrock/opt/miniconda3/envs/simplicial/lib/python3.10/site-packages/dateutil/tz/_factories.py\": 1673812952.9625814, \"/Users/mpiekenbrock/opt/miniconda3/envs/simplicial/lib/python3.10/site-packages/dateutil/tz/tz.py\": 1673812952.9631016, \"/Users/mpiekenbrock/opt/miniconda3/envs/simplicial/lib/python3.10/site-packages/dateutil/tz/__init__.py\": 1673812952.9619632, \"/Users/mpiekenbrock/opt/miniconda3/envs/simplicial/lib/python3.10/site-packages/dateutil/parser/_parser.py\": 1673812952.961206, \"/Users/mpiekenbrock/opt/miniconda3/envs/simplicial/lib/python3.10/site-packages/dateutil/parser/isoparser.py\": 1673812952.961617, \"/Users/mpiekenbrock/opt/miniconda3/envs/simplicial/lib/python3.10/site-packages/dateutil/parser/__init__.py\": 1673812952.960703, \"/Users/mpiekenbrock/opt/miniconda3/envs/simplicial/lib/python3.10/_strptime.py\": 1665174127.0, \"/Users/mpiekenbrock/opt/miniconda3/envs/simplicial/lib/python3.10/site-packages/jupyter_client/jsonutil.py\": 1673812953.8551414, \"/Users/mpiekenbrock/opt/miniconda3/envs/simplicial/lib/python3.10/site-packages/jupyter_client/session.py\": 1673812953.858589, \"/Users/mpiekenbrock/opt/miniconda3/envs/simplicial/lib/python3.10/site-packages/jupyter_client/channels.py\": 1673812953.853475, \"/Users/mpiekenbrock/opt/miniconda3/envs/simplicial/lib/python3.10/lib-dynload/termios.cpython-310-darwin.so\": 1665174154.0, \"/Users/mpiekenbrock/opt/miniconda3/envs/simplicial/lib/python3.10/getpass.py\": 1665174127.0, \"/Users/mpiekenbrock/opt/miniconda3/envs/simplicial/lib/python3.10/site-packages/jupyter_client/clientabc.py\": 1673812953.8542743, \"/Users/mpiekenbrock/opt/miniconda3/envs/simplicial/lib/python3.10/glob.py\": 1665174127.0, \"/Users/mpiekenbrock/opt/miniconda3/envs/simplicial/lib/python3.10/_compression.py\": 1665174127.0, \"/Users/mpiekenbrock/opt/miniconda3/envs/simplicial/lib/python3.10/lib-dynload/_bz2.cpython-310-darwin.so\": 1665174159.0, \"/Users/mpiekenbrock/opt/miniconda3/envs/simplicial/lib/python3.10/bz2.py\": 1665174127.0, \"/Users/mpiekenbrock/opt/miniconda3/envs/simplicial/lib/python3.10/lib-dynload/_lzma.cpython-310-darwin.so\": 1665174156.0, \"/Users/mpiekenbrock/opt/miniconda3/envs/simplicial/lib/python3.10/lzma.py\": 1665174127.0, \"/Users/mpiekenbrock/opt/miniconda3/envs/simplicial/lib/python3.10/shutil.py\": 1665174127.0, \"/Users/mpiekenbrock/opt/miniconda3/envs/simplicial/lib/python3.10/tempfile.py\": 1665174127.0, \"/Users/mpiekenbrock/opt/miniconda3/envs/simplicial/lib/python3.10/site-packages/jupyter_core/version.py\": 1673812953.026035, \"/Users/mpiekenbrock/opt/miniconda3/envs/simplicial/lib/python3.10/site-packages/jupyter_core/__init__.py\": 1673812953.0232172, \"/Users/mpiekenbrock/opt/miniconda3/envs/simplicial/lib/python3.10/site-packages/platformdirs/api.py\": 1673812952.077878, \"/Users/mpiekenbrock/opt/miniconda3/envs/simplicial/lib/python3.10/site-packages/platformdirs/version.py\": 1673812952.078788, \"/Users/mpiekenbrock/opt/miniconda3/envs/simplicial/lib/python3.10/site-packages/platformdirs/macos.py\": 1673812952.078125, \"/Users/mpiekenbrock/opt/miniconda3/envs/simplicial/lib/python3.10/site-packages/platformdirs/__init__.py\": 1673812952.0771456, \"/Users/mpiekenbrock/opt/miniconda3/envs/simplicial/lib/python3.10/site-packages/jupyter_core/utils/__init__.py\": 1673812953.033288, \"/Users/mpiekenbrock/opt/miniconda3/envs/simplicial/lib/python3.10/site-packages/jupyter_core/paths.py\": 1673812953.0253332, \"/Users/mpiekenbrock/opt/miniconda3/envs/simplicial/lib/python3.10/site-packages/jupyter_client/localinterfaces.py\": 1673812953.8565454, \"/Users/mpiekenbrock/opt/miniconda3/envs/simplicial/lib/python3.10/site-packages/jupyter_client/utils.py\": 1673812953.859128, \"/Users/mpiekenbrock/opt/miniconda3/envs/simplicial/lib/python3.10/site-packages/jupyter_client/connect.py\": 1673812953.8545957, \"/Users/mpiekenbrock/opt/miniconda3/envs/simplicial/lib/python3.10/site-packages/jupyter_client/client.py\": 1673812953.854031, \"/Users/mpiekenbrock/opt/miniconda3/envs/simplicial/lib/python3.10/site-packages/jupyter_client/asynchronous/client.py\": 1673812953.8599105, \"/Users/mpiekenbrock/opt/miniconda3/envs/simplicial/lib/python3.10/site-packages/jupyter_client/asynchronous/__init__.py\": 1673812953.8596752, \"/Users/mpiekenbrock/opt/miniconda3/envs/simplicial/lib/python3.10/site-packages/jupyter_client/blocking/client.py\": 1673812953.8604617, \"/Users/mpiekenbrock/opt/miniconda3/envs/simplicial/lib/python3.10/site-packages/jupyter_client/blocking/__init__.py\": 1673812953.8601732, \"/Users/mpiekenbrock/opt/miniconda3/envs/simplicial/lib/python3.10/site-packages/jupyter_client/launcher.py\": 1673812953.8562727, \"/Users/mpiekenbrock/opt/miniconda3/envs/simplicial/lib/python3.10/lib-dynload/_uuid.cpython-310-darwin.so\": 1665174153.0, \"/Users/mpiekenbrock/opt/miniconda3/envs/simplicial/lib/python3.10/uuid.py\": 1665174127.0, \"/Users/mpiekenbrock/opt/miniconda3/envs/simplicial/lib/python3.10/site-packages/jupyter_client/managerabc.py\": 1673812953.8571045, \"/Users/mpiekenbrock/opt/miniconda3/envs/simplicial/lib/python3.10/zipfile.py\": 1665174127.0, \"/Users/mpiekenbrock/opt/miniconda3/envs/simplicial/lib/python3.10/configparser.py\": 1665174127.0, \"/Users/mpiekenbrock/opt/miniconda3/envs/simplicial/lib/python3.10/site-packages/entrypoints.py\": 1673812952.2134666, \"/Users/mpiekenbrock/opt/miniconda3/envs/simplicial/lib/python3.10/site-packages/jupyter_client/provisioning/provisioner_base.py\": 1673812953.862278, \"/Users/mpiekenbrock/opt/miniconda3/envs/simplicial/lib/python3.10/site-packages/jupyter_client/provisioning/factory.py\": 1673812953.861741, \"/Users/mpiekenbrock/opt/miniconda3/envs/simplicial/lib/python3.10/site-packages/jupyter_client/provisioning/local_provisioner.py\": 1673812953.8620105, \"/Users/mpiekenbrock/opt/miniconda3/envs/simplicial/lib/python3.10/site-packages/jupyter_client/provisioning/__init__.py\": 1673812953.861476, \"/Users/mpiekenbrock/opt/miniconda3/envs/simplicial/lib/python3.10/site-packages/jupyter_client/kernelspec.py\": 1673812953.8557289, \"/Users/mpiekenbrock/opt/miniconda3/envs/simplicial/lib/python3.10/site-packages/jupyter_client/manager.py\": 1673812953.856866, \"/Users/mpiekenbrock/opt/miniconda3/envs/simplicial/lib/python3.10/site-packages/jupyter_client/multikernelmanager.py\": 1673812953.8574817, \"/Users/mpiekenbrock/opt/miniconda3/envs/simplicial/lib/python3.10/site-packages/jupyter_client/__init__.py\": 1673812953.8526433, \"/Users/mpiekenbrock/opt/miniconda3/envs/simplicial/lib/python3.10/site-packages/ipykernel/connect.py\": 1673812954.4055152, \"/Users/mpiekenbrock/opt/miniconda3/envs/simplicial/lib/python3.10/site-packages/ipykernel/__init__.py\": 1673812954.4042697, \"/Users/mpiekenbrock/opt/miniconda3/envs/simplicial/lib/python3.10/site-packages/IPython/core/__init__.py\": 1673812953.9469936, \"/Users/mpiekenbrock/opt/miniconda3/envs/simplicial/lib/python3.10/site-packages/IPython/core/getipython.py\": 1673812953.9536047, \"/Users/mpiekenbrock/opt/miniconda3/envs/simplicial/lib/python3.10/site-packages/IPython/core/release.py\": 1673812953.9612613, \"/Users/mpiekenbrock/opt/miniconda3/envs/simplicial/lib/python3.10/pkgutil.py\": 1665174127.0, \"/Users/mpiekenbrock/opt/miniconda3/envs/simplicial/lib/python3.10/sysconfig.py\": 1665174127.0, \"/Users/mpiekenbrock/opt/miniconda3/envs/simplicial/lib/python3.10/_sysconfigdata__darwin_darwin.py\": 1673708173.5234668, \"/Users/mpiekenbrock/opt/miniconda3/envs/simplicial/lib/python3.10/_osx_support.py\": 1665174127.0, \"/Users/mpiekenbrock/opt/miniconda3/envs/simplicial/lib/python3.10/pydoc.py\": 1665174127.0, \"/Users/mpiekenbrock/opt/miniconda3/envs/simplicial/lib/python3.10/site-packages/executing/executing.py\": 1673812950.5249727, \"/Users/mpiekenbrock/opt/miniconda3/envs/simplicial/lib/python3.10/site-packages/executing/version.py\": 1673812950.5255222, \"/Users/mpiekenbrock/opt/miniconda3/envs/simplicial/lib/python3.10/site-packages/executing/__init__.py\": 1673812950.5238194, \"/Users/mpiekenbrock/opt/miniconda3/envs/simplicial/lib/python3.10/site-packages/asttokens/line_numbers.py\": 1673812953.82448, \"/Users/mpiekenbrock/opt/miniconda3/envs/simplicial/lib/python3.10/site-packages/asttokens/util.py\": 1673812953.8253486, \"/Users/mpiekenbrock/opt/miniconda3/envs/simplicial/lib/python3.10/site-packages/asttokens/asttokens.py\": 1673812953.824231, \"/Users/mpiekenbrock/opt/miniconda3/envs/simplicial/lib/python3.10/site-packages/asttokens/__init__.py\": 1673812953.8236442, \"/Users/mpiekenbrock/opt/miniconda3/envs/simplicial/lib/python3.10/fractions.py\": 1665174127.0, \"/Users/mpiekenbrock/opt/miniconda3/envs/simplicial/lib/python3.10/site-packages/pure_eval/utils.py\": 1673812950.4920614, \"/Users/mpiekenbrock/opt/miniconda3/envs/simplicial/lib/python3.10/site-packages/pure_eval/my_getattr_static.py\": 1673812950.4914541, \"/Users/mpiekenbrock/opt/miniconda3/envs/simplicial/lib/python3.10/site-packages/pure_eval/core.py\": 1673812950.4911218, \"/Users/mpiekenbrock/opt/miniconda3/envs/simplicial/lib/python3.10/site-packages/pure_eval/version.py\": 1673812950.4923594, \"/Users/mpiekenbrock/opt/miniconda3/envs/simplicial/lib/python3.10/site-packages/pure_eval/__init__.py\": 1673812950.4907508, \"/Users/mpiekenbrock/opt/miniconda3/envs/simplicial/lib/python3.10/site-packages/stack_data/utils.py\": 1673812953.839026, \"/Users/mpiekenbrock/opt/miniconda3/envs/simplicial/lib/python3.10/site-packages/stack_data/core.py\": 1673812953.8379917, \"/Users/mpiekenbrock/opt/miniconda3/envs/simplicial/lib/python3.10/site-packages/stack_data/formatting.py\": 1673812953.838271, \"/Users/mpiekenbrock/opt/miniconda3/envs/simplicial/lib/python3.10/site-packages/stack_data/serializing.py\": 1673812953.8387592, \"/Users/mpiekenbrock/opt/miniconda3/envs/simplicial/lib/python3.10/site-packages/stack_data/version.py\": 1673812953.8393002, \"/Users/mpiekenbrock/opt/miniconda3/envs/simplicial/lib/python3.10/site-packages/stack_data/__init__.py\": 1673812953.8375645, \"/Users/mpiekenbrock/opt/miniconda3/envs/simplicial/lib/python3.10/site-packages/pygments/__init__.py\": 1673812951.0702415, \"/Users/mpiekenbrock/opt/miniconda3/envs/simplicial/lib/python3.10/site-packages/pygments/formatters/_mapping.py\": 1673812951.076428, \"/Users/mpiekenbrock/opt/miniconda3/envs/simplicial/lib/python3.10/site-packages/pygments/plugin.py\": 1673812951.072575, \"/Users/mpiekenbrock/opt/miniconda3/envs/simplicial/lib/python3.10/site-packages/pygments/util.py\": 1673812951.075117, \"/Users/mpiekenbrock/opt/miniconda3/envs/simplicial/lib/python3.10/site-packages/pygments/formatters/__init__.py\": 1673812951.0760648, \"/Users/mpiekenbrock/opt/miniconda3/envs/simplicial/lib/python3.10/site-packages/pygments/styles/__init__.py\": 1673812951.1523528, \"/Users/mpiekenbrock/opt/miniconda3/envs/simplicial/lib/python3.10/site-packages/pygments/formatter.py\": 1673812951.0715973, \"/Users/mpiekenbrock/opt/miniconda3/envs/simplicial/lib/python3.10/site-packages/pygments/console.py\": 1673812951.071088, \"/Users/mpiekenbrock/opt/miniconda3/envs/simplicial/lib/python3.10/site-packages/pygments/token.py\": 1673812951.0741231, \"/Users/mpiekenbrock/opt/miniconda3/envs/simplicial/lib/python3.10/site-packages/pygments/style.py\": 1673812951.073831, \"/Users/mpiekenbrock/opt/miniconda3/envs/simplicial/lib/python3.10/site-packages/pygments/formatters/terminal256.py\": 1673812951.0804882, \"/Users/mpiekenbrock/opt/miniconda3/envs/simplicial/lib/python3.10/site-packages/IPython/utils/__init__.py\": 1673812954.0126903, \"/Users/mpiekenbrock/opt/miniconda3/envs/simplicial/lib/python3.10/site-packages/IPython/utils/ipstruct.py\": 1673812954.0194545, \"/Users/mpiekenbrock/opt/miniconda3/envs/simplicial/lib/python3.10/site-packages/IPython/utils/coloransi.py\": 1673812954.0155675, \"/Users/mpiekenbrock/opt/miniconda3/envs/simplicial/lib/python3.10/site-packages/IPython/utils/colorable.py\": 1673812954.0152085, \"/Users/mpiekenbrock/opt/miniconda3/envs/simplicial/lib/python3.10/site-packages/IPython/utils/PyColorize.py\": 1673812954.0124907, \"/Users/mpiekenbrock/opt/miniconda3/envs/simplicial/lib/python3.10/site-packages/IPython/utils/encoding.py\": 1673812954.0174675, \"/Users/mpiekenbrock/opt/miniconda3/envs/simplicial/lib/python3.10/site-packages/IPython/utils/py3compat.py\": 1673812954.0219207, \"/Users/mpiekenbrock/opt/miniconda3/envs/simplicial/lib/python3.10/site-packages/IPython/core/excolors.py\": 1673812953.952667, \"/Users/mpiekenbrock/opt/miniconda3/envs/simplicial/lib/python3.10/cmd.py\": 1665174127.0, \"/Users/mpiekenbrock/opt/miniconda3/envs/simplicial/lib/python3.10/bdb.py\": 1665174127.0, \"/Users/mpiekenbrock/opt/miniconda3/envs/simplicial/lib/python3.10/codeop.py\": 1665174127.0, \"/Users/mpiekenbrock/opt/miniconda3/envs/simplicial/lib/python3.10/code.py\": 1665174127.0, \"/Users/mpiekenbrock/opt/miniconda3/envs/simplicial/lib/python3.10/pdb.py\": 1665174127.0, \"/Users/mpiekenbrock/opt/miniconda3/envs/simplicial/lib/python3.10/site-packages/IPython/core/debugger.py\": 1673812953.9503973, \"/Users/mpiekenbrock/opt/miniconda3/envs/simplicial/lib/python3.10/site-packages/IPython/core/display_trap.py\": 1673812953.9513886, \"/Users/mpiekenbrock/opt/miniconda3/envs/simplicial/lib/python3.10/site-packages/pexpect/exceptions.py\": 1673812952.092153, \"/Users/mpiekenbrock/opt/miniconda3/envs/simplicial/lib/python3.10/site-packages/pexpect/utils.py\": 1673812952.095458, \"/Users/mpiekenbrock/opt/miniconda3/envs/simplicial/lib/python3.10/site-packages/pexpect/expect.py\": 1673812952.0925837, \"/Users/mpiekenbrock/opt/miniconda3/envs/simplicial/lib/python3.10/tty.py\": 1665174127.0, \"/Users/mpiekenbrock/opt/miniconda3/envs/simplicial/lib/python3.10/pty.py\": 1665174127.0, \"/Users/mpiekenbrock/opt/miniconda3/envs/simplicial/lib/python3.10/lib-dynload/resource.cpython-310-darwin.so\": 1665174152.0, \"/Users/mpiekenbrock/opt/miniconda3/envs/simplicial/lib/python3.10/site-packages/ptyprocess/util.py\": 1673812950.50583, \"/Users/mpiekenbrock/opt/miniconda3/envs/simplicial/lib/python3.10/site-packages/ptyprocess/ptyprocess.py\": 1673812950.505501, \"/Users/mpiekenbrock/opt/miniconda3/envs/simplicial/lib/python3.10/site-packages/ptyprocess/__init__.py\": 1673812950.5046465, \"/Users/mpiekenbrock/opt/miniconda3/envs/simplicial/lib/python3.10/site-packages/pexpect/spawnbase.py\": 1673812952.0951765, \"/Users/mpiekenbrock/opt/miniconda3/envs/simplicial/lib/python3.10/site-packages/pexpect/pty_spawn.py\": 1673812952.0935977, \"/Users/mpiekenbrock/opt/miniconda3/envs/simplicial/lib/python3.10/site-packages/pexpect/run.py\": 1673812952.0945392, \"/Users/mpiekenbrock/opt/miniconda3/envs/simplicial/lib/python3.10/site-packages/pexpect/__init__.py\": 1673812952.09141, \"/Users/mpiekenbrock/opt/miniconda3/envs/simplicial/lib/python3.10/shlex.py\": 1665174127.0, \"/Users/mpiekenbrock/opt/miniconda3/envs/simplicial/lib/python3.10/site-packages/IPython/utils/_process_common.py\": 1673812954.013237, \"/Users/mpiekenbrock/opt/miniconda3/envs/simplicial/lib/python3.10/site-packages/IPython/utils/_process_posix.py\": 1673812954.013661, \"/Users/mpiekenbrock/opt/miniconda3/envs/simplicial/lib/python3.10/site-packages/IPython/utils/process.py\": 1673812954.0216312, \"/Users/mpiekenbrock/opt/miniconda3/envs/simplicial/lib/python3.10/site-packages/IPython/utils/path.py\": 1673812954.021327, \"/Users/mpiekenbrock/opt/miniconda3/envs/simplicial/lib/python3.10/site-packages/IPython/utils/terminal.py\": 1673812954.0242367, \"/Users/mpiekenbrock/opt/miniconda3/envs/simplicial/lib/python3.10/site-packages/IPython/core/ultratb.py\": 1673812953.96239, \"/Users/mpiekenbrock/opt/miniconda3/envs/simplicial/lib/python3.10/site-packages/IPython/utils/_sysinfo.py\": 1673812954.0146294, \"/Users/mpiekenbrock/opt/miniconda3/envs/simplicial/lib/python3.10/site-packages/IPython/utils/sysinfo.py\": 1673812954.0233452, \"/Users/mpiekenbrock/opt/miniconda3/envs/simplicial/lib/python3.10/site-packages/IPython/core/crashhandler.py\": 1673812953.949975, \"/Users/mpiekenbrock/opt/miniconda3/envs/simplicial/lib/python3.10/site-packages/IPython/utils/importstring.py\": 1673812954.0186532, \"/Users/mpiekenbrock/opt/miniconda3/envs/simplicial/lib/python3.10/site-packages/IPython/paths.py\": 1673812953.9466417, \"/Users/mpiekenbrock/opt/miniconda3/envs/simplicial/lib/python3.10/site-packages/IPython/core/profiledir.py\": 1673812953.9604383, \"/Users/mpiekenbrock/opt/miniconda3/envs/simplicial/lib/python3.10/site-packages/IPython/core/application.py\": 1673812953.9476676, \"/Users/mpiekenbrock/opt/miniconda3/envs/simplicial/lib/python3.10/site-packages/IPython/terminal/__init__.py\": 1673812953.995777, \"/Users/mpiekenbrock/opt/miniconda3/envs/simplicial/lib/python3.10/site-packages/IPython/core/compilerop.py\": 1673812953.9487388, \"/Users/mpiekenbrock/opt/miniconda3/envs/simplicial/lib/python3.10/site-packages/IPython/core/error.py\": 1673812953.9521434, \"/Users/mpiekenbrock/opt/miniconda3/envs/simplicial/lib/python3.10/site-packages/IPython/utils/docs.py\": 1673812954.01721, \"/Users/mpiekenbrock/opt/miniconda3/envs/simplicial/lib/python3.10/site-packages/IPython/utils/decorators.py\": 1673812954.0166805, \"/Users/mpiekenbrock/opt/miniconda3/envs/simplicial/lib/python3.10/site-packages/IPython/utils/text.py\": 1673812954.0247097, \"/Users/mpiekenbrock/opt/miniconda3/envs/simplicial/lib/python3.10/site-packages/IPython/core/magic_arguments.py\": 1673812953.9581647, \"/Users/mpiekenbrock/opt/miniconda3/envs/simplicial/lib/python3.10/getopt.py\": 1665174127.0, \"/Users/mpiekenbrock/opt/miniconda3/envs/simplicial/lib/python3.10/site-packages/IPython/core/display_functions.py\": 1673812953.9511309, \"/Users/mpiekenbrock/opt/miniconda3/envs/simplicial/lib/python3.10/mimetypes.py\": 1665174127.0, \"/Users/mpiekenbrock/opt/miniconda3/envs/simplicial/lib/python3.10/site-packages/IPython/testing/__init__.py\": 1673812954.0056849, \"/Users/mpiekenbrock/opt/miniconda3/envs/simplicial/lib/python3.10/site-packages/IPython/testing/skipdoctest.py\": 1673812954.0068996, \"/Users/mpiekenbrock/opt/miniconda3/envs/simplicial/lib/python3.10/site-packages/IPython/core/display.py\": 1673812953.950813, \"/Users/mpiekenbrock/opt/miniconda3/envs/simplicial/lib/python3.10/site-packages/IPython/lib/__init__.py\": 1673812953.9883525, \"/Users/mpiekenbrock/opt/miniconda3/envs/simplicial/lib/python3.10/site-packages/IPython/lib/display.py\": 1673812953.989798, \"/Users/mpiekenbrock/opt/miniconda3/envs/simplicial/lib/python3.10/site-packages/IPython/display.py\": 1673812953.9464092, \"/Users/mpiekenbrock/opt/miniconda3/envs/simplicial/lib/python3.10/site-packages/IPython/utils/data.py\": 1673812954.0163991, \"/Users/mpiekenbrock/opt/miniconda3/envs/simplicial/lib/python3.10/site-packages/IPython/core/page.py\": 1673812953.958964, \"/Users/mpiekenbrock/opt/miniconda3/envs/simplicial/lib/python3.10/site-packages/IPython/lib/pretty.py\": 1673812953.9912698, \"/Users/mpiekenbrock/opt/miniconda3/envs/simplicial/lib/python3.10/site-packages/IPython/utils/openpy.py\": 1673812954.0209987, \"/Users/mpiekenbrock/opt/miniconda3/envs/simplicial/lib/python3.10/site-packages/IPython/utils/dir2.py\": 1673812954.016971, \"/Users/mpiekenbrock/opt/miniconda3/envs/simplicial/lib/python3.10/site-packages/IPython/utils/wildcard.py\": 1673812954.027105, \"/Users/mpiekenbrock/opt/miniconda3/envs/simplicial/lib/python3.10/site-packages/pygments/lexers/_mapping.py\": 1673812951.08555, \"/Users/mpiekenbrock/opt/miniconda3/envs/simplicial/lib/python3.10/site-packages/pygments/modeline.py\": 1673812951.0722835, \"/Users/mpiekenbrock/opt/miniconda3/envs/simplicial/lib/python3.10/site-packages/pygments/lexers/__init__.py\": 1673812951.0808246, \"/Users/mpiekenbrock/opt/miniconda3/envs/simplicial/lib/python3.10/site-packages/pygments/filter.py\": 1673812951.0713403, \"/Users/mpiekenbrock/opt/miniconda3/envs/simplicial/lib/python3.10/site-packages/pygments/filters/__init__.py\": 1673812951.0756462, \"/Users/mpiekenbrock/opt/miniconda3/envs/simplicial/lib/python3.10/site-packages/pygments/regexopt.py\": 1673812951.0728655, \"/Users/mpiekenbrock/opt/miniconda3/envs/simplicial/lib/python3.10/site-packages/pygments/lexer.py\": 1673812951.0719945, \"/Users/mpiekenbrock/opt/miniconda3/envs/simplicial/lib/python3.10/site-packages/pygments/unistring.py\": 1673812951.074635, \"/Users/mpiekenbrock/opt/miniconda3/envs/simplicial/lib/python3.10/site-packages/pygments/lexers/python.py\": 1673812951.132534, \"/Users/mpiekenbrock/opt/miniconda3/envs/simplicial/lib/python3.10/site-packages/pygments/formatters/html.py\": 1673812951.077618, \"/Users/mpiekenbrock/opt/miniconda3/envs/simplicial/lib/python3.10/site-packages/IPython/core/oinspect.py\": 1673812953.9585688, \"/Users/mpiekenbrock/opt/miniconda3/envs/simplicial/lib/python3.10/site-packages/IPython/core/inputtransformer2.py\": 1673812953.9558914, \"/Users/mpiekenbrock/opt/miniconda3/envs/simplicial/lib/python3.10/site-packages/IPython/core/magic.py\": 1673812953.9578493, \"/Users/mpiekenbrock/opt/miniconda3/envs/simplicial/lib/python3.10/site-packages/pickleshare.py\": 1673812950.5170965, \"/Users/mpiekenbrock/opt/miniconda3/envs/simplicial/lib/python3.10/site-packages/IPython/core/hooks.py\": 1673812953.9547896, \"/Users/mpiekenbrock/opt/miniconda3/envs/simplicial/lib/python3.10/site-packages/IPython/core/autocall.py\": 1673812953.9482577, \"/Users/mpiekenbrock/opt/miniconda3/envs/simplicial/lib/python3.10/site-packages/IPython/core/macro.py\": 1673812953.9575238, \"/Users/mpiekenbrock/opt/miniconda3/envs/simplicial/lib/python3.10/site-packages/IPython/core/splitinput.py\": 1673812953.9619148, \"/Users/mpiekenbrock/opt/miniconda3/envs/simplicial/lib/python3.10/site-packages/IPython/core/prefilter.py\": 1673812953.9597778, \"/Users/mpiekenbrock/opt/miniconda3/envs/simplicial/lib/python3.10/site-packages/IPython/core/alias.py\": 1673812953.9473462, \"/Users/mpiekenbrock/opt/miniconda3/envs/simplicial/lib/python3.10/site-packages/IPython/core/builtin_trap.py\": 1673812953.9484882, \"/Users/mpiekenbrock/opt/miniconda3/envs/simplicial/lib/python3.10/site-packages/IPython/core/displayhook.py\": 1673812953.9516587, \"/Users/mpiekenbrock/opt/miniconda3/envs/simplicial/lib/python3.10/site-packages/IPython/core/displaypub.py\": 1673812953.9519136, \"/Users/mpiekenbrock/opt/miniconda3/envs/simplicial/lib/python3.10/site-packages/backcall/backcall.py\": 1673812950.5407178, \"/Users/mpiekenbrock/opt/miniconda3/envs/simplicial/lib/python3.10/site-packages/backcall/__init__.py\": 1673812950.5399983, \"/Users/mpiekenbrock/opt/miniconda3/envs/simplicial/lib/python3.10/site-packages/IPython/core/events.py\": 1673812953.9523814, \"/Users/mpiekenbrock/opt/miniconda3/envs/simplicial/lib/python3.10/site-packages/IPython/core/extensions.py\": 1673812953.9530187, \"/Users/mpiekenbrock/opt/miniconda3/envs/simplicial/lib/python3.10/site-packages/decorator.py\": 1673812952.2186868, \"/Users/mpiekenbrock/opt/miniconda3/envs/simplicial/lib/python3.10/site-packages/IPython/utils/sentinel.py\": 1673812954.0221832, \"/Users/mpiekenbrock/opt/miniconda3/envs/simplicial/lib/python3.10/site-packages/IPython/core/formatters.py\": 1673812953.9533641, \"/Users/mpiekenbrock/opt/miniconda3/envs/simplicial/lib/python3.10/lib-dynload/_sqlite3.cpython-310-darwin.so\": 1665174158.0, \"/Users/mpiekenbrock/opt/miniconda3/envs/simplicial/lib/python3.10/sqlite3/dbapi2.py\": 1665174129.0, \"/Users/mpiekenbrock/opt/miniconda3/envs/simplicial/lib/python3.10/sqlite3/__init__.py\": 1665174129.0, \"/Users/mpiekenbrock/opt/miniconda3/envs/simplicial/lib/python3.10/site-packages/IPython/core/history.py\": 1673812953.9542818, \"/Users/mpiekenbrock/opt/miniconda3/envs/simplicial/lib/python3.10/site-packages/IPython/core/logger.py\": 1673812953.9572787, \"/Users/mpiekenbrock/opt/miniconda3/envs/simplicial/lib/python3.10/site-packages/IPython/core/payload.py\": 1673812953.959216, \"/Users/mpiekenbrock/opt/miniconda3/envs/simplicial/lib/python3.10/site-packages/IPython/core/usage.py\": 1673812953.9627023, \"/Users/mpiekenbrock/opt/miniconda3/envs/simplicial/lib/python3.10/site-packages/IPython/utils/capture.py\": 1673812954.014909, \"/Users/mpiekenbrock/opt/miniconda3/envs/simplicial/lib/python3.10/site-packages/IPython/utils/io.py\": 1673812954.0190976, \"/Users/mpiekenbrock/opt/miniconda3/envs/simplicial/lib/python3.10/site-packages/IPython/utils/strdispatch.py\": 1673812954.0230663, \"/Users/mpiekenbrock/opt/miniconda3/envs/simplicial/lib/python3.10/site-packages/IPython/utils/syspathcontext.py\": 1673812954.0236142, \"/Users/mpiekenbrock/opt/miniconda3/envs/simplicial/lib/python3.10/site-packages/IPython/core/async_helpers.py\": 1673812953.9480152, \"/Users/mpiekenbrock/opt/miniconda3/envs/simplicial/lib/python3.10/site-packages/IPython/core/interactiveshell.py\": 1673812953.9566834, \"/Users/mpiekenbrock/opt/miniconda3/envs/simplicial/lib/python3.10/site-packages/prompt_toolkit/application/current.py\": 1673812951.8458002, \"/Users/mpiekenbrock/opt/miniconda3/envs/simplicial/lib/python3.10/site-packages/prompt_toolkit/eventloop/async_context_manager.py\": 1673812951.853913, \"/Users/mpiekenbrock/opt/miniconda3/envs/simplicial/lib/python3.10/site-packages/prompt_toolkit/eventloop/utils.py\": 1673812951.8548853, \"/Users/mpiekenbrock/opt/miniconda3/envs/simplicial/lib/python3.10/site-packages/prompt_toolkit/eventloop/async_generator.py\": 1673812951.8541622, \"/Users/mpiekenbrock/opt/miniconda3/envs/simplicial/lib/python3.10/site-packages/prompt_toolkit/eventloop/inputhook.py\": 1673812951.8546438, \"/Users/mpiekenbrock/opt/miniconda3/envs/simplicial/lib/python3.10/site-packages/prompt_toolkit/eventloop/__init__.py\": 1673812951.8536744, \"/Users/mpiekenbrock/opt/miniconda3/envs/simplicial/lib/python3.10/site-packages/prompt_toolkit/application/run_in_terminal.py\": 1673812951.8464024, \"/Users/mpiekenbrock/opt/miniconda3/envs/simplicial/lib/python3.10/site-packages/prompt_toolkit/selection.py\": 1673812951.8436255, \"/Users/mpiekenbrock/opt/miniconda3/envs/simplicial/lib/python3.10/site-packages/prompt_toolkit/clipboard/base.py\": 1673812951.8469856, \"/Users/mpiekenbrock/opt/miniconda3/envs/simplicial/lib/python3.10/site-packages/prompt_toolkit/clipboard/in_memory.py\": 1673812951.8472176, \"/Users/mpiekenbrock/opt/miniconda3/envs/simplicial/lib/python3.10/site-packages/prompt_toolkit/clipboard/__init__.py\": 1673812951.8467429, \"/Users/mpiekenbrock/opt/miniconda3/envs/simplicial/lib/python3.10/site-packages/prompt_toolkit/cache.py\": 1673812951.8400717, \"/Users/mpiekenbrock/opt/miniconda3/envs/simplicial/lib/python3.10/site-packages/prompt_toolkit/enums.py\": 1673812951.8412082, \"/Users/mpiekenbrock/opt/miniconda3/envs/simplicial/lib/python3.10/site-packages/prompt_toolkit/filters/base.py\": 1673812951.8560007, \"/Users/mpiekenbrock/opt/miniconda3/envs/simplicial/lib/python3.10/site-packages/prompt_toolkit/filters/app.py\": 1673812951.855746, \"/Users/mpiekenbrock/opt/miniconda3/envs/simplicial/lib/python3.10/site-packages/prompt_toolkit/filters/cli.py\": 1673812951.8562772, \"/Users/mpiekenbrock/opt/miniconda3/envs/simplicial/lib/python3.10/site-packages/prompt_toolkit/filters/utils.py\": 1673812951.8565025, \"/Users/mpiekenbrock/opt/miniconda3/envs/simplicial/lib/python3.10/site-packages/prompt_toolkit/filters/__init__.py\": 1673812951.8554847, \"/Users/mpiekenbrock/opt/miniconda3/envs/simplicial/lib/python3.10/site-packages/prompt_toolkit/document.py\": 1673812951.8408813, \"/Users/mpiekenbrock/opt/miniconda3/envs/simplicial/lib/python3.10/site-packages/prompt_toolkit/auto_suggest.py\": 1673812951.8393042, \"/Users/mpiekenbrock/opt/miniconda3/envs/simplicial/lib/python3.10/site-packages/prompt_toolkit/keys.py\": 1673812951.841863, \"/Users/mpiekenbrock/opt/miniconda3/envs/simplicial/lib/python3.10/site-packages/prompt_toolkit/key_binding/key_bindings.py\": 1673812951.8626733, \"/Users/mpiekenbrock/opt/miniconda3/envs/simplicial/lib/python3.10/site-packages/wcwidth/table_wide.py\": 1673812950.4405568, \"/Users/mpiekenbrock/opt/miniconda3/envs/simplicial/lib/python3.10/site-packages/wcwidth/table_zero.py\": 1673812950.4415274, \"/Users/mpiekenbrock/opt/miniconda3/envs/simplicial/lib/python3.10/site-packages/wcwidth/unicode_versions.py\": 1673812950.4419096, \"/Users/mpiekenbrock/opt/miniconda3/envs/simplicial/lib/python3.10/site-packages/wcwidth/wcwidth.py\": 1673812950.4423018, \"/Users/mpiekenbrock/opt/miniconda3/envs/simplicial/lib/python3.10/site-packages/wcwidth/__init__.py\": 1673812950.4400115, \"/Users/mpiekenbrock/opt/miniconda3/envs/simplicial/lib/python3.10/site-packages/prompt_toolkit/utils.py\": 1673812951.8442943, \"/Users/mpiekenbrock/opt/miniconda3/envs/simplicial/lib/python3.10/site-packages/prompt_toolkit/key_binding/key_processor.py\": 1673812951.8630488, \"/Users/mpiekenbrock/opt/miniconda3/envs/simplicial/lib/python3.10/site-packages/prompt_toolkit/key_binding/__init__.py\": 1673812951.861453, \"/Users/mpiekenbrock/opt/miniconda3/envs/simplicial/lib/python3.10/site-packages/prompt_toolkit/key_binding/vi_state.py\": 1673812951.8633091, \"/Users/mpiekenbrock/opt/miniconda3/envs/simplicial/lib/python3.10/site-packages/prompt_toolkit/cursor_shapes.py\": 1673812951.8403132, \"/Users/mpiekenbrock/opt/miniconda3/envs/simplicial/lib/python3.10/site-packages/prompt_toolkit/data_structures.py\": 1673812951.840536, \"/Users/mpiekenbrock/opt/miniconda3/envs/simplicial/lib/python3.10/site-packages/prompt_toolkit/styles/base.py\": 1673812951.8777506, \"/Users/mpiekenbrock/opt/miniconda3/envs/simplicial/lib/python3.10/site-packages/prompt_toolkit/styles/named_colors.py\": 1673812951.8782697, \"/Users/mpiekenbrock/opt/miniconda3/envs/simplicial/lib/python3.10/site-packages/prompt_toolkit/styles/style.py\": 1673812951.878789, \"/Users/mpiekenbrock/opt/miniconda3/envs/simplicial/lib/python3.10/site-packages/prompt_toolkit/styles/defaults.py\": 1673812951.878015, \"/Users/mpiekenbrock/opt/miniconda3/envs/simplicial/lib/python3.10/site-packages/prompt_toolkit/styles/pygments.py\": 1673812951.8785095, \"/Users/mpiekenbrock/opt/miniconda3/envs/simplicial/lib/python3.10/colorsys.py\": 1665174127.0, \"/Users/mpiekenbrock/opt/miniconda3/envs/simplicial/lib/python3.10/site-packages/prompt_toolkit/styles/style_transformation.py\": 1673812951.8790755, \"/Users/mpiekenbrock/opt/miniconda3/envs/simplicial/lib/python3.10/site-packages/prompt_toolkit/styles/__init__.py\": 1673812951.8775055, \"/Users/mpiekenbrock/opt/miniconda3/envs/simplicial/lib/python3.10/site-packages/prompt_toolkit/output/color_depth.py\": 1673812951.873152, \"/Users/mpiekenbrock/opt/miniconda3/envs/simplicial/lib/python3.10/site-packages/prompt_toolkit/output/base.py\": 1673812951.8728907, \"/Users/mpiekenbrock/opt/miniconda3/envs/simplicial/lib/python3.10/site-packages/prompt_toolkit/output/flush_stdout.py\": 1673812951.8739376, \"/Users/mpiekenbrock/opt/miniconda3/envs/simplicial/lib/python3.10/site-packages/prompt_toolkit/output/plain_text.py\": 1673812951.874224, \"/Users/mpiekenbrock/opt/miniconda3/envs/simplicial/lib/python3.10/site-packages/prompt_toolkit/output/defaults.py\": 1673812951.8736837, \"/Users/mpiekenbrock/opt/miniconda3/envs/simplicial/lib/python3.10/site-packages/prompt_toolkit/output/__init__.py\": 1673812951.8725626, \"/Users/mpiekenbrock/opt/miniconda3/envs/simplicial/lib/python3.10/site-packages/prompt_toolkit/output/vt100.py\": 1673812951.8745337, \"/Users/mpiekenbrock/opt/miniconda3/envs/simplicial/lib/python3.10/site-packages/prompt_toolkit/mouse_events.py\": 1673812951.8423374, \"/Users/mpiekenbrock/opt/miniconda3/envs/simplicial/lib/python3.10/site-packages/prompt_toolkit/formatted_text/base.py\": 1673812951.8573341, \"/Users/mpiekenbrock/opt/miniconda3/envs/simplicial/lib/python3.10/site-packages/prompt_toolkit/formatted_text/ansi.py\": 1673812951.857051, \"/Users/mpiekenbrock/opt/miniconda3/envs/simplicial/lib/python3.10/xml/__init__.py\": 1665174129.0, \"/Users/mpiekenbrock/opt/miniconda3/envs/simplicial/lib/python3.10/xml/dom/domreg.py\": 1665174129.0, \"/Users/mpiekenbrock/opt/miniconda3/envs/simplicial/lib/python3.10/xml/dom/__init__.py\": 1665174129.0, \"/Users/mpiekenbrock/opt/miniconda3/envs/simplicial/lib/python3.10/xml/dom/minicompat.py\": 1665174129.0, \"/Users/mpiekenbrock/opt/miniconda3/envs/simplicial/lib/python3.10/xml/dom/NodeFilter.py\": 1665174129.0, \"/Users/mpiekenbrock/opt/miniconda3/envs/simplicial/lib/python3.10/xml/dom/xmlbuilder.py\": 1665174129.0, \"/Users/mpiekenbrock/opt/miniconda3/envs/simplicial/lib/python3.10/xml/dom/minidom.py\": 1665174129.0, \"/Users/mpiekenbrock/opt/miniconda3/envs/simplicial/lib/python3.10/site-packages/prompt_toolkit/formatted_text/html.py\": 1673812951.8575747, \"/Users/mpiekenbrock/opt/miniconda3/envs/simplicial/lib/python3.10/site-packages/prompt_toolkit/formatted_text/pygments.py\": 1673812951.8578, \"/Users/mpiekenbrock/opt/miniconda3/envs/simplicial/lib/python3.10/site-packages/prompt_toolkit/formatted_text/utils.py\": 1673812951.858033, \"/Users/mpiekenbrock/opt/miniconda3/envs/simplicial/lib/python3.10/site-packages/prompt_toolkit/formatted_text/__init__.py\": 1673812951.8567638, \"/Users/mpiekenbrock/opt/miniconda3/envs/simplicial/lib/python3.10/site-packages/prompt_toolkit/completion/base.py\": 1673812951.848008, \"/Users/mpiekenbrock/opt/miniconda3/envs/simplicial/lib/python3.10/site-packages/prompt_toolkit/completion/deduplicate.py\": 1673812951.8482554, \"/Users/mpiekenbrock/opt/miniconda3/envs/simplicial/lib/python3.10/site-packages/prompt_toolkit/completion/filesystem.py\": 1673812951.8485067, \"/Users/mpiekenbrock/opt/miniconda3/envs/simplicial/lib/python3.10/site-packages/prompt_toolkit/completion/word_completer.py\": 1673812951.8494875, \"/Users/mpiekenbrock/opt/miniconda3/envs/simplicial/lib/python3.10/site-packages/prompt_toolkit/completion/fuzzy_completer.py\": 1673812951.8488245, \"/Users/mpiekenbrock/opt/miniconda3/envs/simplicial/lib/python3.10/site-packages/prompt_toolkit/completion/nested.py\": 1673812951.849217, \"/Users/mpiekenbrock/opt/miniconda3/envs/simplicial/lib/python3.10/site-packages/prompt_toolkit/completion/__init__.py\": 1673812951.847727, \"/Users/mpiekenbrock/opt/miniconda3/envs/simplicial/lib/python3.10/site-packages/prompt_toolkit/history.py\": 1673812951.841565, \"/Users/mpiekenbrock/opt/miniconda3/envs/simplicial/lib/python3.10/site-packages/prompt_toolkit/search.py\": 1673812951.8433824, \"/Users/mpiekenbrock/opt/miniconda3/envs/simplicial/lib/python3.10/site-packages/prompt_toolkit/validation.py\": 1673812951.844546, \"/Users/mpiekenbrock/opt/miniconda3/envs/simplicial/lib/python3.10/site-packages/prompt_toolkit/buffer.py\": 1673812951.8397987, \"/Users/mpiekenbrock/opt/miniconda3/envs/simplicial/lib/python3.10/site-packages/prompt_toolkit/input/base.py\": 1673812951.8588502, \"/Users/mpiekenbrock/opt/miniconda3/envs/simplicial/lib/python3.10/site-packages/prompt_toolkit/input/defaults.py\": 1673812951.8590848, \"/Users/mpiekenbrock/opt/miniconda3/envs/simplicial/lib/python3.10/site-packages/prompt_toolkit/input/__init__.py\": 1673812951.858338, \"/Users/mpiekenbrock/opt/miniconda3/envs/simplicial/lib/python3.10/site-packages/prompt_toolkit/input/typeahead.py\": 1673812951.8599854, \"/Users/mpiekenbrock/opt/miniconda3/envs/simplicial/lib/python3.10/site-packages/prompt_toolkit/key_binding/bindings/__init__.py\": 1673812951.8635046, \"/Users/mpiekenbrock/opt/miniconda3/envs/simplicial/lib/python3.10/site-packages/prompt_toolkit/key_binding/bindings/scroll.py\": 1673812951.86643, \"/Users/mpiekenbrock/opt/miniconda3/envs/simplicial/lib/python3.10/site-packages/prompt_toolkit/key_binding/bindings/page_navigation.py\": 1673812951.8661435, \"/Users/mpiekenbrock/opt/miniconda3/envs/simplicial/lib/python3.10/site-packages/prompt_toolkit/lexers/base.py\": 1673812951.8719726, \"/Users/mpiekenbrock/opt/miniconda3/envs/simplicial/lib/python3.10/site-packages/prompt_toolkit/lexers/pygments.py\": 1673812951.8722708, \"/Users/mpiekenbrock/opt/miniconda3/envs/simplicial/lib/python3.10/site-packages/prompt_toolkit/lexers/__init__.py\": 1673812951.871699, \"/Users/mpiekenbrock/opt/miniconda3/envs/simplicial/lib/python3.10/site-packages/prompt_toolkit/layout/utils.py\": 1673812951.8714368, \"/Users/mpiekenbrock/opt/miniconda3/envs/simplicial/lib/python3.10/site-packages/prompt_toolkit/layout/processors.py\": 1673812951.8706021, \"/Users/mpiekenbrock/opt/miniconda3/envs/simplicial/lib/python3.10/site-packages/prompt_toolkit/layout/controls.py\": 1673812951.8684678, \"/Users/mpiekenbrock/opt/miniconda3/envs/simplicial/lib/python3.10/site-packages/prompt_toolkit/layout/dimension.py\": 1673812951.8687372, \"/Users/mpiekenbrock/opt/miniconda3/envs/simplicial/lib/python3.10/site-packages/prompt_toolkit/layout/margins.py\": 1673812951.8696444, \"/Users/mpiekenbrock/opt/miniconda3/envs/simplicial/lib/python3.10/site-packages/prompt_toolkit/layout/mouse_handlers.py\": 1673812951.8702183, \"/Users/mpiekenbrock/opt/miniconda3/envs/simplicial/lib/python3.10/site-packages/prompt_toolkit/layout/screen.py\": 1673812951.870885, \"/Users/mpiekenbrock/opt/miniconda3/envs/simplicial/lib/python3.10/site-packages/prompt_toolkit/layout/containers.py\": 1673812951.8680513, \"/Users/mpiekenbrock/opt/miniconda3/envs/simplicial/lib/python3.10/site-packages/prompt_toolkit/layout/layout.py\": 1673812951.869369, \"/Users/mpiekenbrock/opt/miniconda3/envs/simplicial/lib/python3.10/site-packages/prompt_toolkit/layout/menus.py\": 1673812951.8699703, \"/Users/mpiekenbrock/opt/miniconda3/envs/simplicial/lib/python3.10/site-packages/prompt_toolkit/layout/scrollable_pane.py\": 1673812951.8711908, \"/Users/mpiekenbrock/opt/miniconda3/envs/simplicial/lib/python3.10/site-packages/prompt_toolkit/layout/__init__.py\": 1673812951.8674605, \"/Users/mpiekenbrock/opt/miniconda3/envs/simplicial/lib/python3.10/site-packages/prompt_toolkit/key_binding/bindings/completion.py\": 1673812951.8642676, \"/Users/mpiekenbrock/opt/miniconda3/envs/simplicial/lib/python3.10/site-packages/prompt_toolkit/key_binding/bindings/named_commands.py\": 1673812951.8656518, \"/Users/mpiekenbrock/opt/miniconda3/envs/simplicial/lib/python3.10/site-packages/prompt_toolkit/key_binding/bindings/basic.py\": 1673812951.8640077, \"/Users/mpiekenbrock/opt/miniconda3/envs/simplicial/lib/python3.10/site-packages/prompt_toolkit/key_binding/bindings/cpr.py\": 1673812951.8645058, \"/Users/mpiekenbrock/opt/miniconda3/envs/simplicial/lib/python3.10/site-packages/prompt_toolkit/key_binding/bindings/emacs.py\": 1673812951.8647919, \"/Users/mpiekenbrock/opt/miniconda3/envs/simplicial/lib/python3.10/site-packages/prompt_toolkit/key_binding/bindings/mouse.py\": 1673812951.8653536, \"/Users/mpiekenbrock/opt/miniconda3/envs/simplicial/lib/python3.10/site-packages/prompt_toolkit/input/ansi_escape_sequences.py\": 1673812951.858609, \"/Users/mpiekenbrock/opt/miniconda3/envs/simplicial/lib/python3.10/site-packages/prompt_toolkit/input/vt100_parser.py\": 1673812951.860587, \"/Users/mpiekenbrock/opt/miniconda3/envs/simplicial/lib/python3.10/site-packages/prompt_toolkit/key_binding/digraphs.py\": 1673812951.8620834, \"/Users/mpiekenbrock/opt/miniconda3/envs/simplicial/lib/python3.10/site-packages/prompt_toolkit/key_binding/bindings/vi.py\": 1673812951.8671403, \"/Users/mpiekenbrock/opt/miniconda3/envs/simplicial/lib/python3.10/site-packages/prompt_toolkit/key_binding/defaults.py\": 1673812951.8617725, \"/Users/mpiekenbrock/opt/miniconda3/envs/simplicial/lib/python3.10/site-packages/prompt_toolkit/key_binding/emacs_state.py\": 1673812951.8623238, \"/Users/mpiekenbrock/opt/miniconda3/envs/simplicial/lib/python3.10/site-packages/prompt_toolkit/layout/dummy.py\": 1673812951.8689756, \"/Users/mpiekenbrock/opt/miniconda3/envs/simplicial/lib/python3.10/site-packages/prompt_toolkit/renderer.py\": 1673812951.8431172, \"/Users/mpiekenbrock/opt/miniconda3/envs/simplicial/lib/python3.10/site-packages/prompt_toolkit/application/application.py\": 1673812951.8455067, \"/Users/mpiekenbrock/opt/miniconda3/envs/simplicial/lib/python3.10/site-packages/prompt_toolkit/application/dummy.py\": 1673812951.84609, \"/Users/mpiekenbrock/opt/miniconda3/envs/simplicial/lib/python3.10/site-packages/prompt_toolkit/application/__init__.py\": 1673812951.8450716, \"/Users/mpiekenbrock/opt/miniconda3/envs/simplicial/lib/python3.10/site-packages/prompt_toolkit/key_binding/bindings/focus.py\": 1673812951.8650272, \"/Users/mpiekenbrock/opt/miniconda3/envs/simplicial/lib/python3.10/site-packages/prompt_toolkit/widgets/toolbars.py\": 1673812951.8806236, \"/Users/mpiekenbrock/opt/miniconda3/envs/simplicial/lib/python3.10/site-packages/prompt_toolkit/widgets/base.py\": 1673812951.8797374, \"/Users/mpiekenbrock/opt/miniconda3/envs/simplicial/lib/python3.10/site-packages/prompt_toolkit/widgets/dialogs.py\": 1673812951.8800805, \"/Users/mpiekenbrock/opt/miniconda3/envs/simplicial/lib/python3.10/site-packages/prompt_toolkit/widgets/menus.py\": 1673812951.880348, \"/Users/mpiekenbrock/opt/miniconda3/envs/simplicial/lib/python3.10/site-packages/prompt_toolkit/widgets/__init__.py\": 1673812951.8793597, \"/Users/mpiekenbrock/opt/miniconda3/envs/simplicial/lib/python3.10/site-packages/prompt_toolkit/shortcuts/dialogs.py\": 1673812951.8756855, \"/Users/mpiekenbrock/opt/miniconda3/envs/simplicial/lib/python3.10/site-packages/prompt_toolkit/shortcuts/progress_bar/formatters.py\": 1673812951.8772159, \"/Users/mpiekenbrock/opt/miniconda3/envs/simplicial/lib/python3.10/site-packages/prompt_toolkit/shortcuts/progress_bar/base.py\": 1673812951.8769438, \"/Users/mpiekenbrock/opt/miniconda3/envs/simplicial/lib/python3.10/site-packages/prompt_toolkit/shortcuts/progress_bar/__init__.py\": 1673812951.8766606, \"/Users/mpiekenbrock/opt/miniconda3/envs/simplicial/lib/python3.10/site-packages/prompt_toolkit/key_binding/bindings/auto_suggest.py\": 1673812951.8637576, \"/Users/mpiekenbrock/opt/miniconda3/envs/simplicial/lib/python3.10/site-packages/prompt_toolkit/key_binding/bindings/open_in_editor.py\": 1673812951.8658972, \"/Users/mpiekenbrock/opt/miniconda3/envs/simplicial/lib/python3.10/site-packages/prompt_toolkit/shortcuts/prompt.py\": 1673812951.8760834, \"/Users/mpiekenbrock/opt/miniconda3/envs/simplicial/lib/python3.10/site-packages/prompt_toolkit/shortcuts/utils.py\": 1673812951.8763516, \"/Users/mpiekenbrock/opt/miniconda3/envs/simplicial/lib/python3.10/site-packages/prompt_toolkit/shortcuts/__init__.py\": 1673812951.875434, \"/Users/mpiekenbrock/opt/miniconda3/envs/simplicial/lib/python3.10/site-packages/prompt_toolkit/__init__.py\": 1673812951.839, \"/Users/mpiekenbrock/opt/miniconda3/envs/simplicial/lib/python3.10/site-packages/prompt_toolkit/patch_stdout.py\": 1673812951.8425996, \"/Users/mpiekenbrock/opt/miniconda3/envs/simplicial/lib/python3.10/lib-dynload/unicodedata.cpython-310-darwin.so\": 1665174158.0, \"/Users/mpiekenbrock/opt/miniconda3/envs/simplicial/lib/python3.10/site-packages/IPython/core/guarded_eval.py\": 1673812953.9539318, \"/Users/mpiekenbrock/opt/miniconda3/envs/simplicial/lib/python3.10/site-packages/IPython/core/latex_symbols.py\": 1673812953.957021, \"/Users/mpiekenbrock/opt/miniconda3/envs/simplicial/lib/python3.10/site-packages/IPython/utils/generics.py\": 1673812954.0182397, \"/Users/mpiekenbrock/opt/miniconda3/envs/simplicial/lib/python3.10/site-packages/parso/utils.py\": 1673812952.1252205, \"/Users/mpiekenbrock/opt/miniconda3/envs/simplicial/lib/python3.10/site-packages/parso/tree.py\": 1673812952.124936, \"/Users/mpiekenbrock/opt/miniconda3/envs/simplicial/lib/python3.10/site-packages/parso/python/__init__.py\": 1673812952.126532, \"/Users/mpiekenbrock/opt/miniconda3/envs/simplicial/lib/python3.10/site-packages/parso/python/token.py\": 1673812952.1305811, \"/Users/mpiekenbrock/opt/miniconda3/envs/simplicial/lib/python3.10/site-packages/parso/python/tokenize.py\": 1673812952.1308992, \"/Users/mpiekenbrock/opt/miniconda3/envs/simplicial/lib/python3.10/site-packages/parso/pgen2/grammar_parser.py\": 1673812952.126301, \"/Users/mpiekenbrock/opt/miniconda3/envs/simplicial/lib/python3.10/site-packages/parso/pgen2/generator.py\": 1673812952.1258838, \"/Users/mpiekenbrock/opt/miniconda3/envs/simplicial/lib/python3.10/site-packages/parso/pgen2/__init__.py\": 1673812952.1255763, \"/Users/mpiekenbrock/opt/miniconda3/envs/simplicial/lib/python3.10/site-packages/parso/parser.py\": 1673812952.1244648, \"/Users/mpiekenbrock/opt/miniconda3/envs/simplicial/lib/python3.10/site-packages/parso/_compatibility.py\": 1673812952.1231604, \"/Users/mpiekenbrock/opt/miniconda3/envs/simplicial/lib/python3.10/difflib.py\": 1665174127.0, \"/Users/mpiekenbrock/opt/miniconda3/envs/simplicial/lib/python3.10/site-packages/parso/python/prefix.py\": 1673812952.1302893, \"/Users/mpiekenbrock/opt/miniconda3/envs/simplicial/lib/python3.10/site-packages/parso/python/tree.py\": 1673812952.131256, \"/Users/mpiekenbrock/opt/miniconda3/envs/simplicial/lib/python3.10/site-packages/parso/python/parser.py\": 1673812952.1297195, \"/Users/mpiekenbrock/opt/miniconda3/envs/simplicial/lib/python3.10/site-packages/parso/python/diff.py\": 1673812952.1269252, \"/Users/mpiekenbrock/opt/miniconda3/envs/simplicial/lib/python3.10/site-packages/parso/cache.py\": 1673812952.12342, \"/Users/mpiekenbrock/opt/miniconda3/envs/simplicial/lib/python3.10/site-packages/parso/normalizer.py\": 1673812952.1242008, \"/Users/mpiekenbrock/opt/miniconda3/envs/simplicial/lib/python3.10/site-packages/parso/python/errors.py\": 1673812952.1273384, \"/Users/mpiekenbrock/opt/miniconda3/envs/simplicial/lib/python3.10/site-packages/parso/python/pep8.py\": 1673812952.1300442, \"/Users/mpiekenbrock/opt/miniconda3/envs/simplicial/lib/python3.10/site-packages/parso/file_io.py\": 1673812952.1236699, \"/Users/mpiekenbrock/opt/miniconda3/envs/simplicial/lib/python3.10/site-packages/parso/grammar.py\": 1673812952.1239388, \"/Users/mpiekenbrock/opt/miniconda3/envs/simplicial/lib/python3.10/site-packages/parso/__init__.py\": 1673812952.122865, \"/Users/mpiekenbrock/opt/miniconda3/envs/simplicial/lib/python3.10/site-packages/jedi/parser_utils.py\": 1673812953.0891428, \"/Users/mpiekenbrock/opt/miniconda3/envs/simplicial/lib/python3.10/site-packages/jedi/debug.py\": 1673812953.0883505, \"/Users/mpiekenbrock/opt/miniconda3/envs/simplicial/lib/python3.10/site-packages/jedi/settings.py\": 1673812953.089638, \"/Users/mpiekenbrock/opt/miniconda3/envs/simplicial/lib/python3.10/site-packages/jedi/cache.py\": 1673812953.0876045, \"/Users/mpiekenbrock/opt/miniconda3/envs/simplicial/lib/python3.10/site-packages/jedi/file_io.py\": 1673812953.0887084, \"/Users/mpiekenbrock/opt/miniconda3/envs/simplicial/lib/python3.10/site-packages/jedi/inference/cache.py\": 1673812953.1011448, \"/Users/mpiekenbrock/opt/miniconda3/envs/simplicial/lib/python3.10/site-packages/jedi/inference/helpers.py\": 1673812953.1044831, \"/Users/mpiekenbrock/opt/miniconda3/envs/simplicial/lib/python3.10/site-packages/jedi/inference/utils.py\": 1673812953.110442, \"/Users/mpiekenbrock/opt/miniconda3/envs/simplicial/lib/python3.10/site-packages/jedi/inference/base_value.py\": 1673812953.1005487, \"/Users/mpiekenbrock/opt/miniconda3/envs/simplicial/lib/python3.10/site-packages/jedi/inference/sys_path.py\": 1673812953.1100059, \"/Users/mpiekenbrock/opt/miniconda3/envs/simplicial/lib/python3.10/site-packages/jedi/inference/recursion.py\": 1673812953.1076858, \"/Users/mpiekenbrock/opt/miniconda3/envs/simplicial/lib/python3.10/site-packages/jedi/inference/flow_analysis.py\": 1673812953.1038804, \"/Users/mpiekenbrock/opt/miniconda3/envs/simplicial/lib/python3.10/site-packages/jedi/common.py\": 1673812953.0879202, \"/Users/mpiekenbrock/opt/miniconda3/envs/simplicial/lib/python3.10/site-packages/jedi/inference/lazy_value.py\": 1673812953.10561, \"/Users/mpiekenbrock/opt/miniconda3/envs/simplicial/lib/python3.10/site-packages/jedi/inference/docstrings.py\": 1673812953.1023047, \"/Users/mpiekenbrock/opt/miniconda3/envs/simplicial/lib/python3.10/site-packages/jedi/plugins/__init__.py\": 1673812953.1217246, \"/Users/mpiekenbrock/opt/miniconda3/envs/simplicial/lib/python3.10/site-packages/jedi/inference/names.py\": 1673812953.106055, \"/Users/mpiekenbrock/opt/miniconda3/envs/simplicial/lib/python3.10/site-packages/jedi/inference/filters.py\": 1673812953.103203, \"/Users/mpiekenbrock/opt/miniconda3/envs/simplicial/lib/python3.10/site-packages/jedi/inference/compiled/getattr_static.py\": 1673812953.111706, \"/Users/mpiekenbrock/opt/miniconda3/envs/simplicial/lib/python3.10/site-packages/jedi/inference/compiled/access.py\": 1673812953.1112616, \"/Users/mpiekenbrock/opt/miniconda3/envs/simplicial/lib/python3.10/site-packages/jedi/inference/signature.py\": 1673812953.1085985, \"/Users/mpiekenbrock/opt/miniconda3/envs/simplicial/lib/python3.10/site-packages/jedi/inference/context.py\": 1673812953.101546, \"/Users/mpiekenbrock/opt/miniconda3/envs/simplicial/lib/python3.10/site-packages/jedi/inference/compiled/value.py\": 1673812953.1124423, \"/Users/mpiekenbrock/opt/miniconda3/envs/simplicial/lib/python3.10/site-packages/jedi/inference/compiled/__init__.py\": 1673812953.1109297, \"/Users/mpiekenbrock/opt/miniconda3/envs/simplicial/lib/python3.10/site-packages/jedi/inference/analysis.py\": 1673812953.0996172, \"/Users/mpiekenbrock/opt/miniconda3/envs/simplicial/lib/python3.10/site-packages/jedi/inference/gradual/__init__.py\": 1673812953.1140323, \"/Users/mpiekenbrock/opt/miniconda3/envs/simplicial/lib/python3.10/site-packages/jedi/inference/value/module.py\": 1673812953.1210475, \"/Users/mpiekenbrock/opt/miniconda3/envs/simplicial/lib/python3.10/site-packages/jedi/inference/value/dynamic_arrays.py\": 1673812953.1188676, \"/Users/mpiekenbrock/opt/miniconda3/envs/simplicial/lib/python3.10/site-packages/jedi/inference/value/iterable.py\": 1673812953.1201468, \"/Users/mpiekenbrock/opt/miniconda3/envs/simplicial/lib/python3.10/site-packages/jedi/inference/arguments.py\": 1673812953.1000304, \"/Users/mpiekenbrock/opt/miniconda3/envs/simplicial/lib/python3.10/site-packages/jedi/inference/parser_cache.py\": 1673812953.1071942, \"/Users/mpiekenbrock/opt/miniconda3/envs/simplicial/lib/python3.10/site-packages/jedi/inference/gradual/generics.py\": 1673812953.1156323, \"/Users/mpiekenbrock/opt/miniconda3/envs/simplicial/lib/python3.10/site-packages/jedi/inference/value/function.py\": 1673812953.119219, \"/Users/mpiekenbrock/opt/miniconda3/envs/simplicial/lib/python3.10/site-packages/jedi/inference/value/klass.py\": 1673812953.120676, \"/Users/mpiekenbrock/opt/miniconda3/envs/simplicial/lib/python3.10/site-packages/jedi/inference/value/instance.py\": 1673812953.119603, \"/Users/mpiekenbrock/opt/miniconda3/envs/simplicial/lib/python3.10/site-packages/jedi/inference/value/__init__.py\": 1673812953.1179898, \"/Users/mpiekenbrock/opt/miniconda3/envs/simplicial/lib/python3.10/site-packages/jedi/inference/gradual/base.py\": 1673812953.1149144, \"/Users/mpiekenbrock/opt/miniconda3/envs/simplicial/lib/python3.10/site-packages/jedi/inference/gradual/type_var.py\": 1673812953.1164541, \"/Users/mpiekenbrock/opt/miniconda3/envs/simplicial/lib/python3.10/site-packages/jedi/inference/gradual/typing.py\": 1673812953.1173332, \"/Users/mpiekenbrock/opt/miniconda3/envs/simplicial/lib/python3.10/site-packages/jedi/inference/gradual/stub_value.py\": 1673812953.116043, \"/Users/mpiekenbrock/opt/miniconda3/envs/simplicial/lib/python3.10/site-packages/jedi/inference/gradual/typeshed.py\": 1673812953.1168978, \"/Users/mpiekenbrock/opt/miniconda3/envs/simplicial/lib/python3.10/site-packages/jedi/_compatibility.py\": 1673812953.0872488, \"/Users/mpiekenbrock/opt/miniconda3/envs/simplicial/lib/python3.10/site-packages/jedi/inference/compiled/subprocess/functions.py\": 1673812953.1136127, \"/Users/mpiekenbrock/opt/miniconda3/envs/simplicial/lib/python3.10/site-packages/jedi/api/exceptions.py\": 1673812953.0941052, \"/Users/mpiekenbrock/opt/miniconda3/envs/simplicial/lib/python3.10/site-packages/jedi/inference/compiled/subprocess/__init__.py\": 1673812953.112815, \"/Users/mpiekenbrock/opt/miniconda3/envs/simplicial/lib/python3.10/site-packages/jedi/inference/imports.py\": 1673812953.1050806, \"/Users/mpiekenbrock/opt/miniconda3/envs/simplicial/lib/python3.10/site-packages/jedi/inference/param.py\": 1673812953.1067274, \"/Users/mpiekenbrock/opt/miniconda3/envs/simplicial/lib/python3.10/site-packages/jedi/inference/gradual/annotation.py\": 1673812953.1144264, \"/Users/mpiekenbrock/opt/miniconda3/envs/simplicial/lib/python3.10/site-packages/jedi/inference/value/decorator.py\": 1673812953.11828, \"/Users/mpiekenbrock/opt/miniconda3/envs/simplicial/lib/python3.10/site-packages/jedi/inference/syntax_tree.py\": 1673812953.109581, \"/Users/mpiekenbrock/opt/miniconda3/envs/simplicial/lib/python3.10/site-packages/jedi/inference/__init__.py\": 1673812953.0991876, \"/Users/mpiekenbrock/opt/miniconda3/envs/simplicial/lib/python3.10/site-packages/jedi/inference/gradual/conversion.py\": 1673812953.1152687, \"/Users/mpiekenbrock/opt/miniconda3/envs/simplicial/lib/python3.10/site-packages/jedi/inference/compiled/mixed.py\": 1673812953.1120632, \"/Users/mpiekenbrock/opt/miniconda3/envs/simplicial/lib/python3.10/pydoc_data/__init__.py\": 1665174129.0, \"/Users/mpiekenbrock/opt/miniconda3/envs/simplicial/lib/python3.10/pydoc_data/topics.py\": 1665174129.0, \"/Users/mpiekenbrock/opt/miniconda3/envs/simplicial/lib/python3.10/site-packages/jedi/api/keywords.py\": 1673812953.0960681, \"/Users/mpiekenbrock/opt/miniconda3/envs/simplicial/lib/python3.10/site-packages/jedi/api/completion_cache.py\": 1673812953.092386, \"/Users/mpiekenbrock/opt/miniconda3/envs/simplicial/lib/python3.10/site-packages/jedi/api/helpers.py\": 1673812953.0951138, \"/Users/mpiekenbrock/opt/miniconda3/envs/simplicial/lib/python3.10/site-packages/jedi/api/classes.py\": 1673812953.0914686, \"/Users/mpiekenbrock/opt/miniconda3/envs/simplicial/lib/python3.10/site-packages/jedi/api/interpreter.py\": 1673812953.095598, \"/Users/mpiekenbrock/opt/miniconda3/envs/simplicial/lib/python3.10/site-packages/jedi/api/strings.py\": 1673812953.0974498, \"/Users/mpiekenbrock/opt/miniconda3/envs/simplicial/lib/python3.10/site-packages/jedi/api/file_name.py\": 1673812953.0945485, \"/Users/mpiekenbrock/opt/miniconda3/envs/simplicial/lib/python3.10/site-packages/jedi/inference/docstring_utils.py\": 1673812953.1018698, \"/Users/mpiekenbrock/opt/miniconda3/envs/simplicial/lib/python3.10/site-packages/jedi/api/completion.py\": 1673812953.0919948, \"/Users/mpiekenbrock/opt/miniconda3/envs/simplicial/lib/python3.10/filecmp.py\": 1665174127.0, \"/Users/mpiekenbrock/opt/miniconda3/envs/simplicial/lib/python3.10/site-packages/jedi/api/environment.py\": 1673812953.0930269, \"/Users/mpiekenbrock/opt/miniconda3/envs/simplicial/lib/python3.10/site-packages/jedi/inference/references.py\": 1673812953.1081288, \"/Users/mpiekenbrock/opt/miniconda3/envs/simplicial/lib/python3.10/site-packages/jedi/api/project.py\": 1673812953.096555, \"/Users/mpiekenbrock/opt/miniconda3/envs/simplicial/lib/python3.10/site-packages/jedi/api/errors.py\": 1673812953.0936956, \"/Users/mpiekenbrock/opt/miniconda3/envs/simplicial/lib/python3.10/site-packages/jedi/api/refactoring/__init__.py\": 1673812953.0980678, \"/Users/mpiekenbrock/opt/miniconda3/envs/simplicial/lib/python3.10/site-packages/jedi/api/refactoring/extract.py\": 1673812953.0986493, \"/Users/mpiekenbrock/opt/miniconda3/envs/simplicial/lib/python3.10/site-packages/jedi/inference/gradual/utils.py\": 1673812953.117625, \"/Users/mpiekenbrock/opt/miniconda3/envs/simplicial/lib/python3.10/site-packages/jedi/api/__init__.py\": 1673812953.0908935, \"/Users/mpiekenbrock/opt/miniconda3/envs/simplicial/lib/python3.10/site-packages/jedi/plugins/stdlib.py\": 1673812953.1234822, \"/Users/mpiekenbrock/opt/miniconda3/envs/simplicial/lib/python3.10/site-packages/jedi/plugins/flask.py\": 1673812953.1223521, \"/Users/mpiekenbrock/opt/miniconda3/envs/simplicial/lib/python3.10/site-packages/jedi/plugins/pytest.py\": 1673812953.1226275, \"/Users/mpiekenbrock/opt/miniconda3/envs/simplicial/lib/python3.10/site-packages/jedi/plugins/django.py\": 1673812953.1220884, \"/Users/mpiekenbrock/opt/miniconda3/envs/simplicial/lib/python3.10/site-packages/jedi/plugins/registry.py\": 1673812953.1230114, \"/Users/mpiekenbrock/opt/miniconda3/envs/simplicial/lib/python3.10/site-packages/jedi/__init__.py\": 1673812953.0864925, \"/Users/mpiekenbrock/opt/miniconda3/envs/simplicial/lib/python3.10/site-packages/IPython/core/completer.py\": 1673812953.9494188, \"/Users/mpiekenbrock/opt/miniconda3/envs/simplicial/lib/python3.10/site-packages/IPython/terminal/ptutils.py\": 1673812953.998931, \"/Users/mpiekenbrock/opt/miniconda3/envs/simplicial/lib/python3.10/site-packages/IPython/terminal/shortcuts.py\": 1673812953.9994485, \"/Users/mpiekenbrock/opt/miniconda3/envs/simplicial/lib/python3.10/concurrent/futures/thread.py\": 1665174127.0, \"/Users/mpiekenbrock/opt/miniconda3/envs/simplicial/lib/python3.10/site-packages/IPython/terminal/debugger.py\": 1673812953.9963377, \"/Users/mpiekenbrock/opt/miniconda3/envs/simplicial/lib/python3.10/site-packages/IPython/lib/clipboard.py\": 1673812953.9888957, \"/Users/mpiekenbrock/opt/miniconda3/envs/simplicial/lib/python3.10/site-packages/IPython/terminal/magics.py\": 1673812953.998015, \"/Users/mpiekenbrock/opt/miniconda3/envs/simplicial/lib/python3.10/site-packages/IPython/terminal/pt_inputhooks/__init__.py\": 1673812953.9998655, \"/Users/mpiekenbrock/opt/miniconda3/envs/simplicial/lib/python3.10/site-packages/IPython/terminal/prompts.py\": 1673812953.9984808, \"/Users/mpiekenbrock/opt/miniconda3/envs/simplicial/lib/python3.10/site-packages/IPython/terminal/interactiveshell.py\": 1673812953.9972866, \"/Users/mpiekenbrock/opt/miniconda3/envs/simplicial/lib/python3.10/site-packages/IPython/core/magics/auto.py\": 1673812953.9632788, \"/Users/mpiekenbrock/opt/miniconda3/envs/simplicial/lib/python3.10/site-packages/IPython/core/magics/basic.py\": 1673812953.96359, \"/Users/mpiekenbrock/opt/miniconda3/envs/simplicial/lib/python3.10/email/__init__.py\": 1665174128.0, \"/Users/mpiekenbrock/opt/miniconda3/envs/simplicial/lib/python3.10/http/__init__.py\": 1665174128.0, \"/Users/mpiekenbrock/opt/miniconda3/envs/simplicial/lib/python3.10/email/errors.py\": 1665174128.0, \"/Users/mpiekenbrock/opt/miniconda3/envs/simplicial/lib/python3.10/email/quoprimime.py\": 1665174128.0, \"/Users/mpiekenbrock/opt/miniconda3/envs/simplicial/lib/python3.10/email/base64mime.py\": 1665174128.0, \"/Users/mpiekenbrock/opt/miniconda3/envs/simplicial/lib/python3.10/quopri.py\": 1665174127.0, \"/Users/mpiekenbrock/opt/miniconda3/envs/simplicial/lib/python3.10/email/encoders.py\": 1665174128.0, \"/Users/mpiekenbrock/opt/miniconda3/envs/simplicial/lib/python3.10/email/charset.py\": 1665174128.0, \"/Users/mpiekenbrock/opt/miniconda3/envs/simplicial/lib/python3.10/email/header.py\": 1665174128.0, \"/Users/mpiekenbrock/opt/miniconda3/envs/simplicial/lib/python3.10/email/_parseaddr.py\": 1665174128.0, \"/Users/mpiekenbrock/opt/miniconda3/envs/simplicial/lib/python3.10/email/utils.py\": 1665174128.0, \"/Users/mpiekenbrock/opt/miniconda3/envs/simplicial/lib/python3.10/email/_policybase.py\": 1665174128.0, \"/Users/mpiekenbrock/opt/miniconda3/envs/simplicial/lib/python3.10/email/feedparser.py\": 1665174128.0, \"/Users/mpiekenbrock/opt/miniconda3/envs/simplicial/lib/python3.10/email/parser.py\": 1665174128.0, \"/Users/mpiekenbrock/opt/miniconda3/envs/simplicial/lib/python3.10/uu.py\": 1665174127.0, \"/Users/mpiekenbrock/opt/miniconda3/envs/simplicial/lib/python3.10/email/_encoded_words.py\": 1665174128.0, \"/Users/mpiekenbrock/opt/miniconda3/envs/simplicial/lib/python3.10/email/iterators.py\": 1665174128.0, \"/Users/mpiekenbrock/opt/miniconda3/envs/simplicial/lib/python3.10/email/message.py\": 1665174128.0, \"/Users/mpiekenbrock/opt/miniconda3/envs/simplicial/lib/python3.10/http/client.py\": 1665174128.0, \"/Users/mpiekenbrock/opt/miniconda3/envs/simplicial/lib/python3.10/urllib/response.py\": 1665174129.0, \"/Users/mpiekenbrock/opt/miniconda3/envs/simplicial/lib/python3.10/urllib/error.py\": 1665174129.0, \"/Users/mpiekenbrock/opt/miniconda3/envs/simplicial/lib/python3.10/lib-dynload/_scproxy.cpython-310-darwin.so\": 1665174154.0, \"/Users/mpiekenbrock/opt/miniconda3/envs/simplicial/lib/python3.10/urllib/request.py\": 1665174129.0, \"/Users/mpiekenbrock/opt/miniconda3/envs/simplicial/lib/python3.10/site-packages/IPython/utils/contexts.py\": 1673812954.0158372, \"/Users/mpiekenbrock/opt/miniconda3/envs/simplicial/lib/python3.10/site-packages/IPython/core/magics/code.py\": 1673812953.9639268, \"/Users/mpiekenbrock/opt/miniconda3/envs/simplicial/lib/python3.10/site-packages/IPython/core/magics/config.py\": 1673812953.9642882, \"/Users/mpiekenbrock/opt/miniconda3/envs/simplicial/lib/python3.10/site-packages/IPython/core/magics/display.py\": 1673812953.964527, \"/Users/mpiekenbrock/opt/miniconda3/envs/simplicial/lib/python3.10/lib-dynload/_lsprof.cpython-310-darwin.so\": 1665174154.0, \"/Users/mpiekenbrock/opt/miniconda3/envs/simplicial/lib/python3.10/profile.py\": 1665174127.0, \"/Users/mpiekenbrock/opt/miniconda3/envs/simplicial/lib/python3.10/cProfile.py\": 1665174127.0, \"/Users/mpiekenbrock/opt/miniconda3/envs/simplicial/lib/python3.10/pstats.py\": 1665174127.0, \"/Users/mpiekenbrock/opt/miniconda3/envs/simplicial/lib/python3.10/timeit.py\": 1665174127.0, \"/Users/mpiekenbrock/opt/miniconda3/envs/simplicial/lib/python3.10/site-packages/IPython/utils/module_paths.py\": 1673812954.020709, \"/Users/mpiekenbrock/opt/miniconda3/envs/simplicial/lib/python3.10/site-packages/IPython/utils/timing.py\": 1673812954.025091, \"/Users/mpiekenbrock/opt/miniconda3/envs/simplicial/lib/python3.10/site-packages/IPython/core/magics/execution.py\": 1673812953.9649749, \"/Users/mpiekenbrock/opt/miniconda3/envs/simplicial/lib/python3.10/site-packages/IPython/core/magics/extension.py\": 1673812953.9652317, \"/Users/mpiekenbrock/opt/miniconda3/envs/simplicial/lib/python3.10/site-packages/IPython/core/magics/history.py\": 1673812953.965509, \"/Users/mpiekenbrock/opt/miniconda3/envs/simplicial/lib/python3.10/site-packages/IPython/core/magics/logging.py\": 1673812953.9658313, \"/Users/mpiekenbrock/opt/miniconda3/envs/simplicial/lib/python3.10/site-packages/IPython/core/magics/namespace.py\": 1673812953.9661582, \"/Users/mpiekenbrock/opt/miniconda3/envs/simplicial/lib/python3.10/site-packages/IPython/core/magics/osm.py\": 1673812953.9665058, \"/Users/mpiekenbrock/opt/miniconda3/envs/simplicial/lib/python3.10/site-packages/IPython/core/magics/packaging.py\": 1673812953.9668248, \"/Users/mpiekenbrock/opt/miniconda3/envs/simplicial/lib/python3.10/site-packages/IPython/core/pylabtools.py\": 1673812953.9610095, \"/Users/mpiekenbrock/opt/miniconda3/envs/simplicial/lib/python3.10/site-packages/IPython/core/magics/pylab.py\": 1673812953.9670856, \"/Users/mpiekenbrock/opt/miniconda3/envs/simplicial/lib/python3.10/site-packages/IPython/core/magics/script.py\": 1673812953.9673545, \"/Users/mpiekenbrock/opt/miniconda3/envs/simplicial/lib/python3.10/site-packages/IPython/core/magics/__init__.py\": 1673812953.9629848, \"/Users/mpiekenbrock/opt/miniconda3/envs/simplicial/lib/python3.10/site-packages/IPython/core/shellapp.py\": 1673812953.9616635, \"/Users/mpiekenbrock/opt/miniconda3/envs/simplicial/lib/python3.10/site-packages/IPython/extensions/__init__.py\": 1673812953.9846523, \"/Users/mpiekenbrock/opt/miniconda3/envs/simplicial/lib/python3.10/site-packages/IPython/extensions/storemagic.py\": 1673812953.9855235, \"/Users/mpiekenbrock/opt/miniconda3/envs/simplicial/lib/python3.10/site-packages/IPython/terminal/ipapp.py\": 1673812953.997649, \"/Users/mpiekenbrock/opt/miniconda3/envs/simplicial/lib/python3.10/site-packages/IPython/terminal/embed.py\": 1673812953.9968596, \"/Users/mpiekenbrock/opt/miniconda3/envs/simplicial/lib/python3.10/site-packages/IPython/utils/frame.py\": 1673812954.0179873, \"/Users/mpiekenbrock/opt/miniconda3/envs/simplicial/lib/python3.10/site-packages/IPython/__init__.py\": 1673812953.9455009, \"/Users/mpiekenbrock/opt/miniconda3/envs/simplicial/lib/python3.10/site-packages/ipykernel/control.py\": 1673812954.4057908, \"/Users/mpiekenbrock/opt/miniconda3/envs/simplicial/lib/python3.10/site-packages/ipykernel/heartbeat.py\": 1673812954.4075284, \"/Users/mpiekenbrock/opt/miniconda3/envs/simplicial/lib/python3.10/site-packages/ipykernel/iostream.py\": 1673812954.4078262, \"/Users/mpiekenbrock/opt/miniconda3/envs/simplicial/lib/python3.10/site-packages/comm/base_comm.py\": 1673812953.8179448, \"/Users/mpiekenbrock/opt/miniconda3/envs/simplicial/lib/python3.10/site-packages/comm/__init__.py\": 1673812953.8176682, \"/Users/mpiekenbrock/opt/miniconda3/envs/simplicial/lib/python3.10/site-packages/IPython/utils/tokenutil.py\": 1673812954.0254533, \"/Users/mpiekenbrock/opt/miniconda3/envs/simplicial/lib/python3.10/site-packages/ipykernel/jsonutil.py\": 1673812954.4084458, \"/Users/mpiekenbrock/opt/miniconda3/envs/simplicial/lib/python3.10/site-packages/psutil/_common.py\": 1673812951.7106345, \"/Users/mpiekenbrock/opt/miniconda3/envs/simplicial/lib/python3.10/site-packages/psutil/_compat.py\": 1673812951.713018, \"/Users/mpiekenbrock/opt/miniconda3/envs/simplicial/lib/python3.10/site-packages/psutil/_psutil_osx.abi3.so\": 1673812951.7101974, \"/Users/mpiekenbrock/opt/miniconda3/envs/simplicial/lib/python3.10/site-packages/psutil/_psposix.py\": 1673812951.7132893, \"/Users/mpiekenbrock/opt/miniconda3/envs/simplicial/lib/python3.10/site-packages/psutil/_psutil_posix.abi3.so\": 1673812951.7092714, \"/Users/mpiekenbrock/opt/miniconda3/envs/simplicial/lib/python3.10/site-packages/psutil/_psosx.py\": 1673812951.7115066, \"/Users/mpiekenbrock/opt/miniconda3/envs/simplicial/lib/python3.10/site-packages/psutil/__init__.py\": 1673812951.7111983, \"/Users/mpiekenbrock/opt/miniconda3/envs/simplicial/lib/python3.10/site-packages/tornado/gen.py\": 1673812950.6495461, \"/Users/mpiekenbrock/opt/miniconda3/envs/simplicial/lib/python3.10/site-packages/tornado/locks.py\": 1673812950.6512334, \"/Users/mpiekenbrock/opt/miniconda3/envs/simplicial/lib/python3.10/site-packages/tornado/queues.py\": 1673812950.6484077, \"/Users/mpiekenbrock/opt/miniconda3/envs/simplicial/lib/python3.10/site-packages/ipykernel/kernelbase.py\": 1673812954.4092066, \"/Users/mpiekenbrock/opt/miniconda3/envs/simplicial/lib/python3.10/site-packages/ipykernel/comm/comm.py\": 1673812954.4118476, \"/Users/mpiekenbrock/opt/miniconda3/envs/simplicial/lib/python3.10/site-packages/ipykernel/comm/manager.py\": 1673812954.41211, \"/Users/mpiekenbrock/opt/miniconda3/envs/simplicial/lib/python3.10/site-packages/ipykernel/comm/__init__.py\": 1673812954.4115725, \"/Users/mpiekenbrock/opt/miniconda3/envs/simplicial/lib/python3.10/site-packages/ipykernel/compiler.py\": 1673812954.4052749, \"/Users/mpiekenbrock/opt/miniconda3/envs/simplicial/lib/python3.10/site-packages/debugpy/_version.py\": 1673812952.229278, \"/Users/mpiekenbrock/opt/miniconda3/envs/simplicial/lib/python3.10/site-packages/debugpy/public_api.py\": 1673812952.2296188, \"/Users/mpiekenbrock/opt/miniconda3/envs/simplicial/lib/python3.10/site-packages/debugpy/__init__.py\": 1673812952.2285101, \"/Users/mpiekenbrock/opt/miniconda3/envs/simplicial/lib/python3.10/site-packages/debugpy/_vendored/_util.py\": 1673812952.2310457, \"/Users/mpiekenbrock/opt/miniconda3/envs/simplicial/lib/python3.10/site-packages/debugpy/_vendored/__init__.py\": 1673812952.230139, \"/Users/mpiekenbrock/opt/miniconda3/envs/simplicial/lib/python3.10/site-packages/debugpy/_vendored/pydevd/_pydevd_bundle/__init__.py\": 1673812952.2477357, \"/Users/mpiekenbrock/opt/miniconda3/envs/simplicial/lib/python3.10/encodings/ascii.py\": 1665174128.0, \"/Users/mpiekenbrock/opt/miniconda3/envs/simplicial/lib/python3.10/encodings/latin_1.py\": 1665174128.0, \"/Users/mpiekenbrock/opt/miniconda3/envs/simplicial/lib/python3.10/stringprep.py\": 1665174127.0, \"/Users/mpiekenbrock/opt/miniconda3/envs/simplicial/lib/python3.10/encodings/idna.py\": 1665174128.0, \"/Users/mpiekenbrock/opt/miniconda3/envs/simplicial/lib/python3.10/site-packages/debugpy/_vendored/pydevd/_pydevd_bundle/pydevd_vm_type.py\": 1673812952.285453, \"/Users/mpiekenbrock/opt/miniconda3/envs/simplicial/lib/python3.10/site-packages/debugpy/_vendored/pydevd/_pydev_bundle/__init__.py\": 1673812952.2368257, \"/Users/mpiekenbrock/opt/miniconda3/envs/simplicial/lib/python3.10/xmlrpc/__init__.py\": 1665174129.0, \"/Users/mpiekenbrock/opt/miniconda3/envs/simplicial/lib/python3.10/xml/parsers/__init__.py\": 1665174129.0, \"/Users/mpiekenbrock/opt/miniconda3/envs/simplicial/lib/python3.10/lib-dynload/pyexpat.cpython-310-darwin.so\": 1665174158.0, \"/Users/mpiekenbrock/opt/miniconda3/envs/simplicial/lib/python3.10/xml/parsers/expat.py\": 1665174129.0, \"/Users/mpiekenbrock/opt/miniconda3/envs/simplicial/lib/python3.10/gzip.py\": 1665174127.0, \"/Users/mpiekenbrock/opt/miniconda3/envs/simplicial/lib/python3.10/xmlrpc/client.py\": 1665174129.0, \"/Users/mpiekenbrock/opt/miniconda3/envs/simplicial/lib/python3.10/http/server.py\": 1665174128.0, \"/Users/mpiekenbrock/opt/miniconda3/envs/simplicial/lib/python3.10/xmlrpc/server.py\": 1665174129.0, \"/Users/mpiekenbrock/opt/miniconda3/envs/simplicial/lib/python3.10/site-packages/debugpy/_vendored/pydevd/_pydev_bundle/_pydev_saved_modules.py\": 1673812952.239729, \"/Users/mpiekenbrock/opt/miniconda3/envs/simplicial/lib/python3.10/site-packages/debugpy/_vendored/pydevd/_pydevd_bundle/pydevd_constants.py\": 1673812952.2532885, \"/Users/mpiekenbrock/opt/miniconda3/envs/simplicial/lib/python3.10/site-packages/debugpy/_vendored/pydevd/_pydev_runfiles/__init__.py\": 1673812952.24489, \"/Users/mpiekenbrock/opt/miniconda3/envs/simplicial/lib/python3.10/site-packages/debugpy/_vendored/pydevd/_pydevd_frame_eval/__init__.py\": 1673812952.2931554, \"/Users/mpiekenbrock/opt/miniconda3/envs/simplicial/lib/python3.10/site-packages/debugpy/_vendored/pydevd/pydev_ipython/__init__.py\": 1673812952.3106408, \"/Users/mpiekenbrock/opt/miniconda3/envs/simplicial/lib/python3.10/plistlib.py\": 1665174127.0, \"/Users/mpiekenbrock/opt/miniconda3/envs/simplicial/lib/python3.10/site-packages/pkg_resources/extern/__init__.py\": 1659543724.0, \"/Users/mpiekenbrock/opt/miniconda3/envs/simplicial/lib/python3.10/site-packages/pkg_resources/_vendor/__init__.py\": 1659543724.0, \"/Users/mpiekenbrock/opt/miniconda3/envs/simplicial/lib/python3.10/site-packages/pkg_resources/_vendor/jaraco/__init__.py\": 1659543724.0, \"/Users/mpiekenbrock/opt/miniconda3/envs/simplicial/lib/python3.10/importlib/abc.py\": 1665174128.0, \"/Users/mpiekenbrock/opt/miniconda3/envs/simplicial/lib/python3.10/importlib/_adapters.py\": 1665174128.0, \"/Users/mpiekenbrock/opt/miniconda3/envs/simplicial/lib/python3.10/importlib/_common.py\": 1665174128.0, \"/Users/mpiekenbrock/opt/miniconda3/envs/simplicial/lib/python3.10/importlib/resources.py\": 1665174128.0, \"/Users/mpiekenbrock/opt/miniconda3/envs/simplicial/lib/python3.10/site-packages/pkg_resources/_vendor/more_itertools/recipes.py\": 1659543724.0, \"/Users/mpiekenbrock/opt/miniconda3/envs/simplicial/lib/python3.10/site-packages/pkg_resources/_vendor/more_itertools/more.py\": 1659543724.0, \"/Users/mpiekenbrock/opt/miniconda3/envs/simplicial/lib/python3.10/site-packages/pkg_resources/_vendor/more_itertools/__init__.py\": 1659543724.0, \"/Users/mpiekenbrock/opt/miniconda3/envs/simplicial/lib/python3.10/site-packages/pkg_resources/_vendor/jaraco/functools.py\": 1659543724.0, \"/Users/mpiekenbrock/opt/miniconda3/envs/simplicial/lib/python3.10/site-packages/pkg_resources/_vendor/jaraco/context.py\": 1659543724.0, \"/Users/mpiekenbrock/opt/miniconda3/envs/simplicial/lib/python3.10/site-packages/pkg_resources/_vendor/jaraco/text/__init__.py\": 1659543724.0, \"/Users/mpiekenbrock/opt/miniconda3/envs/simplicial/lib/python3.10/site-packages/pkg_resources/_vendor/appdirs.py\": 1659543724.0, \"/Users/mpiekenbrock/opt/miniconda3/envs/simplicial/lib/python3.10/site-packages/pkg_resources/_vendor/packaging/__about__.py\": 1659543724.0, \"/Users/mpiekenbrock/opt/miniconda3/envs/simplicial/lib/python3.10/site-packages/pkg_resources/_vendor/packaging/__init__.py\": 1659543724.0, \"/Users/mpiekenbrock/opt/miniconda3/envs/simplicial/lib/python3.10/site-packages/pkg_resources/_vendor/packaging/_structures.py\": 1659543724.0, \"/Users/mpiekenbrock/opt/miniconda3/envs/simplicial/lib/python3.10/site-packages/pkg_resources/_vendor/packaging/version.py\": 1659543724.0, \"/Users/mpiekenbrock/opt/miniconda3/envs/simplicial/lib/python3.10/site-packages/pkg_resources/_vendor/packaging/_manylinux.py\": 1659543724.0, \"/Users/mpiekenbrock/opt/miniconda3/envs/simplicial/lib/python3.10/site-packages/pkg_resources/_vendor/packaging/_musllinux.py\": 1659543724.0, \"/Users/mpiekenbrock/opt/miniconda3/envs/simplicial/lib/python3.10/site-packages/pkg_resources/_vendor/packaging/tags.py\": 1659543724.0, \"/Users/mpiekenbrock/opt/miniconda3/envs/simplicial/lib/python3.10/site-packages/pkg_resources/_vendor/packaging/utils.py\": 1659543724.0, \"/Users/mpiekenbrock/opt/miniconda3/envs/simplicial/lib/python3.10/site-packages/pkg_resources/_vendor/packaging/specifiers.py\": 1659543724.0, \"/Users/mpiekenbrock/opt/miniconda3/envs/simplicial/lib/python3.10/site-packages/pkg_resources/_vendor/pyparsing/util.py\": 1659543724.0, \"/Users/mpiekenbrock/opt/miniconda3/envs/simplicial/lib/python3.10/site-packages/pkg_resources/_vendor/pyparsing/unicode.py\": 1659543724.0, \"/Users/mpiekenbrock/opt/miniconda3/envs/simplicial/lib/python3.10/site-packages/pkg_resources/_vendor/pyparsing/exceptions.py\": 1659543724.0, \"/Users/mpiekenbrock/opt/miniconda3/envs/simplicial/lib/python3.10/site-packages/pkg_resources/_vendor/pyparsing/actions.py\": 1659543724.0, \"/Users/mpiekenbrock/opt/miniconda3/envs/simplicial/lib/python3.10/site-packages/pkg_resources/_vendor/pyparsing/results.py\": 1659543724.0, \"/Users/mpiekenbrock/opt/miniconda3/envs/simplicial/lib/python3.10/site-packages/pkg_resources/_vendor/pyparsing/core.py\": 1659543724.0, \"/Users/mpiekenbrock/opt/miniconda3/envs/simplicial/lib/python3.10/site-packages/pkg_resources/_vendor/pyparsing/helpers.py\": 1659543724.0, \"/Users/mpiekenbrock/opt/miniconda3/envs/simplicial/lib/python3.10/site-packages/pkg_resources/_vendor/pyparsing/testing.py\": 1659543724.0, \"/Users/mpiekenbrock/opt/miniconda3/envs/simplicial/lib/python3.10/site-packages/pkg_resources/_vendor/pyparsing/common.py\": 1659543724.0, \"/Users/mpiekenbrock/opt/miniconda3/envs/simplicial/lib/python3.10/site-packages/pkg_resources/_vendor/pyparsing/__init__.py\": 1659543724.0, \"/Users/mpiekenbrock/opt/miniconda3/envs/simplicial/lib/python3.10/site-packages/pkg_resources/_vendor/packaging/markers.py\": 1659543724.0, \"/Users/mpiekenbrock/opt/miniconda3/envs/simplicial/lib/python3.10/site-packages/pkg_resources/_vendor/packaging/requirements.py\": 1659543724.0, \"/Users/mpiekenbrock/opt/miniconda3/envs/simplicial/lib/python3.10/site-packages/pkg_resources/__init__.py\": 1659543724.0, \"/Users/mpiekenbrock/opt/miniconda3/envs/simplicial/lib/python3.10/site-packages/debugpy/_vendored/pydevd/pydevd_plugins/__init__.py\": 1673812952.4098203, \"/Users/mpiekenbrock/opt/miniconda3/envs/simplicial/lib/python3.10/site-packages/debugpy/_vendored/pydevd/_pydev_bundle/pydev_log.py\": 1673812952.2428703, \"/Users/mpiekenbrock/opt/miniconda3/envs/simplicial/lib/python3.10/site-packages/debugpy/_vendored/pydevd/_pydev_bundle/_pydev_filesystem_encoding.py\": 1673812952.23809, \"/Users/mpiekenbrock/opt/miniconda3/envs/simplicial/lib/python3.10/site-packages/debugpy/_vendored/pydevd/_pydevd_bundle/pydevd_comm_constants.py\": 1673812952.2514694, \"/Users/mpiekenbrock/opt/miniconda3/envs/simplicial/lib/python3.10/site-packages/debugpy/_vendored/pydevd/pydevd_file_utils.py\": 1673812952.235811, \"/Users/mpiekenbrock/opt/miniconda3/envs/simplicial/lib/python3.10/site-packages/debugpy/_vendored/pydevd/_pydev_bundle/_pydev_execfile.py\": 1673812952.2378018, \"/Users/mpiekenbrock/opt/miniconda3/envs/simplicial/lib/python3.10/site-packages/debugpy/_vendored/pydevd/_pydevd_bundle/pydevd_exec2.py\": 1673812952.270443, \"/Users/mpiekenbrock/opt/miniconda3/envs/simplicial/lib/python3.10/site-packages/debugpy/_vendored/pydevd/_pydev_bundle/pydev_imports.py\": 1673812952.2413013, \"/Users/mpiekenbrock/opt/miniconda3/envs/simplicial/lib/python3.10/site-packages/debugpy/_vendored/pydevd/_pydev_bundle/pydev_is_thread_alive.py\": 1673812952.2423007, \"/Users/mpiekenbrock/opt/miniconda3/envs/simplicial/lib/python3.10/site-packages/debugpy/_vendored/pydevd/_pydev_bundle/pydev_override.py\": 1673812952.2437754, \"/Users/mpiekenbrock/opt/miniconda3/envs/simplicial/lib/python3.10/site-packages/debugpy/_vendored/pydevd/pydevd_plugins/extensions/__init__.py\": 1673812952.4113758, \"/Users/mpiekenbrock/opt/miniconda3/envs/simplicial/lib/python3.10/site-packages/debugpy/_vendored/pydevd/_pydevd_bundle/pydevd_extension_utils.py\": 1673812952.2714784, \"/Users/mpiekenbrock/opt/miniconda3/envs/simplicial/lib/python3.10/site-packages/debugpy/_vendored/pydevd/_pydevd_bundle/pydevd_frame_utils.py\": 1673812952.2731652, \"/Users/mpiekenbrock/opt/miniconda3/envs/simplicial/lib/python3.10/site-packages/debugpy/_vendored/pydevd/_pydevd_bundle/pydevd_filtering.py\": 1673812952.272055, \"/Users/mpiekenbrock/opt/miniconda3/envs/simplicial/lib/python3.10/site-packages/debugpy/_vendored/pydevd/_pydevd_bundle/pydevd_io.py\": 1673812952.274424, \"/Users/mpiekenbrock/opt/miniconda3/envs/simplicial/lib/python3.10/site-packages/debugpy/_vendored/pydevd/_pydevd_bundle/pydevd_defaults.py\": 1673812952.2685921, \"/Users/mpiekenbrock/opt/miniconda3/envs/simplicial/lib/python3.10/site-packages/debugpy/_vendored/pydevd/_pydevd_bundle/pydevd_utils.py\": 1673812952.2843845, \"/Users/mpiekenbrock/opt/miniconda3/envs/simplicial/lib/python3.10/site-packages/debugpy/_vendored/pydevd/_pydevd_bundle/pydevd_runpy.py\": 1673812952.2796345, \"/Users/mpiekenbrock/opt/miniconda3/envs/simplicial/lib/python3.10/site-packages/debugpy/_vendored/pydevd/_pydev_bundle/_pydev_tipper_common.py\": 1673812952.2403405, \"/Users/mpiekenbrock/opt/miniconda3/envs/simplicial/lib/python3.10/site-packages/debugpy/_vendored/pydevd/_pydev_bundle/_pydev_imports_tipper.py\": 1673812952.2388015, \"/Users/mpiekenbrock/opt/miniconda3/envs/simplicial/lib/python3.10/site-packages/debugpy/_vendored/pydevd/_pydev_bundle/_pydev_calltip_util.py\": 1673812952.2372017, \"/Users/mpiekenbrock/opt/miniconda3/envs/simplicial/lib/python3.10/site-packages/debugpy/_vendored/pydevd/_pydevd_bundle/pydevd_safe_repr.py\": 1673812952.2799406, \"/Users/mpiekenbrock/opt/miniconda3/envs/simplicial/lib/python3.10/site-packages/debugpy/_vendored/pydevd/_pydevd_bundle/pydevd_resolver.py\": 1673812952.279306, \"/Users/mpiekenbrock/opt/miniconda3/envs/simplicial/lib/python3.10/site-packages/debugpy/_vendored/pydevd/_pydevd_bundle/pydevd_extension_api.py\": 1673812952.2710218, \"/Users/mpiekenbrock/opt/miniconda3/envs/simplicial/lib/python3.10/site-packages/debugpy/_vendored/pydevd/_pydevd_bundle/pydevd_xml.py\": 1673812952.2859287, \"/Users/mpiekenbrock/opt/miniconda3/envs/simplicial/lib/python3.10/site-packages/debugpy/_vendored/pydevd/_pydevd_bundle/pydevd_dont_trace.py\": 1673812952.2694194, \"/Users/mpiekenbrock/opt/miniconda3/envs/simplicial/lib/python3.10/site-packages/debugpy/_vendored/pydevd/_pydevd_frame_eval/vendored/__init__.py\": 1673812952.3023856, \"/Users/mpiekenbrock/opt/miniconda3/envs/simplicial/lib/python3.10/site-packages/debugpy/_vendored/pydevd/_pydevd_frame_eval/vendored/bytecode/flags.py\": 1673812952.3049326, \"/Users/mpiekenbrock/opt/miniconda3/envs/simplicial/lib/python3.10/site-packages/debugpy/_vendored/pydevd/_pydevd_frame_eval/vendored/bytecode/instr.py\": 1673812952.3052511, \"/Users/mpiekenbrock/opt/miniconda3/envs/simplicial/lib/python3.10/site-packages/debugpy/_vendored/pydevd/_pydevd_frame_eval/vendored/bytecode/bytecode.py\": 1673812952.3037057, \"/Users/mpiekenbrock/opt/miniconda3/envs/simplicial/lib/python3.10/site-packages/debugpy/_vendored/pydevd/_pydevd_frame_eval/vendored/bytecode/concrete.py\": 1673812952.3046174, \"/Users/mpiekenbrock/opt/miniconda3/envs/simplicial/lib/python3.10/site-packages/debugpy/_vendored/pydevd/_pydevd_frame_eval/vendored/bytecode/cfg.py\": 1673812952.3041584, \"/Users/mpiekenbrock/opt/miniconda3/envs/simplicial/lib/python3.10/site-packages/debugpy/_vendored/pydevd/_pydevd_frame_eval/vendored/bytecode/__init__.py\": 1673812952.3033595, \"/Users/mpiekenbrock/opt/miniconda3/envs/simplicial/lib/python3.10/site-packages/debugpy/_vendored/pydevd/_pydevd_bundle/pydevd_bytecode_utils.py\": 1673812952.2496164, \"/Users/mpiekenbrock/opt/miniconda3/envs/simplicial/lib/python3.10/site-packages/debugpy/_vendored/pydevd/_pydevd_bundle/pydevd_frame.py\": 1673812952.272738, \"/Users/mpiekenbrock/opt/miniconda3/envs/simplicial/lib/python3.10/site-packages/debugpy/_vendored/pydevd/_pydevd_bundle/pydevd_additional_thread_info_regular.py\": 1673812952.2486076, \"/Users/mpiekenbrock/opt/miniconda3/envs/simplicial/lib/python3.10/site-packages/debugpy/_vendored/pydevd/_pydevd_bundle/pydevd_additional_thread_info.py\": 1673812952.2483416, \"/Users/mpiekenbrock/opt/miniconda3/envs/simplicial/lib/python3.10/site-packages/debugpy/_vendored/pydevd/_pydevd_bundle/pydevd_thread_lifecycle.py\": 1673812952.2818363, \"/Users/mpiekenbrock/opt/miniconda3/envs/simplicial/lib/python3.10/site-packages/debugpy/_vendored/pydevd/_pydevd_bundle/pydevd_save_locals.py\": 1673812952.2802024, \"/Users/mpiekenbrock/opt/miniconda3/envs/simplicial/lib/python3.10/site-packages/debugpy/_vendored/pydevd/_pydev_bundle/pydev_monkey.py\": 1673812952.2432516, \"/Users/mpiekenbrock/opt/miniconda3/envs/simplicial/lib/python3.10/site-packages/debugpy/_vendored/pydevd/pydevd_tracing.py\": 1673812952.2362156, \"/Users/mpiekenbrock/opt/miniconda3/envs/simplicial/lib/python3.10/site-packages/debugpy/_vendored/pydevd/_pydevd_bundle/pydevd_collect_bytecode_info.py\": 1673812952.2503865, \"/Users/mpiekenbrock/opt/miniconda3/envs/simplicial/lib/python3.10/site-packages/debugpy/_vendored/pydevd/_pydevd_bundle/pydevd_daemon_thread.py\": 1673812952.2678342, \"/Users/mpiekenbrock/opt/miniconda3/envs/simplicial/lib/python3.10/site-packages/debugpy/_vendored/pydevd/_pydevd_bundle/pydevd_timeout.py\": 1673812952.2822385, \"/Users/mpiekenbrock/opt/miniconda3/envs/simplicial/lib/python3.10/site-packages/debugpy/_vendored/pydevd/_pydevd_bundle/pydevd_vars.py\": 1673812952.2850053, \"/Users/mpiekenbrock/opt/miniconda3/envs/simplicial/lib/python3.10/site-packages/debugpy/_vendored/pydevd/_pydev_bundle/pydev_console_utils.py\": 1673812952.2406988, \"/Users/mpiekenbrock/opt/miniconda3/envs/simplicial/lib/python3.10/site-packages/debugpy/_vendored/pydevd/_pydevd_bundle/pydevd_import_class.py\": 1673812952.273964, \"/Users/mpiekenbrock/opt/miniconda3/envs/simplicial/lib/python3.10/site-packages/debugpy/_vendored/pydevd/_pydevd_bundle/pydevd_breakpoints.py\": 1673812952.2492878, \"/Users/mpiekenbrock/opt/miniconda3/envs/simplicial/lib/python3.10/site-packages/debugpy/_vendored/pydevd/_pydevd_bundle/pydevd_custom_frames.py\": 1673812952.2541635, \"/Users/mpiekenbrock/opt/miniconda3/envs/simplicial/lib/python3.10/site-packages/debugpy/_vendored/pydevd/_pydevd_bundle/pydevd_dont_trace_files.py\": 1673812952.2699358, \"/Users/mpiekenbrock/opt/miniconda3/envs/simplicial/lib/python3.10/site-packages/debugpy/_vendored/pydevd/_pydevd_bundle/pydevd_net_command.py\": 1673812952.2753549, \"/Users/mpiekenbrock/opt/miniconda3/envs/simplicial/lib/python3.10/site-packages/debugpy/_vendored/pydevd/_pydevd_bundle/pydevconsole_code.py\": 1673812952.2480607, \"/Users/mpiekenbrock/opt/miniconda3/envs/simplicial/lib/python3.10/site-packages/debugpy/_vendored/pydevd/_pydev_bundle/pydev_umd.py\": 1673812952.2440376, \"/Users/mpiekenbrock/opt/miniconda3/envs/simplicial/lib/python3.10/site-packages/debugpy/_vendored/pydevd/pydevconsole.py\": 1673812952.234131, \"/Users/mpiekenbrock/opt/miniconda3/envs/simplicial/lib/python3.10/site-packages/debugpy/_vendored/pydevd/_pydev_bundle/_pydev_completer.py\": 1673812952.2375185, \"/Users/mpiekenbrock/opt/miniconda3/envs/simplicial/lib/python3.10/site-packages/debugpy/_vendored/pydevd/_pydevd_bundle/pydevd_net_command_factory_xml.py\": 1673812952.2764988, \"/Users/mpiekenbrock/opt/miniconda3/envs/simplicial/lib/python3.10/site-packages/debugpy/_vendored/pydevd/_pydevd_bundle/pydevd_trace_dispatch_regular.py\": 1673812952.2835193, \"/Users/mpiekenbrock/opt/miniconda3/envs/simplicial/lib/python3.10/site-packages/debugpy/_vendored/pydevd/_pydevd_bundle/pydevd_trace_dispatch.py\": 1673812952.283016, \"/Users/mpiekenbrock/opt/miniconda3/envs/simplicial/lib/python3.10/site-packages/debugpy/_vendored/pydevd/_pydevd_frame_eval/pydevd_frame_eval_main.py\": 1673812952.293841, \"/Users/mpiekenbrock/opt/miniconda3/envs/simplicial/lib/python3.10/site-packages/debugpy/_vendored/pydevd/_pydevd_bundle/pydevd_source_mapping.py\": 1673812952.280792, \"/Users/mpiekenbrock/opt/miniconda3/envs/simplicial/lib/python3.10/site-packages/debugpy/_vendored/pydevd/_pydevd_bundle/pydevd_concurrency_analyser/__init__.py\": 1673812952.2918463, \"/Users/mpiekenbrock/opt/miniconda3/envs/simplicial/lib/python3.10/site-packages/debugpy/_vendored/pydevd/_pydevd_bundle/pydevd_concurrency_analyser/pydevd_thread_wrappers.py\": 1673812952.2925332, \"/Users/mpiekenbrock/opt/miniconda3/envs/simplicial/lib/python3.10/site-packages/debugpy/_vendored/pydevd/_pydevd_bundle/pydevd_concurrency_analyser/pydevd_concurrency_logger.py\": 1673812952.2922528, \"/Users/mpiekenbrock/opt/miniconda3/envs/simplicial/lib/python3.10/site-packages/debugpy/_vendored/pydevd/_pydevd_bundle/_debug_adapter/__init__.py\": 1673812952.2862825, \"/Users/mpiekenbrock/opt/miniconda3/envs/simplicial/lib/python3.10/site-packages/debugpy/_vendored/pydevd/_pydevd_bundle/_debug_adapter/pydevd_schema_log.py\": 1673812952.291584, \"/Users/mpiekenbrock/opt/miniconda3/envs/simplicial/lib/python3.10/site-packages/debugpy/_vendored/pydevd/_pydevd_bundle/_debug_adapter/pydevd_base_schema.py\": 1673812952.2890177, \"/Users/mpiekenbrock/opt/miniconda3/envs/simplicial/lib/python3.10/site-packages/debugpy/_vendored/pydevd/_pydevd_bundle/_debug_adapter/pydevd_schema.py\": 1673812952.2911882, \"/Users/mpiekenbrock/opt/miniconda3/envs/simplicial/lib/python3.10/site-packages/debugpy/_vendored/pydevd/_pydevd_bundle/pydevd_reload.py\": 1673812952.2789457, \"/Users/mpiekenbrock/opt/miniconda3/envs/simplicial/lib/python3.10/site-packages/debugpy/_vendored/pydevd/_pydev_bundle/fsnotify/__init__.py\": 1673812952.2446542, \"/Users/mpiekenbrock/opt/miniconda3/envs/simplicial/lib/python3.10/site-packages/debugpy/_vendored/pydevd/_pydevd_bundle/pydevd_console.py\": 1673812952.2527106, \"/Users/mpiekenbrock/opt/miniconda3/envs/simplicial/lib/python3.10/site-packages/debugpy/_vendored/pydevd/_pydevd_bundle/pydevd_comm.py\": 1673812952.251003, \"/Users/mpiekenbrock/opt/miniconda3/envs/simplicial/lib/python3.10/site-packages/debugpy/_vendored/pydevd/_pydevd_bundle/pydevd_net_command_factory_json.py\": 1673812952.2759414, \"/Users/mpiekenbrock/opt/miniconda3/envs/simplicial/lib/python3.10/site-packages/debugpy/_vendored/pydevd/_pydevd_bundle/pydevd_api.py\": 1673812952.2490125, \"/Users/mpiekenbrock/opt/miniconda3/envs/simplicial/lib/python3.10/site-packages/debugpy/_vendored/pydevd/_pydevd_bundle/pydevd_json_debug_options.py\": 1673812952.2749422, \"/Users/mpiekenbrock/opt/miniconda3/envs/simplicial/lib/python3.10/site-packages/debugpy/_vendored/pydevd/_pydevd_bundle/pydevd_process_net_command_json.py\": 1673812952.2781436, \"/Users/mpiekenbrock/opt/miniconda3/envs/simplicial/lib/python3.10/site-packages/debugpy/_vendored/pydevd/_pydevd_bundle/pydevd_traceproperty.py\": 1673812952.2839055, \"/Users/mpiekenbrock/opt/miniconda3/envs/simplicial/lib/python3.10/site-packages/debugpy/_vendored/pydevd/_pydevd_bundle/pydevd_process_net_command.py\": 1673812952.277455, \"/Users/mpiekenbrock/opt/miniconda3/envs/simplicial/lib/python3.10/site-packages/debugpy/_vendored/pydevd/_pydevd_bundle/pydevd_suspended_frames.py\": 1673812952.2815132, \"/Users/mpiekenbrock/opt/miniconda3/envs/simplicial/lib/python3.10/site-packages/debugpy/_vendored/pydevd/_pydevd_bundle/pydevd_trace_api.py\": 1673812952.2826126, \"/Users/mpiekenbrock/opt/miniconda3/envs/simplicial/lib/python3.10/site-packages/debugpy/_vendored/pydevd/pydevd_plugins/pydevd_line_validation.py\": 1673812952.4108055, \"/Users/mpiekenbrock/opt/miniconda3/envs/simplicial/lib/python3.10/site-packages/debugpy/_vendored/pydevd/pydevd_plugins/django_debug.py\": 1673812952.4101908, \"/Users/mpiekenbrock/opt/miniconda3/envs/simplicial/lib/python3.10/site-packages/debugpy/_vendored/pydevd/pydevd_plugins/jinja2_debug.py\": 1673812952.410529, \"/Users/mpiekenbrock/opt/miniconda3/envs/simplicial/lib/python3.10/site-packages/debugpy/_vendored/pydevd/_pydevd_bundle/pydevd_plugin_utils.py\": 1673812952.2768369, \"/Users/mpiekenbrock/opt/miniconda3/envs/simplicial/lib/python3.10/site-packages/debugpy/_vendored/pydevd/pydevd_plugins/extensions/types/__init__.py\": 1673812952.4116576, \"/Users/mpiekenbrock/opt/miniconda3/envs/simplicial/lib/python3.10/site-packages/debugpy/_vendored/pydevd/pydevd_plugins/extensions/types/pydevd_helpers.py\": 1673812952.4119523, \"/Users/mpiekenbrock/opt/miniconda3/envs/simplicial/lib/python3.10/site-packages/debugpy/_vendored/pydevd/pydevd_plugins/extensions/types/pydevd_plugin_numpy_types.py\": 1673812952.4122057, \"/Users/mpiekenbrock/opt/miniconda3/envs/simplicial/lib/python3.10/site-packages/debugpy/_vendored/pydevd/pydevd_plugins/extensions/types/pydevd_plugin_pandas_types.py\": 1673812952.4125168, \"/Users/mpiekenbrock/opt/miniconda3/envs/simplicial/lib/python3.10/site-packages/debugpy/_vendored/pydevd/pydevd_plugins/extensions/types/pydevd_plugins_django_form_str.py\": 1673812952.412763, \"/Users/mpiekenbrock/opt/miniconda3/envs/simplicial/lib/python3.10/site-packages/debugpy/_vendored/pydevd/pydevd.py\": 1673812952.2351944, \"/Users/mpiekenbrock/opt/miniconda3/envs/simplicial/lib/python3.10/site-packages/debugpy/_vendored/force_pydevd.py\": 1673812952.231596, \"/Users/mpiekenbrock/opt/miniconda3/envs/simplicial/lib/python3.10/site-packages/debugpy/server/__init__.py\": 1673812952.419549, \"/Users/mpiekenbrock/opt/miniconda3/envs/simplicial/lib/python3.10/site-packages/debugpy/adapter/__init__.py\": 1673812952.4130392, \"/Users/mpiekenbrock/opt/miniconda3/envs/simplicial/lib/python3.10/site-packages/debugpy/common/__init__.py\": 1673812952.4153185, \"/Users/mpiekenbrock/opt/miniconda3/envs/simplicial/lib/python3.10/site-packages/debugpy/common/json.py\": 1673812952.415585, \"/Users/mpiekenbrock/opt/miniconda3/envs/simplicial/lib/python3.10/site-packages/debugpy/common/timestamp.py\": 1673812952.417432, \"/Users/mpiekenbrock/opt/miniconda3/envs/simplicial/lib/python3.10/site-packages/debugpy/common/util.py\": 1673812952.417678, \"/Users/mpiekenbrock/opt/miniconda3/envs/simplicial/lib/python3.10/site-packages/debugpy/common/log.py\": 1673812952.4158626, \"/Users/mpiekenbrock/opt/miniconda3/envs/simplicial/lib/python3.10/site-packages/debugpy/common/sockets.py\": 1673812952.416807, \"/Users/mpiekenbrock/opt/miniconda3/envs/simplicial/lib/python3.10/site-packages/debugpy/server/api.py\": 1673812952.4198217, \"/Users/mpiekenbrock/opt/miniconda3/envs/simplicial/lib/python3.10/site-packages/ipykernel/debugger.py\": 1673812954.406336, \"/Users/mpiekenbrock/opt/miniconda3/envs/simplicial/lib/python3.10/site-packages/packaging/__init__.py\": 1673812952.1784277, \"/Users/mpiekenbrock/opt/miniconda3/envs/simplicial/lib/python3.10/site-packages/packaging/_structures.py\": 1673812952.1796765, \"/Users/mpiekenbrock/opt/miniconda3/envs/simplicial/lib/python3.10/site-packages/packaging/version.py\": 1673812952.1818879, \"/Users/mpiekenbrock/opt/miniconda3/envs/simplicial/lib/python3.10/site-packages/ipykernel/eventloops.py\": 1673812954.4072757, \"/Users/mpiekenbrock/opt/miniconda3/envs/simplicial/lib/python3.10/site-packages/IPython/core/payloadpage.py\": 1673812953.959463, \"/Users/mpiekenbrock/opt/miniconda3/envs/simplicial/lib/python3.10/site-packages/ipykernel/displayhook.py\": 1673812954.4067323, \"/Users/mpiekenbrock/opt/miniconda3/envs/simplicial/lib/python3.10/site-packages/ipykernel/zmqshell.py\": 1673812954.4112608, \"/Users/mpiekenbrock/opt/miniconda3/envs/simplicial/lib/python3.10/site-packages/ipykernel/ipkernel.py\": 1673812954.4081938, \"/Users/mpiekenbrock/opt/miniconda3/envs/simplicial/lib/python3.10/site-packages/ipykernel/parentpoller.py\": 1673812954.4099536, \"/Users/mpiekenbrock/opt/miniconda3/envs/simplicial/lib/python3.10/site-packages/ipykernel/kernelapp.py\": 1673812954.408777, \"/Users/mpiekenbrock/opt/miniconda3/envs/simplicial/lib/python3.10/site-packages/tornado/platform/__init__.py\": 1673812950.6794999, \"/Users/mpiekenbrock/opt/miniconda3/envs/simplicial/lib/python3.10/site-packages/tornado/platform/asyncio.py\": 1673812950.6793034, \"/Users/mpiekenbrock/opt/miniconda3/envs/simplicial/lib/python3.10/site-packages/IPython/core/completerlib.py\": 1673812953.9497142, \"/Users/mpiekenbrock/opt/miniconda3/envs/simplicial/lib/python3.10/ctypes/macholib/__init__.py\": 1665174127.0, \"/Users/mpiekenbrock/opt/miniconda3/envs/simplicial/lib/python3.10/ctypes/macholib/framework.py\": 1665174127.0, \"/Users/mpiekenbrock/opt/miniconda3/envs/simplicial/lib/python3.10/ctypes/macholib/dylib.py\": 1665174127.0, \"/Users/mpiekenbrock/opt/miniconda3/envs/simplicial/lib/python3.10/ctypes/macholib/dyld.py\": 1665174127.0, \"/Users/mpiekenbrock/opt/miniconda3/envs/simplicial/lib/python3.10/ctypes/util.py\": 1665174127.0, \"/Users/mpiekenbrock/opt/miniconda3/envs/simplicial/lib/python3.10/site-packages/appnope/_nope.py\": 1673812950.5498233, \"/Users/mpiekenbrock/opt/miniconda3/envs/simplicial/lib/python3.10/site-packages/appnope/__init__.py\": 1673812950.5491536, \"/Users/mpiekenbrock/opt/miniconda3/envs/simplicial/lib/python3.10/site-packages/numpy/_globals.py\": 1673709795.108671, \"/Users/mpiekenbrock/opt/miniconda3/envs/simplicial/lib/python3.10/site-packages/numpy/__config__.py\": 1673709795.1116867, \"/Users/mpiekenbrock/opt/miniconda3/envs/simplicial/lib/python3.10/site-packages/numpy/_distributor_init.py\": 1673709795.1112893, \"/Users/mpiekenbrock/opt/miniconda3/envs/simplicial/lib/python3.10/site-packages/numpy/_version.py\": 1673709795.1077855, \"/Users/mpiekenbrock/opt/miniconda3/envs/simplicial/lib/python3.10/site-packages/numpy/version.py\": 1673709795.104475, \"/Users/mpiekenbrock/opt/miniconda3/envs/simplicial/lib/python3.10/site-packages/numpy/core/_multiarray_umath.cpython-310-darwin.so\": 1673709795.3230307, \"/Users/mpiekenbrock/opt/miniconda3/envs/simplicial/lib/python3.10/site-packages/numpy/compat/_inspect.py\": 1673709795.2222116, \"/Users/mpiekenbrock/opt/miniconda3/envs/simplicial/lib/python3.10/site-packages/numpy/compat/py3k.py\": 1673709795.2200398, \"/Users/mpiekenbrock/opt/miniconda3/envs/simplicial/lib/python3.10/site-packages/numpy/compat/__init__.py\": 1673709795.221222, \"/Users/mpiekenbrock/opt/miniconda3/envs/simplicial/lib/python3.10/site-packages/numpy/core/overrides.py\": 1673709795.3345664, \"/Users/mpiekenbrock/opt/miniconda3/envs/simplicial/lib/python3.10/site-packages/numpy/core/multiarray.py\": 1673709795.245059, \"/Users/mpiekenbrock/opt/miniconda3/envs/simplicial/lib/python3.10/site-packages/numpy/core/umath.py\": 1673709795.2241566, \"/Users/mpiekenbrock/opt/miniconda3/envs/simplicial/lib/python3.10/site-packages/numpy/core/_string_helpers.py\": 1673709795.243317, \"/Users/mpiekenbrock/opt/miniconda3/envs/simplicial/lib/python3.10/site-packages/numpy/core/_dtype.py\": 1673709795.2283065, \"/Users/mpiekenbrock/opt/miniconda3/envs/simplicial/lib/python3.10/site-packages/numpy/core/_type_aliases.py\": 1673709795.352536, \"/Users/mpiekenbrock/opt/miniconda3/envs/simplicial/lib/python3.10/site-packages/numpy/core/numerictypes.py\": 1673709795.3514926, \"/Users/mpiekenbrock/opt/miniconda3/envs/simplicial/lib/python3.10/site-packages/numpy/core/_exceptions.py\": 1673709795.3489726, \"/Users/mpiekenbrock/opt/miniconda3/envs/simplicial/lib/python3.10/site-packages/numpy/core/_ufunc_config.py\": 1673709795.347887, \"/Users/mpiekenbrock/opt/miniconda3/envs/simplicial/lib/python3.10/site-packages/numpy/core/_methods.py\": 1673709795.2351298, \"/Users/mpiekenbrock/opt/miniconda3/envs/simplicial/lib/python3.10/site-packages/numpy/core/fromnumeric.py\": 1673709795.2256775, \"/Users/mpiekenbrock/opt/miniconda3/envs/simplicial/lib/python3.10/site-packages/numpy/core/shape_base.py\": 1673709795.3389246, \"/Users/mpiekenbrock/opt/miniconda3/envs/simplicial/lib/python3.10/site-packages/numpy/core/arrayprint.py\": 1673709795.3552969, \"/Users/mpiekenbrock/opt/miniconda3/envs/simplicial/lib/python3.10/site-packages/numpy/core/_asarray.py\": 1673709795.2459307, \"/Users/mpiekenbrock/opt/miniconda3/envs/simplicial/lib/python3.10/site-packages/numpy/core/numeric.py\": 1673709795.3420708, \"/Users/mpiekenbrock/opt/miniconda3/envs/simplicial/lib/python3.10/site-packages/numpy/core/defchararray.py\": 1673709795.3365505, \"/Users/mpiekenbrock/opt/miniconda3/envs/simplicial/lib/python3.10/site-packages/numpy/core/records.py\": 1673709795.285689, \"/Users/mpiekenbrock/opt/miniconda3/envs/simplicial/lib/python3.10/site-packages/numpy/core/memmap.py\": 1673709795.3340383, \"/Users/mpiekenbrock/opt/miniconda3/envs/simplicial/lib/python3.10/site-packages/numpy/core/function_base.py\": 1673709795.3457503, \"/Users/mpiekenbrock/opt/miniconda3/envs/simplicial/lib/python3.10/site-packages/numpy/core/_machar.py\": 1673709795.324314, \"/Users/mpiekenbrock/opt/miniconda3/envs/simplicial/lib/python3.10/site-packages/numpy/core/getlimits.py\": 1673709795.335165, \"/Users/mpiekenbrock/opt/miniconda3/envs/simplicial/lib/python3.10/site-packages/numpy/core/einsumfunc.py\": 1673709795.346644, \"/Users/mpiekenbrock/opt/miniconda3/envs/simplicial/lib/python3.10/site-packages/numpy/core/_multiarray_tests.cpython-310-darwin.so\": 1673709795.350705, \"/Users/mpiekenbrock/opt/miniconda3/envs/simplicial/lib/python3.10/site-packages/numpy/core/_add_newdocs.py\": 1673709795.230881, \"/Users/mpiekenbrock/opt/miniconda3/envs/simplicial/lib/python3.10/site-packages/numpy/core/_add_newdocs_scalars.py\": 1673709795.3236992, \"/Users/mpiekenbrock/opt/miniconda3/envs/simplicial/lib/python3.10/site-packages/numpy/core/_dtype_ctypes.py\": 1673709795.3356547, \"/Users/mpiekenbrock/opt/miniconda3/envs/simplicial/lib/python3.10/site-packages/numpy/core/_internal.py\": 1673709795.236016, \"/Users/mpiekenbrock/opt/miniconda3/envs/simplicial/lib/python3.10/site-packages/numpy/_pytesttester.py\": 1673709795.1148274, \"/Users/mpiekenbrock/opt/miniconda3/envs/simplicial/lib/python3.10/site-packages/numpy/core/__init__.py\": 1673709795.3240159, \"/Users/mpiekenbrock/opt/miniconda3/envs/simplicial/lib/python3.10/site-packages/numpy/lib/mixins.py\": 1673709795.862283, \"/Users/mpiekenbrock/opt/miniconda3/envs/simplicial/lib/python3.10/site-packages/numpy/lib/ufunclike.py\": 1673709795.8802617, \"/Users/mpiekenbrock/opt/miniconda3/envs/simplicial/lib/python3.10/site-packages/numpy/lib/type_check.py\": 1673709795.8777773, \"/Users/mpiekenbrock/opt/miniconda3/envs/simplicial/lib/python3.10/site-packages/numpy/lib/scimath.py\": 1673709795.8643167, \"/Users/mpiekenbrock/opt/miniconda3/envs/simplicial/lib/python3.10/site-packages/numpy/lib/stride_tricks.py\": 1673709795.873416, \"/Users/mpiekenbrock/opt/miniconda3/envs/simplicial/lib/python3.10/site-packages/numpy/lib/twodim_base.py\": 1673709795.868392, \"/Users/mpiekenbrock/opt/miniconda3/envs/simplicial/lib/python3.10/site-packages/numpy/linalg/_umath_linalg.cpython-310-darwin.so\": 1673709795.4271972, \"/Users/mpiekenbrock/opt/miniconda3/envs/simplicial/lib/python3.10/site-packages/numpy/linalg/linalg.py\": 1673709795.4302242, \"/Users/mpiekenbrock/opt/miniconda3/envs/simplicial/lib/python3.10/site-packages/numpy/linalg/__init__.py\": 1673709795.4282513, \"/Users/mpiekenbrock/opt/miniconda3/envs/simplicial/lib/python3.10/site-packages/numpy/matrixlib/defmatrix.py\": 1673709795.9364843, \"/Users/mpiekenbrock/opt/miniconda3/envs/simplicial/lib/python3.10/site-packages/numpy/matrixlib/__init__.py\": 1673709795.9354956, \"/Users/mpiekenbrock/opt/miniconda3/envs/simplicial/lib/python3.10/site-packages/numpy/lib/histograms.py\": 1673709795.8640356, \"/Users/mpiekenbrock/opt/miniconda3/envs/simplicial/lib/python3.10/site-packages/numpy/lib/function_base.py\": 1673709795.8759134, \"/Users/mpiekenbrock/opt/miniconda3/envs/simplicial/lib/python3.10/site-packages/numpy/lib/index_tricks.py\": 1673709795.869274, \"/Users/mpiekenbrock/opt/miniconda3/envs/simplicial/lib/python3.10/site-packages/numpy/lib/nanfunctions.py\": 1673709795.862938, \"/Users/mpiekenbrock/opt/miniconda3/envs/simplicial/lib/python3.10/site-packages/numpy/lib/shape_base.py\": 1673709795.8715658, \"/Users/mpiekenbrock/opt/miniconda3/envs/simplicial/lib/python3.10/site-packages/numpy/lib/polynomial.py\": 1673709795.878814, \"/Users/mpiekenbrock/opt/miniconda3/envs/simplicial/lib/python3.10/site-packages/numpy/lib/utils.py\": 1673709795.874091, \"/Users/mpiekenbrock/opt/miniconda3/envs/simplicial/lib/python3.10/site-packages/numpy/lib/arraysetops.py\": 1673709795.8765414, \"/Users/mpiekenbrock/opt/miniconda3/envs/simplicial/lib/python3.10/site-packages/numpy/lib/format.py\": 1673709795.8679123, \"/Users/mpiekenbrock/opt/miniconda3/envs/simplicial/lib/python3.10/site-packages/numpy/lib/_datasource.py\": 1673709795.8799691, \"/Users/mpiekenbrock/opt/miniconda3/envs/simplicial/lib/python3.10/site-packages/numpy/lib/_iotools.py\": 1673709795.8616486, \"/Users/mpiekenbrock/opt/miniconda3/envs/simplicial/lib/python3.10/site-packages/numpy/lib/npyio.py\": 1673709795.869931, \"/Users/mpiekenbrock/opt/miniconda3/envs/simplicial/lib/python3.10/site-packages/numpy/lib/arrayterator.py\": 1673709795.8747826, \"/Users/mpiekenbrock/opt/miniconda3/envs/simplicial/lib/python3.10/site-packages/numpy/lib/arraypad.py\": 1673709795.877401, \"/Users/mpiekenbrock/opt/miniconda3/envs/simplicial/lib/python3.10/site-packages/numpy/lib/_version.py\": 1673709795.8655806, \"/Users/mpiekenbrock/opt/miniconda3/envs/simplicial/lib/python3.10/site-packages/numpy/lib/__init__.py\": 1673709795.8675468, \"/Users/mpiekenbrock/opt/miniconda3/envs/simplicial/lib/python3.10/site-packages/numpy/fft/_pocketfft_internal.cpython-310-darwin.so\": 1673709795.8939772, \"/Users/mpiekenbrock/opt/miniconda3/envs/simplicial/lib/python3.10/site-packages/numpy/fft/_pocketfft.py\": 1673709795.8957772, \"/Users/mpiekenbrock/opt/miniconda3/envs/simplicial/lib/python3.10/site-packages/numpy/fft/helper.py\": 1673709795.8951242, \"/Users/mpiekenbrock/opt/miniconda3/envs/simplicial/lib/python3.10/site-packages/numpy/fft/__init__.py\": 1673709795.894383, \"/Users/mpiekenbrock/opt/miniconda3/envs/simplicial/lib/python3.10/site-packages/numpy/polynomial/polyutils.py\": 1673709795.9405353, \"/Users/mpiekenbrock/opt/miniconda3/envs/simplicial/lib/python3.10/site-packages/numpy/polynomial/_polybase.py\": 1673709795.9399083, \"/Users/mpiekenbrock/opt/miniconda3/envs/simplicial/lib/python3.10/site-packages/numpy/polynomial/polynomial.py\": 1673709795.9461904, \"/Users/mpiekenbrock/opt/miniconda3/envs/simplicial/lib/python3.10/site-packages/numpy/polynomial/chebyshev.py\": 1673709795.9456322, \"/Users/mpiekenbrock/opt/miniconda3/envs/simplicial/lib/python3.10/site-packages/numpy/polynomial/legendre.py\": 1673709795.946865, \"/Users/mpiekenbrock/opt/miniconda3/envs/simplicial/lib/python3.10/site-packages/numpy/polynomial/hermite.py\": 1673709795.9476755, \"/Users/mpiekenbrock/opt/miniconda3/envs/simplicial/lib/python3.10/site-packages/numpy/polynomial/hermite_e.py\": 1673709795.9451087, \"/Users/mpiekenbrock/opt/miniconda3/envs/simplicial/lib/python3.10/site-packages/numpy/polynomial/laguerre.py\": 1673709795.9394712, \"/Users/mpiekenbrock/opt/miniconda3/envs/simplicial/lib/python3.10/site-packages/numpy/polynomial/__init__.py\": 1673709795.941249, \"/Users/mpiekenbrock/opt/miniconda3/envs/simplicial/lib/python3.10/site-packages/numpy/random/_common.cpython-310-darwin.so\": 1673709795.9001684, \"/Users/mpiekenbrock/opt/miniconda3/envs/simplicial/lib/python3.10/secrets.py\": 1665174127.0, \"/Users/mpiekenbrock/opt/miniconda3/envs/simplicial/lib/python3.10/site-packages/numpy/random/bit_generator.cpython-310-darwin.so\": 1673709795.9140954, \"/Users/mpiekenbrock/opt/miniconda3/envs/simplicial/lib/python3.10/site-packages/numpy/random/_bounded_integers.cpython-310-darwin.so\": 1673709795.9208472, \"/Users/mpiekenbrock/opt/miniconda3/envs/simplicial/lib/python3.10/site-packages/numpy/random/_mt19937.cpython-310-darwin.so\": 1673709795.9182863, \"/Users/mpiekenbrock/opt/miniconda3/envs/simplicial/lib/python3.10/site-packages/numpy/random/mtrand.cpython-310-darwin.so\": 1673709795.903896, \"/Users/mpiekenbrock/opt/miniconda3/envs/simplicial/lib/python3.10/site-packages/numpy/random/_philox.cpython-310-darwin.so\": 1673709795.917406, \"/Users/mpiekenbrock/opt/miniconda3/envs/simplicial/lib/python3.10/site-packages/numpy/random/_pcg64.cpython-310-darwin.so\": 1673709795.9162502, \"/Users/mpiekenbrock/opt/miniconda3/envs/simplicial/lib/python3.10/site-packages/numpy/random/_sfc64.cpython-310-darwin.so\": 1673709795.9054158, \"/Users/mpiekenbrock/opt/miniconda3/envs/simplicial/lib/python3.10/site-packages/numpy/random/_generator.cpython-310-darwin.so\": 1673709795.9113164, \"/Users/mpiekenbrock/opt/miniconda3/envs/simplicial/lib/python3.10/site-packages/numpy/random/_pickle.py\": 1673709795.9062328, \"/Users/mpiekenbrock/opt/miniconda3/envs/simplicial/lib/python3.10/site-packages/numpy/random/__init__.py\": 1673709795.9117591, \"/Users/mpiekenbrock/opt/miniconda3/envs/simplicial/lib/python3.10/site-packages/numpy/ctypeslib.py\": 1673709795.1132889, \"/Users/mpiekenbrock/opt/miniconda3/envs/simplicial/lib/python3.10/site-packages/numpy/ma/core.py\": 1673709795.4385123, \"/Users/mpiekenbrock/opt/miniconda3/envs/simplicial/lib/python3.10/site-packages/numpy/ma/extras.py\": 1673709795.433638, \"/Users/mpiekenbrock/opt/miniconda3/envs/simplicial/lib/python3.10/site-packages/numpy/ma/__init__.py\": 1673709795.4363408, \"/Users/mpiekenbrock/opt/miniconda3/envs/simplicial/lib/python3.10/site-packages/numpy/__init__.py\": 1673709795.110293, \"/Users/mpiekenbrock/opt/miniconda3/envs/simplicial/lib/python3.10/site-packages/matplotlib/_api/deprecation.py\": 1675379391.0846603, \"/Users/mpiekenbrock/opt/miniconda3/envs/simplicial/lib/python3.10/site-packages/matplotlib/_api/__init__.py\": 1675379391.085052, \"/Users/mpiekenbrock/opt/miniconda3/envs/simplicial/lib/python3.10/site-packages/matplotlib/_version.py\": 1675379390.955033, \"/Users/mpiekenbrock/opt/miniconda3/envs/simplicial/lib/python3.10/site-packages/matplotlib/_c_internal_utils.cpython-310-darwin.so\": 1675379390.9714339, \"/Users/mpiekenbrock/opt/miniconda3/envs/simplicial/lib/python3.10/site-packages/matplotlib/cbook/__init__.py\": 1675379391.0241039, \"/Users/mpiekenbrock/opt/miniconda3/envs/simplicial/lib/python3.10/site-packages/matplotlib/_docstring.py\": 1675379391.0063179, \"/Users/mpiekenbrock/opt/miniconda3/envs/simplicial/lib/python3.10/site-packages/PIL/_version.py\": 1674339538.0082874, \"/Users/mpiekenbrock/opt/miniconda3/envs/simplicial/lib/python3.10/site-packages/PIL/__init__.py\": 1674339538.0152423, \"/Users/mpiekenbrock/opt/miniconda3/envs/simplicial/lib/python3.10/site-packages/defusedxml/common.py\": 1674407456.9673483, \"/Users/mpiekenbrock/opt/miniconda3/envs/simplicial/lib/python3.10/site-packages/defusedxml/__init__.py\": 1674407456.9668608, \"/Users/mpiekenbrock/opt/miniconda3/envs/simplicial/lib/python3.10/xml/etree/__init__.py\": 1665174129.0, \"/Users/mpiekenbrock/opt/miniconda3/envs/simplicial/lib/python3.10/xml/etree/ElementPath.py\": 1665174129.0, \"/Users/mpiekenbrock/opt/miniconda3/envs/simplicial/lib/python3.10/lib-dynload/_elementtree.cpython-310-darwin.so\": 1665174155.0, \"/Users/mpiekenbrock/opt/miniconda3/envs/simplicial/lib/python3.10/xml/etree/ElementTree.py\": 1665174129.0, \"/Users/mpiekenbrock/opt/miniconda3/envs/simplicial/lib/python3.10/site-packages/defusedxml/ElementTree.py\": 1674407456.9666107, \"/Users/mpiekenbrock/opt/miniconda3/envs/simplicial/lib/python3.10/site-packages/PIL/ExifTags.py\": 1674339538.0114198, \"/Users/mpiekenbrock/opt/miniconda3/envs/simplicial/lib/python3.10/site-packages/PIL/ImageMode.py\": 1674339538.001011, \"/Users/mpiekenbrock/opt/miniconda3/envs/simplicial/lib/python3.10/site-packages/PIL/TiffTags.py\": 1674339538.0244384, \"/Users/mpiekenbrock/opt/miniconda3/envs/simplicial/lib/python3.10/site-packages/PIL/_binary.py\": 1674339538.0299132, \"/Users/mpiekenbrock/opt/miniconda3/envs/simplicial/lib/python3.10/site-packages/PIL/_deprecate.py\": 1674339538.012834, \"/Users/mpiekenbrock/opt/miniconda3/envs/simplicial/lib/python3.10/site-packages/PIL/_util.py\": 1674339538.024936, \"/Users/mpiekenbrock/opt/miniconda3/envs/simplicial/lib/python3.10/site-packages/PIL/_imaging.cpython-310-darwin.so\": 1674339538.037787, \"/Users/mpiekenbrock/opt/miniconda3/envs/simplicial/lib/python3.10/site-packages/cffi/lock.py\": 1674407457.6710067, \"/Users/mpiekenbrock/opt/miniconda3/envs/simplicial/lib/python3.10/site-packages/cffi/error.py\": 1674407457.6671226, \"/Users/mpiekenbrock/opt/miniconda3/envs/simplicial/lib/python3.10/site-packages/cffi/model.py\": 1674407457.6691372, \"/Users/mpiekenbrock/opt/miniconda3/envs/simplicial/lib/python3.10/site-packages/cffi/api.py\": 1674407457.6697702, \"/Users/mpiekenbrock/opt/miniconda3/envs/simplicial/lib/python3.10/site-packages/cffi/__init__.py\": 1674407457.6679804, \"/Users/mpiekenbrock/opt/miniconda3/envs/simplicial/lib/python3.10/site-packages/PIL/Image.py\": 1674339538.0306733, \"/Users/mpiekenbrock/opt/miniconda3/envs/simplicial/lib/python3.10/site-packages/PIL/ImageChops.py\": 1674339538.0125332, \"/Users/mpiekenbrock/opt/miniconda3/envs/simplicial/lib/python3.10/site-packages/PIL/ImageFile.py\": 1674339538.0033922, \"/Users/mpiekenbrock/opt/miniconda3/envs/simplicial/lib/python3.10/site-packages/PIL/GimpGradientFile.py\": 1674339538.0168483, \"/Users/mpiekenbrock/opt/miniconda3/envs/simplicial/lib/python3.10/site-packages/PIL/GimpPaletteFile.py\": 1674339538.0066845, \"/Users/mpiekenbrock/opt/miniconda3/envs/simplicial/lib/python3.10/site-packages/PIL/ImageColor.py\": 1674339538.007066, \"/Users/mpiekenbrock/opt/miniconda3/envs/simplicial/lib/python3.10/site-packages/PIL/PaletteFile.py\": 1674339538.0103443, \"/Users/mpiekenbrock/opt/miniconda3/envs/simplicial/lib/python3.10/site-packages/PIL/ImagePalette.py\": 1674339538.0268984, \"/Users/mpiekenbrock/opt/miniconda3/envs/simplicial/lib/python3.10/site-packages/PIL/ImageSequence.py\": 1674339538.0289905, \"/Users/mpiekenbrock/opt/miniconda3/envs/simplicial/lib/python3.10/site-packages/PIL/PngImagePlugin.py\": 1674339538.001557, \"/Users/mpiekenbrock/opt/miniconda3/envs/simplicial/lib/python3.10/site-packages/matplotlib/_cm.py\": 1675379390.9556277, \"/Users/mpiekenbrock/opt/miniconda3/envs/simplicial/lib/python3.10/site-packages/matplotlib/_path.cpython-310-darwin.so\": 1675379390.9666345, \"/Users/mpiekenbrock/opt/miniconda3/envs/simplicial/lib/python3.10/site-packages/matplotlib/bezier.py\": 1675379390.9634285, \"/Users/mpiekenbrock/opt/miniconda3/envs/simplicial/lib/python3.10/site-packages/matplotlib/path.py\": 1675379391.0081153, \"/Users/mpiekenbrock/opt/miniconda3/envs/simplicial/lib/python3.10/site-packages/matplotlib/transforms.py\": 1675379390.9496553, \"/Users/mpiekenbrock/opt/miniconda3/envs/simplicial/lib/python3.10/site-packages/matplotlib/ticker.py\": 1675379391.0059552, \"/Users/mpiekenbrock/opt/miniconda3/envs/simplicial/lib/python3.10/site-packages/matplotlib/scale.py\": 1675379391.0105455, \"/Users/mpiekenbrock/opt/miniconda3/envs/simplicial/lib/python3.10/site-packages/matplotlib/_color_data.py\": 1675379390.989367, \"/Users/mpiekenbrock/opt/miniconda3/envs/simplicial/lib/python3.10/site-packages/matplotlib/colors.py\": 1675379391.0141132, \"/Users/mpiekenbrock/opt/miniconda3/envs/simplicial/lib/python3.10/site-packages/pyparsing/util.py\": 1675379389.9249241, \"/Users/mpiekenbrock/opt/miniconda3/envs/simplicial/lib/python3.10/site-packages/pyparsing/unicode.py\": 1675379389.9246192, \"/Users/mpiekenbrock/opt/miniconda3/envs/simplicial/lib/python3.10/site-packages/pyparsing/exceptions.py\": 1675379389.9229555, \"/Users/mpiekenbrock/opt/miniconda3/envs/simplicial/lib/python3.10/site-packages/pyparsing/actions.py\": 1675379389.921215, \"/Users/mpiekenbrock/opt/miniconda3/envs/simplicial/lib/python3.10/site-packages/pyparsing/results.py\": 1675379389.9240375, \"/Users/mpiekenbrock/opt/miniconda3/envs/simplicial/lib/python3.10/site-packages/pyparsing/core.py\": 1675379389.9225166, \"/Users/mpiekenbrock/opt/miniconda3/envs/simplicial/lib/python3.10/site-packages/pyparsing/helpers.py\": 1675379389.9234781, \"/Users/mpiekenbrock/opt/miniconda3/envs/simplicial/lib/python3.10/site-packages/pyparsing/testing.py\": 1675379389.9243402, \"/Users/mpiekenbrock/opt/miniconda3/envs/simplicial/lib/python3.10/site-packages/pyparsing/common.py\": 1675379389.9215107, \"/Users/mpiekenbrock/opt/miniconda3/envs/simplicial/lib/python3.10/site-packages/pyparsing/__init__.py\": 1675379389.9209027, \"/Users/mpiekenbrock/opt/miniconda3/envs/simplicial/lib/python3.10/site-packages/matplotlib/_fontconfig_pattern.py\": 1675379390.9568133, \"/Users/mpiekenbrock/opt/miniconda3/envs/simplicial/lib/python3.10/site-packages/matplotlib/_enums.py\": 1675379390.9718776, \"/Users/mpiekenbrock/opt/miniconda3/envs/simplicial/lib/python3.10/site-packages/cycler.py\": 1675379390.8918126, \"/Users/mpiekenbrock/opt/miniconda3/envs/simplicial/lib/python3.10/site-packages/matplotlib/rcsetup.py\": 1675379391.0051286, \"/Users/mpiekenbrock/opt/miniconda3/envs/simplicial/lib/python3.10/site-packages/matplotlib/ft2font.cpython-310-darwin.so\": 1675379390.9798791, \"/Users/mpiekenbrock/opt/miniconda3/envs/simplicial/lib/python3.10/site-packages/kiwisolver/_cext.cpython-310-darwin.so\": 1675379389.999221, \"/Users/mpiekenbrock/opt/miniconda3/envs/simplicial/lib/python3.10/site-packages/kiwisolver/__init__.py\": 1675379389.9973867, \"/Users/mpiekenbrock/opt/miniconda3/envs/simplicial/lib/python3.10/site-packages/matplotlib/_cm_listed.py\": 1675379391.0000968, \"/Users/mpiekenbrock/opt/miniconda3/envs/simplicial/lib/python3.10/site-packages/matplotlib/cm.py\": 1675379390.9643323, \"/Users/mpiekenbrock/opt/miniconda3/envs/simplicial/lib/python3.10/site-packages/matplotlib/__init__.py\": 1675379390.9692814, \"/Users/mpiekenbrock/opt/miniconda3/envs/simplicial/lib/python3.10/site-packages/matplotlib/artist.py\": 1675379390.9872417, \"/Users/mpiekenbrock/opt/miniconda3/envs/simplicial/lib/python3.10/site-packages/matplotlib/hatch.py\": 1675379390.9488075, \"/Users/mpiekenbrock/opt/miniconda3/envs/simplicial/lib/python3.10/site-packages/matplotlib/markers.py\": 1675379390.9962184, \"/Users/mpiekenbrock/opt/miniconda3/envs/simplicial/lib/python3.10/site-packages/matplotlib/lines.py\": 1675379390.981951, \"/Users/mpiekenbrock/opt/miniconda3/envs/simplicial/lib/python3.10/site-packages/matplotlib/collections.py\": 1675379390.9936943, \"/Users/mpiekenbrock/opt/miniconda3/envs/simplicial/lib/python3.10/site-packages/matplotlib/_pylab_helpers.py\": 1675379390.9985323, \"/Users/mpiekenbrock/opt/miniconda3/envs/simplicial/lib/python3.10/site-packages/matplotlib/backend_tools.py\": 1675379390.9878383, \"/Users/mpiekenbrock/opt/miniconda3/envs/simplicial/lib/python3.10/site-packages/matplotlib/_text_helpers.py\": 1675379390.9948263, \"/Users/mpiekenbrock/opt/miniconda3/envs/simplicial/lib/python3.10/site-packages/matplotlib/dviread.py\": 1675379390.9844065, \"/Users/mpiekenbrock/opt/miniconda3/envs/simplicial/lib/python3.10/site-packages/matplotlib/_mathtext_data.py\": 1675379390.986523, \"/Users/mpiekenbrock/opt/miniconda3/envs/simplicial/lib/python3.10/site-packages/matplotlib/_afm.py\": 1675379390.9638507, \"/Users/mpiekenbrock/opt/miniconda3/envs/simplicial/lib/python3.10/site-packages/matplotlib/font_manager.py\": 1675379390.962985, \"/Users/mpiekenbrock/opt/miniconda3/envs/simplicial/lib/python3.10/site-packages/matplotlib/_mathtext.py\": 1675379390.9707, \"/Users/mpiekenbrock/opt/miniconda3/envs/simplicial/lib/python3.10/site-packages/matplotlib/mathtext.py\": 1675379390.956458, \"/Users/mpiekenbrock/opt/miniconda3/envs/simplicial/lib/python3.10/site-packages/matplotlib/texmanager.py\": 1675379390.9900434, \"/Users/mpiekenbrock/opt/miniconda3/envs/simplicial/lib/python3.10/site-packages/matplotlib/textpath.py\": 1675379390.9516501, \"/Users/mpiekenbrock/opt/miniconda3/envs/simplicial/lib/python3.10/site-packages/matplotlib/_tight_bbox.py\": 1675379390.951265, \"/Users/mpiekenbrock/opt/miniconda3/envs/simplicial/lib/python3.10/site-packages/matplotlib/patches.py\": 1675379390.9920335, \"/Users/mpiekenbrock/opt/miniconda3/envs/simplicial/lib/python3.10/site-packages/matplotlib/widgets.py\": 1675379390.9829729, \"/Users/mpiekenbrock/opt/miniconda3/envs/simplicial/lib/python3.10/site-packages/matplotlib/backend_managers.py\": 1675379390.956037, \"/Users/mpiekenbrock/opt/miniconda3/envs/simplicial/lib/python3.10/site-packages/matplotlib/backend_bases.py\": 1675379390.953325, \"/Users/mpiekenbrock/opt/miniconda3/envs/simplicial/lib/python3.10/site-packages/matplotlib/text.py\": 1675379390.995577, \"/Users/mpiekenbrock/opt/miniconda3/envs/simplicial/lib/python3.10/site-packages/matplotlib/contour.py\": 1675379391.0093436, \"/Users/mpiekenbrock/opt/miniconda3/envs/simplicial/lib/python3.10/site-packages/matplotlib/spines.py\": 1675379390.9943602, \"/Users/mpiekenbrock/opt/miniconda3/envs/simplicial/lib/python3.10/site-packages/matplotlib/colorbar.py\": 1675379390.954692, \"/Users/mpiekenbrock/opt/miniconda3/envs/simplicial/lib/python3.10/site-packages/matplotlib/_image.cpython-310-darwin.so\": 1675379391.0075724, \"/Users/mpiekenbrock/opt/miniconda3/envs/simplicial/lib/python3.10/site-packages/matplotlib/image.py\": 1675379391.0100422, \"/Users/mpiekenbrock/opt/miniconda3/envs/simplicial/lib/python3.10/site-packages/matplotlib/style/core.py\": 1675379391.0857358, \"/Users/mpiekenbrock/opt/miniconda3/envs/simplicial/lib/python3.10/site-packages/matplotlib/style/__init__.py\": 1675379391.0854008, \"/Users/mpiekenbrock/opt/miniconda3/envs/simplicial/lib/python3.10/site-packages/matplotlib/_blocking_input.py\": 1675379390.9977589, \"/Users/mpiekenbrock/opt/miniconda3/envs/simplicial/lib/python3.10/site-packages/matplotlib/units.py\": 1675379390.953752, \"/Users/mpiekenbrock/opt/miniconda3/envs/simplicial/lib/python3.10/site-packages/matplotlib/category.py\": 1675379391.0109189, \"/Users/mpiekenbrock/opt/miniconda3/envs/simplicial/lib/python3.10/site-packages/dateutil/rrule.py\": 1673812952.9597793, \"/Users/mpiekenbrock/opt/miniconda3/envs/simplicial/lib/python3.10/site-packages/matplotlib/dates.py\": 1675379391.001205, \"/Users/mpiekenbrock/opt/miniconda3/envs/simplicial/lib/python3.10/site-packages/matplotlib/offsetbox.py\": 1675379390.9724367, \"/Users/mpiekenbrock/opt/miniconda3/envs/simplicial/lib/python3.10/site-packages/matplotlib/container.py\": 1675379390.980695, \"/Users/mpiekenbrock/opt/miniconda3/envs/simplicial/lib/python3.10/site-packages/matplotlib/legend_handler.py\": 1675379390.9501424, \"/Users/mpiekenbrock/opt/miniconda3/envs/simplicial/lib/python3.10/site-packages/matplotlib/legend.py\": 1675379390.9648955, \"/Users/mpiekenbrock/opt/miniconda3/envs/simplicial/lib/python3.10/site-packages/matplotlib/mlab.py\": 1675379390.9969413, \"/Users/mpiekenbrock/opt/miniconda3/envs/simplicial/lib/python3.10/site-packages/matplotlib/quiver.py\": 1675379390.95227, \"/Users/mpiekenbrock/opt/miniconda3/envs/simplicial/lib/python3.10/site-packages/matplotlib/stackplot.py\": 1675379390.9926734, \"/Users/mpiekenbrock/opt/miniconda3/envs/simplicial/lib/python3.10/site-packages/matplotlib/streamplot.py\": 1675379391.0133586, \"/Users/mpiekenbrock/opt/miniconda3/envs/simplicial/lib/python3.10/site-packages/matplotlib/table.py\": 1675379391.0020564, \"/Users/mpiekenbrock/opt/miniconda3/envs/simplicial/lib/python3.10/site-packages/matplotlib/tri/triangulation.py\": 1675379391.0172694, \"/Users/mpiekenbrock/opt/miniconda3/envs/simplicial/lib/python3.10/site-packages/matplotlib/tri/tricontour.py\": 1675379391.0168743, \"/Users/mpiekenbrock/opt/miniconda3/envs/simplicial/lib/python3.10/site-packages/matplotlib/tri/trifinder.py\": 1675379391.0153177, \"/Users/mpiekenbrock/opt/miniconda3/envs/simplicial/lib/python3.10/site-packages/matplotlib/tri/tritools.py\": 1675379391.016321, \"/Users/mpiekenbrock/opt/miniconda3/envs/simplicial/lib/python3.10/site-packages/matplotlib/tri/triinterpolate.py\": 1675379391.0179179, \"/Users/mpiekenbrock/opt/miniconda3/envs/simplicial/lib/python3.10/site-packages/matplotlib/tri/tripcolor.py\": 1675379391.0149639, \"/Users/mpiekenbrock/opt/miniconda3/envs/simplicial/lib/python3.10/site-packages/matplotlib/tri/triplot.py\": 1675379391.0159569, \"/Users/mpiekenbrock/opt/miniconda3/envs/simplicial/lib/python3.10/site-packages/matplotlib/tri/trirefine.py\": 1675379391.0146127, \"/Users/mpiekenbrock/opt/miniconda3/envs/simplicial/lib/python3.10/site-packages/matplotlib/tri/__init__.py\": 1675379391.015634, \"/Users/mpiekenbrock/opt/miniconda3/envs/simplicial/lib/python3.10/site-packages/matplotlib/axis.py\": 1675379390.9508934, \"/Users/mpiekenbrock/opt/miniconda3/envs/simplicial/lib/python3.10/site-packages/matplotlib/axes/_base.py\": 1675379391.0211902, \"/Users/mpiekenbrock/opt/miniconda3/envs/simplicial/lib/python3.10/site-packages/matplotlib/axes/_secondary_axes.py\": 1675379391.022228, \"/Users/mpiekenbrock/opt/miniconda3/envs/simplicial/lib/python3.10/site-packages/matplotlib/axes/_axes.py\": 1675379391.0199587, \"/Users/mpiekenbrock/opt/miniconda3/envs/simplicial/lib/python3.10/site-packages/matplotlib/_tight_layout.py\": 1675379390.9483953, \"/Users/mpiekenbrock/opt/miniconda3/envs/simplicial/lib/python3.10/site-packages/matplotlib/gridspec.py\": 1675379390.9813204, \"/Users/mpiekenbrock/opt/miniconda3/envs/simplicial/lib/python3.10/site-packages/matplotlib/axes/_subplots.py\": 1675379391.0215647, \"/Users/mpiekenbrock/opt/miniconda3/envs/simplicial/lib/python3.10/site-packages/matplotlib/axes/__init__.py\": 1675379391.0218806, \"/Users/mpiekenbrock/opt/miniconda3/envs/simplicial/lib/python3.10/site-packages/matplotlib/projections/geo.py\": 1675379391.0862122, \"/Users/mpiekenbrock/opt/miniconda3/envs/simplicial/lib/python3.10/site-packages/matplotlib/projections/polar.py\": 1675379391.0867195, \"/Users/mpiekenbrock/opt/miniconda3/envs/simplicial/lib/python3.10/site-packages/mpl_toolkits/mplot3d/proj3d.py\": 1675379390.9373724, \"/Users/mpiekenbrock/opt/miniconda3/envs/simplicial/lib/python3.10/site-packages/mpl_toolkits/mplot3d/art3d.py\": 1675379390.940722, \"/Users/mpiekenbrock/opt/miniconda3/envs/simplicial/lib/python3.10/site-packages/mpl_toolkits/mplot3d/axis3d.py\": 1675379390.9399407, \"/Users/mpiekenbrock/opt/miniconda3/envs/simplicial/lib/python3.10/site-packages/mpl_toolkits/mplot3d/axes3d.py\": 1675379390.9391315, \"/Users/mpiekenbrock/opt/miniconda3/envs/simplicial/lib/python3.10/site-packages/mpl_toolkits/mplot3d/__init__.py\": 1675379390.9378119, \"/Users/mpiekenbrock/opt/miniconda3/envs/simplicial/lib/python3.10/site-packages/matplotlib/projections/__init__.py\": 1675379391.0870538, \"/Users/mpiekenbrock/opt/miniconda3/envs/simplicial/lib/python3.10/site-packages/matplotlib/_layoutgrid.py\": 1675379391.0085912, \"/Users/mpiekenbrock/opt/miniconda3/envs/simplicial/lib/python3.10/site-packages/matplotlib/_constrained_layout.py\": 1675379391.0113707, \"/Users/mpiekenbrock/opt/miniconda3/envs/simplicial/lib/python3.10/site-packages/matplotlib/layout_engine.py\": 1675379390.997399, \"/Users/mpiekenbrock/opt/miniconda3/envs/simplicial/lib/python3.10/site-packages/matplotlib/figure.py\": 1675379390.968177, \"/Users/mpiekenbrock/opt/miniconda3/envs/simplicial/lib/python3.10/site-packages/matplotlib/pyplot.py\": 1675379391.003787, \"/Users/mpiekenbrock/opt/miniconda3/envs/simplicial/lib/python3.10/site-packages/matplotlib/backends/__init__.py\": 1675379391.0340614, \"/Users/mpiekenbrock/opt/miniconda3/envs/simplicial/lib/python3.10/site-packages/matplotlib/backends/_backend_agg.cpython-310-darwin.so\": 1675379391.0293927, \"/Users/mpiekenbrock/opt/miniconda3/envs/simplicial/lib/python3.10/site-packages/matplotlib/backends/backend_agg.py\": 1675379391.043293, \"/Users/mpiekenbrock/opt/miniconda3/envs/simplicial/lib/python3.10/site-packages/matplotlib_inline/config.py\": 1673812953.0149202, \"/Users/mpiekenbrock/opt/miniconda3/envs/simplicial/lib/python3.10/site-packages/matplotlib_inline/backend_inline.py\": 1673812953.0145297, \"/Users/mpiekenbrock/opt/miniconda3/envs/simplicial/lib/python3.10/site-packages/matplotlib_inline/__init__.py\": 1673812953.0141087, \"/Users/mpiekenbrock/opt/miniconda3/envs/simplicial/lib/python3.10/site-packages/_plotly_utils/__init__.py\": 1675548152.4622881, \"/Users/mpiekenbrock/opt/miniconda3/envs/simplicial/lib/python3.10/site-packages/_plotly_utils/importers.py\": 1675548152.4641104, \"/Users/mpiekenbrock/opt/miniconda3/envs/simplicial/lib/python3.10/site-packages/plotly/__init__.py\": 1675548152.5179539, \"/Users/mpiekenbrock/opt/miniconda3/envs/simplicial/lib/python3.10/site-packages/plotly/io/_templates.py\": 1675548152.9896958, \"/Users/mpiekenbrock/opt/miniconda3/envs/simplicial/lib/python3.10/site-packages/plotly/io/__init__.py\": 1675548152.9872239, \"/Users/mpiekenbrock/opt/miniconda3/envs/simplicial/lib/python3.10/site-packages/setuptools/_distutils/__init__.py\": 1659543724.0, \"/Users/mpiekenbrock/opt/miniconda3/envs/simplicial/lib/python3.10/site-packages/setuptools/_distutils/debug.py\": 1659543724.0, \"/Users/mpiekenbrock/opt/miniconda3/envs/simplicial/lib/python3.10/site-packages/setuptools/_distutils/errors.py\": 1659543724.0, \"/Users/mpiekenbrock/opt/miniconda3/envs/simplicial/lib/python3.10/site-packages/setuptools/_distutils/fancy_getopt.py\": 1659543724.0, \"/Users/mpiekenbrock/opt/miniconda3/envs/simplicial/lib/python3.10/site-packages/setuptools/_distutils/dep_util.py\": 1659543724.0, \"/Users/mpiekenbrock/opt/miniconda3/envs/simplicial/lib/python3.10/site-packages/setuptools/_distutils/log.py\": 1659543724.0, \"/Users/mpiekenbrock/opt/miniconda3/envs/simplicial/lib/python3.10/site-packages/setuptools/_distutils/spawn.py\": 1659543724.0, \"/Users/mpiekenbrock/opt/miniconda3/envs/simplicial/lib/python3.10/site-packages/setuptools/_distutils/util.py\": 1659543724.0, \"/Users/mpiekenbrock/opt/miniconda3/envs/simplicial/lib/python3.10/site-packages/setuptools/_distutils/dist.py\": 1659543724.0, \"/Users/mpiekenbrock/opt/miniconda3/envs/simplicial/lib/python3.10/site-packages/setuptools/_distutils/dir_util.py\": 1659543724.0, \"/Users/mpiekenbrock/opt/miniconda3/envs/simplicial/lib/python3.10/site-packages/setuptools/_distutils/file_util.py\": 1659543724.0, \"/Users/mpiekenbrock/opt/miniconda3/envs/simplicial/lib/python3.10/lib-dynload/grp.cpython-310-darwin.so\": 1665174155.0, \"/Users/mpiekenbrock/opt/miniconda3/envs/simplicial/lib/python3.10/site-packages/setuptools/_distutils/archive_util.py\": 1659543724.0, \"/Users/mpiekenbrock/opt/miniconda3/envs/simplicial/lib/python3.10/site-packages/setuptools/_distutils/cmd.py\": 1659543724.0, \"/Users/mpiekenbrock/opt/miniconda3/envs/simplicial/lib/python3.10/site-packages/setuptools/_distutils/config.py\": 1659543724.0, \"/Users/mpiekenbrock/opt/miniconda3/envs/simplicial/lib/python3.10/site-packages/setuptools/_distutils/extension.py\": 1659543724.0, \"/Users/mpiekenbrock/opt/miniconda3/envs/simplicial/lib/python3.10/site-packages/setuptools/_distutils/core.py\": 1659543724.0, \"/Users/mpiekenbrock/opt/miniconda3/envs/simplicial/lib/python3.10/site-packages/_distutils_hack/override.py\": 1659543724.0, \"/Users/mpiekenbrock/opt/miniconda3/envs/simplicial/lib/python3.10/site-packages/setuptools/_deprecation_warning.py\": 1659543724.0, \"/Users/mpiekenbrock/opt/miniconda3/envs/simplicial/lib/python3.10/site-packages/setuptools/version.py\": 1659543724.0, \"/Users/mpiekenbrock/opt/miniconda3/envs/simplicial/lib/python3.10/site-packages/setuptools/_distutils/filelist.py\": 1659543724.0, \"/Users/mpiekenbrock/opt/miniconda3/envs/simplicial/lib/python3.10/site-packages/setuptools/monkey.py\": 1659543724.0, \"/Users/mpiekenbrock/opt/miniconda3/envs/simplicial/lib/python3.10/site-packages/setuptools/extension.py\": 1659543724.0, \"/Users/mpiekenbrock/opt/miniconda3/envs/simplicial/lib/python3.10/site-packages/setuptools/_distutils/command/__init__.py\": 1659543724.0, \"/Users/mpiekenbrock/opt/miniconda3/envs/simplicial/lib/python3.10/site-packages/setuptools/extern/__init__.py\": 1659543724.0, \"/Users/mpiekenbrock/opt/miniconda3/envs/simplicial/lib/python3.10/site-packages/setuptools/_vendor/__init__.py\": 1659543724.0, \"/Users/mpiekenbrock/opt/miniconda3/envs/simplicial/lib/python3.10/site-packages/setuptools/_vendor/packaging/__about__.py\": 1659543724.0, \"/Users/mpiekenbrock/opt/miniconda3/envs/simplicial/lib/python3.10/site-packages/setuptools/_vendor/packaging/__init__.py\": 1659543724.0, \"/Users/mpiekenbrock/opt/miniconda3/envs/simplicial/lib/python3.10/site-packages/setuptools/_vendor/ordered_set.py\": 1659543724.0, \"/Users/mpiekenbrock/opt/miniconda3/envs/simplicial/lib/python3.10/site-packages/setuptools/_vendor/more_itertools/recipes.py\": 1659543724.0, \"/Users/mpiekenbrock/opt/miniconda3/envs/simplicial/lib/python3.10/site-packages/setuptools/_vendor/more_itertools/more.py\": 1659543724.0, \"/Users/mpiekenbrock/opt/miniconda3/envs/simplicial/lib/python3.10/site-packages/setuptools/_vendor/more_itertools/__init__.py\": 1659543724.0, \"/Users/mpiekenbrock/opt/miniconda3/envs/simplicial/lib/python3.10/lib-dynload/_csv.cpython-310-darwin.so\": 1665174153.0, \"/Users/mpiekenbrock/opt/miniconda3/envs/simplicial/lib/python3.10/csv.py\": 1665174127.0, \"/Users/mpiekenbrock/opt/miniconda3/envs/simplicial/lib/python3.10/importlib/metadata/_functools.py\": 1665174128.0, \"/Users/mpiekenbrock/opt/miniconda3/envs/simplicial/lib/python3.10/importlib/metadata/_text.py\": 1665174128.0, \"/Users/mpiekenbrock/opt/miniconda3/envs/simplicial/lib/python3.10/importlib/metadata/_adapters.py\": 1665174128.0, \"/Users/mpiekenbrock/opt/miniconda3/envs/simplicial/lib/python3.10/importlib/metadata/_meta.py\": 1665174128.0, \"/Users/mpiekenbrock/opt/miniconda3/envs/simplicial/lib/python3.10/importlib/metadata/_collections.py\": 1665174128.0, \"/Users/mpiekenbrock/opt/miniconda3/envs/simplicial/lib/python3.10/importlib/metadata/_itertools.py\": 1665174128.0, \"/Users/mpiekenbrock/opt/miniconda3/envs/simplicial/lib/python3.10/importlib/metadata/__init__.py\": 1665174128.0, \"/Users/mpiekenbrock/opt/miniconda3/envs/simplicial/lib/python3.10/site-packages/setuptools/_importlib.py\": 1659543724.0, \"/Users/mpiekenbrock/opt/miniconda3/envs/simplicial/lib/python3.10/site-packages/setuptools/_distutils/command/bdist.py\": 1659543724.0, \"/Users/mpiekenbrock/opt/miniconda3/envs/simplicial/lib/python3.10/site-packages/setuptools/command/__init__.py\": 1659543724.0, \"/Users/mpiekenbrock/opt/miniconda3/envs/simplicial/lib/python3.10/site-packages/setuptools/windows_support.py\": 1659543724.0, \"/Users/mpiekenbrock/opt/miniconda3/envs/simplicial/lib/python3.10/site-packages/setuptools/_vendor/packaging/_structures.py\": 1659543724.0, \"/Users/mpiekenbrock/opt/miniconda3/envs/simplicial/lib/python3.10/site-packages/setuptools/_vendor/packaging/version.py\": 1659543724.0, \"/Users/mpiekenbrock/opt/miniconda3/envs/simplicial/lib/python3.10/site-packages/setuptools/_vendor/packaging/_manylinux.py\": 1659543724.0, \"/Users/mpiekenbrock/opt/miniconda3/envs/simplicial/lib/python3.10/site-packages/setuptools/_vendor/packaging/_musllinux.py\": 1659543724.0, \"/Users/mpiekenbrock/opt/miniconda3/envs/simplicial/lib/python3.10/site-packages/setuptools/_vendor/packaging/tags.py\": 1659543724.0, \"/Users/mpiekenbrock/opt/miniconda3/envs/simplicial/lib/python3.10/site-packages/setuptools/_vendor/packaging/utils.py\": 1659543724.0, \"/Users/mpiekenbrock/opt/miniconda3/envs/simplicial/lib/python3.10/site-packages/setuptools/_vendor/packaging/specifiers.py\": 1659543724.0, \"/Users/mpiekenbrock/opt/miniconda3/envs/simplicial/lib/python3.10/site-packages/setuptools/config/expand.py\": 1659543724.0, \"/Users/mpiekenbrock/opt/miniconda3/envs/simplicial/lib/python3.10/site-packages/setuptools/config/setupcfg.py\": 1659543724.0, \"/Users/mpiekenbrock/opt/miniconda3/envs/simplicial/lib/python3.10/site-packages/setuptools/config/__init__.py\": 1659543724.0, \"/Users/mpiekenbrock/opt/miniconda3/envs/simplicial/lib/python3.10/site-packages/setuptools/errors.py\": 1659543724.0, \"/Users/mpiekenbrock/opt/miniconda3/envs/simplicial/lib/python3.10/email/_header_value_parser.py\": 1665174128.0, \"/Users/mpiekenbrock/opt/miniconda3/envs/simplicial/lib/python3.10/email/headerregistry.py\": 1665174128.0, \"/Users/mpiekenbrock/opt/miniconda3/envs/simplicial/lib/python3.10/site-packages/setuptools/config/_apply_pyprojecttoml.py\": 1659543724.0, \"/Users/mpiekenbrock/opt/miniconda3/envs/simplicial/lib/python3.10/site-packages/setuptools/config/pyprojecttoml.py\": 1659543724.0, \"/Users/mpiekenbrock/opt/miniconda3/envs/simplicial/lib/python3.10/site-packages/setuptools/discovery.py\": 1659543724.0, \"/Users/mpiekenbrock/opt/miniconda3/envs/simplicial/lib/python3.10/site-packages/setuptools/_vendor/jaraco/__init__.py\": 1659543724.0, \"/Users/mpiekenbrock/opt/miniconda3/envs/simplicial/lib/python3.10/site-packages/setuptools/_vendor/jaraco/functools.py\": 1659543724.0, \"/Users/mpiekenbrock/opt/miniconda3/envs/simplicial/lib/python3.10/site-packages/setuptools/_vendor/jaraco/context.py\": 1659543724.0, \"/Users/mpiekenbrock/opt/miniconda3/envs/simplicial/lib/python3.10/site-packages/setuptools/_vendor/jaraco/text/__init__.py\": 1659543724.0, \"/Users/mpiekenbrock/opt/miniconda3/envs/simplicial/lib/python3.10/site-packages/setuptools/_reqs.py\": 1659543724.0, \"/Users/mpiekenbrock/opt/miniconda3/envs/simplicial/lib/python3.10/site-packages/setuptools/_itertools.py\": 1659543724.0, \"/Users/mpiekenbrock/opt/miniconda3/envs/simplicial/lib/python3.10/site-packages/setuptools/_entry_points.py\": 1659543724.0, \"/Users/mpiekenbrock/opt/miniconda3/envs/simplicial/lib/python3.10/site-packages/setuptools/dist.py\": 1659543724.0, \"/Users/mpiekenbrock/opt/miniconda3/envs/simplicial/lib/python3.10/site-packages/setuptools/py34compat.py\": 1659543724.0, \"/Users/mpiekenbrock/opt/miniconda3/envs/simplicial/lib/python3.10/site-packages/setuptools/_imp.py\": 1659543724.0, \"/Users/mpiekenbrock/opt/miniconda3/envs/simplicial/lib/python3.10/site-packages/setuptools/depends.py\": 1659543724.0, \"/Users/mpiekenbrock/opt/miniconda3/envs/simplicial/lib/python3.10/site-packages/setuptools/logging.py\": 1659543724.0, \"/Users/mpiekenbrock/opt/miniconda3/envs/simplicial/lib/python3.10/site-packages/setuptools/_distutils/ccompiler.py\": 1659543724.0, \"/Users/mpiekenbrock/opt/miniconda3/envs/simplicial/lib/python3.10/site-packages/setuptools/msvc.py\": 1659543724.0, \"/Users/mpiekenbrock/opt/miniconda3/envs/simplicial/lib/python3.10/site-packages/setuptools/__init__.py\": 1659543724.0, \"/Users/mpiekenbrock/opt/miniconda3/envs/simplicial/lib/python3.10/site-packages/setuptools/_distutils/version.py\": 1659543724.0, \"/Users/mpiekenbrock/opt/miniconda3/envs/simplicial/lib/python3.10/site-packages/_plotly_utils/optional_imports.py\": 1675548152.4643571, \"/Users/mpiekenbrock/opt/miniconda3/envs/simplicial/lib/python3.10/site-packages/plotly/optional_imports.py\": 1675548152.5234516, \"/Users/mpiekenbrock/opt/miniconda3/envs/simplicial/lib/python3.10/webbrowser.py\": 1665174127.0, \"/Users/mpiekenbrock/opt/miniconda3/envs/simplicial/lib/python3.10/site-packages/_plotly_utils/basevalidators.py\": 1675548152.4628053, \"/Users/mpiekenbrock/opt/miniconda3/envs/simplicial/lib/python3.10/site-packages/_plotly_utils/utils.py\": 1675548152.4652429, \"/Users/mpiekenbrock/opt/miniconda3/envs/simplicial/lib/python3.10/site-packages/_plotly_utils/png.py\": 1675548152.464911, \"/Users/mpiekenbrock/opt/miniconda3/envs/simplicial/lib/python3.10/site-packages/_plotly_utils/data_utils.py\": 1675548152.4630997, \"/Users/mpiekenbrock/opt/miniconda3/envs/simplicial/lib/python3.10/site-packages/plotly/utils.py\": 1675548152.526141, \"/Users/mpiekenbrock/opt/miniconda3/envs/simplicial/lib/python3.10/site-packages/plotly/graph_objs/__init__.py\": 1675548152.5392244, \"/Users/mpiekenbrock/opt/miniconda3/envs/simplicial/lib/python3.10/site-packages/_plotly_utils/exceptions.py\": 1675548152.4634027, \"/Users/mpiekenbrock/opt/miniconda3/envs/simplicial/lib/python3.10/site-packages/plotly/exceptions.py\": 1675548152.5222173, \"/Users/mpiekenbrock/opt/miniconda3/envs/simplicial/lib/python3.10/site-packages/_plotly_utils/files.py\": 1675548152.4638562, \"/Users/mpiekenbrock/opt/miniconda3/envs/simplicial/lib/python3.10/site-packages/plotly/files.py\": 1675548152.5224588, \"/Users/mpiekenbrock/opt/miniconda3/envs/simplicial/lib/python3.10/site-packages/plotly/tools.py\": 1675548152.52585, \"/Users/mpiekenbrock/opt/miniconda3/envs/simplicial/lib/python3.10/site-packages/plotly/offline/_plotlyjs_version.py\": 1675548152.99503, \"/Users/mpiekenbrock/opt/miniconda3/envs/simplicial/lib/python3.10/site-packages/plotly/offline/offline.py\": 1675548152.9953527, \"/Users/mpiekenbrock/opt/miniconda3/envs/simplicial/lib/python3.10/site-packages/plotly/offline/__init__.py\": 1675548152.994804, \"/Users/mpiekenbrock/opt/miniconda3/envs/simplicial/lib/python3.10/site-packages/plotly/io/_utils.py\": 1675548152.9899423, \"/Users/mpiekenbrock/opt/miniconda3/envs/simplicial/lib/python3.10/site-packages/plotly/io/_json.py\": 1675548152.9881716, \"/Users/mpiekenbrock/opt/miniconda3/envs/simplicial/lib/python3.10/site-packages/plotly/io/_kaleido.py\": 1675548152.988443, \"/Users/mpiekenbrock/opt/miniconda3/envs/simplicial/lib/python3.10/site-packages/plotly/io/_html.py\": 1675548152.9878323, \"/Users/mpiekenbrock/opt/miniconda3/envs/simplicial/lib/python3.10/site-packages/tenacity/retry.py\": 1675548152.2736242, \"/Users/mpiekenbrock/opt/miniconda3/envs/simplicial/lib/python3.10/site-packages/tenacity/nap.py\": 1675548152.2731564, \"/Users/mpiekenbrock/opt/miniconda3/envs/simplicial/lib/python3.10/site-packages/tenacity/stop.py\": 1675548152.274018, \"/Users/mpiekenbrock/opt/miniconda3/envs/simplicial/lib/python3.10/site-packages/tenacity/_utils.py\": 1675548152.2721717, \"/Users/mpiekenbrock/opt/miniconda3/envs/simplicial/lib/python3.10/site-packages/tenacity/wait.py\": 1675548152.274599, \"/Users/mpiekenbrock/opt/miniconda3/envs/simplicial/lib/python3.10/site-packages/tenacity/before.py\": 1675548152.272664, \"/Users/mpiekenbrock/opt/miniconda3/envs/simplicial/lib/python3.10/site-packages/tenacity/after.py\": 1675548152.2724195, \"/Users/mpiekenbrock/opt/miniconda3/envs/simplicial/lib/python3.10/site-packages/tenacity/before_sleep.py\": 1675548152.2729027, \"/Users/mpiekenbrock/opt/miniconda3/envs/simplicial/lib/python3.10/site-packages/tenacity/_asyncio.py\": 1675548152.2718441, \"/Users/mpiekenbrock/opt/miniconda3/envs/simplicial/lib/python3.10/site-packages/tenacity/tornadoweb.py\": 1675548152.2742612, \"/Users/mpiekenbrock/opt/miniconda3/envs/simplicial/lib/python3.10/site-packages/tenacity/__init__.py\": 1675548152.2715585, \"/Users/mpiekenbrock/opt/miniconda3/envs/simplicial/lib/python3.10/site-packages/plotly/io/_orca.py\": 1675548152.988849, \"/Users/mpiekenbrock/opt/miniconda3/envs/simplicial/lib/python3.10/site-packages/plotly/io/_base_renderers.py\": 1675548152.987533, \"/Users/mpiekenbrock/opt/miniconda3/envs/simplicial/lib/python3.10/site-packages/nbformat/v1/convert.py\": 1674407431.9273148, \"/Users/mpiekenbrock/opt/miniconda3/envs/simplicial/lib/python3.10/site-packages/nbformat/_struct.py\": 1674407431.9214292, \"/Users/mpiekenbrock/opt/miniconda3/envs/simplicial/lib/python3.10/site-packages/nbformat/v1/nbbase.py\": 1674407431.927656, \"/Users/mpiekenbrock/opt/miniconda3/envs/simplicial/lib/python3.10/site-packages/nbformat/v1/rwbase.py\": 1674407431.9282794, \"/Users/mpiekenbrock/opt/miniconda3/envs/simplicial/lib/python3.10/site-packages/nbformat/v1/nbjson.py\": 1674407431.927966, \"/Users/mpiekenbrock/opt/miniconda3/envs/simplicial/lib/python3.10/site-packages/nbformat/v1/__init__.py\": 1674407431.9269686, \"/Users/mpiekenbrock/opt/miniconda3/envs/simplicial/lib/python3.10/site-packages/nbformat/v2/nbbase.py\": 1674407431.929488, \"/Users/mpiekenbrock/opt/miniconda3/envs/simplicial/lib/python3.10/site-packages/nbformat/v2/convert.py\": 1674407431.9291286, \"/Users/mpiekenbrock/opt/miniconda3/envs/simplicial/lib/python3.10/site-packages/nbformat/v2/rwbase.py\": 1674407431.9308608, \"/Users/mpiekenbrock/opt/miniconda3/envs/simplicial/lib/python3.10/site-packages/nbformat/v2/nbjson.py\": 1674407431.9298272, \"/Users/mpiekenbrock/opt/miniconda3/envs/simplicial/lib/python3.10/site-packages/nbformat/v2/nbpy.py\": 1674407431.9301643, \"/Users/mpiekenbrock/opt/miniconda3/envs/simplicial/lib/python3.10/site-packages/nbformat/v2/nbxml.py\": 1674407431.9304986, \"/Users/mpiekenbrock/opt/miniconda3/envs/simplicial/lib/python3.10/site-packages/nbformat/v2/__init__.py\": 1674407431.9286923, \"/Users/mpiekenbrock/opt/miniconda3/envs/simplicial/lib/python3.10/site-packages/nbformat/v3/nbbase.py\": 1674407431.9319594, \"/Users/mpiekenbrock/opt/miniconda3/envs/simplicial/lib/python3.10/site-packages/nbformat/v3/convert.py\": 1674407431.931604, \"/Users/mpiekenbrock/opt/miniconda3/envs/simplicial/lib/python3.10/site-packages/nbformat/v3/rwbase.py\": 1674407431.933339, \"/Users/mpiekenbrock/opt/miniconda3/envs/simplicial/lib/python3.10/site-packages/nbformat/v3/nbjson.py\": 1674407431.9326603, \"/Users/mpiekenbrock/opt/miniconda3/envs/simplicial/lib/python3.10/site-packages/nbformat/v3/nbpy.py\": 1674407431.9329996, \"/Users/mpiekenbrock/opt/miniconda3/envs/simplicial/lib/python3.10/site-packages/nbformat/v3/__init__.py\": 1674407431.9312673, \"/Users/mpiekenbrock/opt/miniconda3/envs/simplicial/lib/python3.10/site-packages/nbformat/corpus/__init__.py\": 1674407431.9256215, \"/Users/mpiekenbrock/opt/miniconda3/envs/simplicial/lib/python3.10/site-packages/nbformat/corpus/words.py\": 1674407431.925958, \"/Users/mpiekenbrock/opt/miniconda3/envs/simplicial/lib/python3.10/site-packages/nbformat/notebooknode.py\": 1674407431.923098, \"/Users/mpiekenbrock/opt/miniconda3/envs/simplicial/lib/python3.10/site-packages/nbformat/v4/nbbase.py\": 1674407431.9343975, \"/Users/mpiekenbrock/opt/miniconda3/envs/simplicial/lib/python3.10/site-packages/nbformat/v4/rwbase.py\": 1674407431.9375765, \"/Users/mpiekenbrock/opt/miniconda3/envs/simplicial/lib/python3.10/site-packages/nbformat/v4/nbjson.py\": 1674407431.9372563, \"/Users/mpiekenbrock/opt/miniconda3/envs/simplicial/lib/python3.10/site-packages/nbformat/_imports.py\": 1674407431.9210305, \"/Users/mpiekenbrock/opt/miniconda3/envs/simplicial/lib/python3.10/site-packages/fastjsonschema/exceptions.py\": 1674339326.162283, \"/Users/mpiekenbrock/opt/miniconda3/envs/simplicial/lib/python3.10/site-packages/fastjsonschema/indent.py\": 1674339326.1628919, \"/Users/mpiekenbrock/opt/miniconda3/envs/simplicial/lib/python3.10/site-packages/fastjsonschema/ref_resolver.py\": 1674339326.1632137, \"/Users/mpiekenbrock/opt/miniconda3/envs/simplicial/lib/python3.10/site-packages/fastjsonschema/generator.py\": 1674339326.1626039, \"/Users/mpiekenbrock/opt/miniconda3/envs/simplicial/lib/python3.10/site-packages/fastjsonschema/draft04.py\": 1674339326.1613767, \"/Users/mpiekenbrock/opt/miniconda3/envs/simplicial/lib/python3.10/site-packages/fastjsonschema/draft06.py\": 1674339326.1616936, \"/Users/mpiekenbrock/opt/miniconda3/envs/simplicial/lib/python3.10/site-packages/fastjsonschema/draft07.py\": 1674339326.1619873, \"/Users/mpiekenbrock/opt/miniconda3/envs/simplicial/lib/python3.10/site-packages/fastjsonschema/version.py\": 1674339326.1635075, \"/Users/mpiekenbrock/opt/miniconda3/envs/simplicial/lib/python3.10/site-packages/fastjsonschema/__init__.py\": 1674339326.1606789, \"/Users/mpiekenbrock/opt/miniconda3/envs/simplicial/lib/python3.10/site-packages/attr/_compat.py\": 1674407457.11917, \"/Users/mpiekenbrock/opt/miniconda3/envs/simplicial/lib/python3.10/site-packages/attr/_config.py\": 1674407457.119453, \"/Users/mpiekenbrock/opt/miniconda3/envs/simplicial/lib/python3.10/site-packages/attr/exceptions.py\": 1674407457.1223013, \"/Users/mpiekenbrock/opt/miniconda3/envs/simplicial/lib/python3.10/site-packages/attr/setters.py\": 1674407457.1236372, \"/Users/mpiekenbrock/opt/miniconda3/envs/simplicial/lib/python3.10/site-packages/attr/_make.py\": 1674407457.1205518, \"/Users/mpiekenbrock/opt/miniconda3/envs/simplicial/lib/python3.10/site-packages/attr/converters.py\": 1674407457.121739, \"/Users/mpiekenbrock/opt/miniconda3/envs/simplicial/lib/python3.10/site-packages/attr/filters.py\": 1674407457.1228921, \"/Users/mpiekenbrock/opt/miniconda3/envs/simplicial/lib/python3.10/site-packages/attr/validators.py\": 1674407457.124218, \"/Users/mpiekenbrock/opt/miniconda3/envs/simplicial/lib/python3.10/site-packages/attr/_cmp.py\": 1674407457.1185842, \"/Users/mpiekenbrock/opt/miniconda3/envs/simplicial/lib/python3.10/site-packages/attr/_funcs.py\": 1674407457.1197875, \"/Users/mpiekenbrock/opt/miniconda3/envs/simplicial/lib/python3.10/site-packages/attr/_version_info.py\": 1674407457.121176, \"/Users/mpiekenbrock/opt/miniconda3/envs/simplicial/lib/python3.10/site-packages/attr/_next_gen.py\": 1674407457.1208835, \"/Users/mpiekenbrock/opt/miniconda3/envs/simplicial/lib/python3.10/site-packages/attr/__init__.py\": 1674407457.1179633, \"/Users/mpiekenbrock/opt/miniconda3/envs/simplicial/lib/python3.10/site-packages/jsonschema/compat.py\": 1674407457.5684268, \"/Users/mpiekenbrock/opt/miniconda3/envs/simplicial/lib/python3.10/site-packages/jsonschema/_utils.py\": 1674407457.5674675, \"/Users/mpiekenbrock/opt/miniconda3/envs/simplicial/lib/python3.10/site-packages/jsonschema/exceptions.py\": 1674407457.5687864, \"/Users/mpiekenbrock/opt/miniconda3/envs/simplicial/lib/python3.10/site-packages/idna/package_data.py\": 1674336296.916476, \"/Users/mpiekenbrock/opt/miniconda3/envs/simplicial/lib/python3.10/site-packages/idna/idnadata.py\": 1674336296.9158993, \"/Users/mpiekenbrock/opt/miniconda3/envs/simplicial/lib/python3.10/site-packages/idna/intranges.py\": 1674336296.916197, \"/Users/mpiekenbrock/opt/miniconda3/envs/simplicial/lib/python3.10/site-packages/idna/core.py\": 1674336296.915465, \"/Users/mpiekenbrock/opt/miniconda3/envs/simplicial/lib/python3.10/site-packages/idna/__init__.py\": 1674336296.9147248, \"/Users/mpiekenbrock/opt/miniconda3/envs/simplicial/lib/python3.10/site-packages/rfc3986_validator.py\": 1674407456.6115935, \"/Users/mpiekenbrock/opt/miniconda3/envs/simplicial/lib/python3.10/site-packages/rfc3339_validator.py\": 1674407456.6161482, \"/Users/mpiekenbrock/opt/miniconda3/envs/simplicial/lib/python3.10/site-packages/jsonschema/_format.py\": 1674407457.5660715, \"/Users/mpiekenbrock/opt/miniconda3/envs/simplicial/lib/python3.10/site-packages/pyrsistent/_transformations.py\": 1674407430.8498359, \"/Users/mpiekenbrock/opt/miniconda3/envs/simplicial/lib/python3.10/site-packages/pvectorc.cpython-310-darwin.so\": 1674407430.8466518, \"/Users/mpiekenbrock/opt/miniconda3/envs/simplicial/lib/python3.10/site-packages/pyrsistent/_pvector.py\": 1674407430.8505516, \"/Users/mpiekenbrock/opt/miniconda3/envs/simplicial/lib/python3.10/site-packages/pyrsistent/_pmap.py\": 1674407430.849097, \"/Users/mpiekenbrock/opt/miniconda3/envs/simplicial/lib/python3.10/site-packages/pyrsistent/_pset.py\": 1674407430.8512266, \"/Users/mpiekenbrock/opt/miniconda3/envs/simplicial/lib/python3.10/site-packages/pyrsistent/_pbag.py\": 1674407430.8531022, \"/Users/mpiekenbrock/opt/miniconda3/envs/simplicial/lib/python3.10/site-packages/pyrsistent/_plist.py\": 1674407430.8521397, \"/Users/mpiekenbrock/opt/miniconda3/envs/simplicial/lib/python3.10/site-packages/pyrsistent/_pdeque.py\": 1674407430.854852, \"/Users/mpiekenbrock/opt/miniconda3/envs/simplicial/lib/python3.10/site-packages/pyrsistent/_checked_types.py\": 1674407430.8509176, \"/Users/mpiekenbrock/opt/miniconda3/envs/simplicial/lib/python3.10/site-packages/pyrsistent/_field_common.py\": 1674407430.850163, \"/Users/mpiekenbrock/opt/miniconda3/envs/simplicial/lib/python3.10/site-packages/pyrsistent/_precord.py\": 1674407430.8542476, \"/Users/mpiekenbrock/opt/miniconda3/envs/simplicial/lib/python3.10/site-packages/pyrsistent/_pclass.py\": 1674407430.8524668, \"/Users/mpiekenbrock/opt/miniconda3/envs/simplicial/lib/python3.10/site-packages/pyrsistent/_immutable.py\": 1674407430.8515284, \"/Users/mpiekenbrock/opt/miniconda3/envs/simplicial/lib/python3.10/site-packages/pyrsistent/_helpers.py\": 1674407430.8545308, \"/Users/mpiekenbrock/opt/miniconda3/envs/simplicial/lib/python3.10/site-packages/pyrsistent/_toolz.py\": 1674407430.8534062, \"/Users/mpiekenbrock/opt/miniconda3/envs/simplicial/lib/python3.10/site-packages/pyrsistent/__init__.py\": 1674407430.8518174, \"/Users/mpiekenbrock/opt/miniconda3/envs/simplicial/lib/python3.10/site-packages/jsonschema/_types.py\": 1674407457.5670996, \"/Users/mpiekenbrock/opt/miniconda3/envs/simplicial/lib/python3.10/site-packages/jsonschema/_legacy_validators.py\": 1674407457.5663605, \"/Users/mpiekenbrock/opt/miniconda3/envs/simplicial/lib/python3.10/site-packages/jsonschema/_validators.py\": 1674407457.5678396, \"/Users/mpiekenbrock/opt/miniconda3/envs/simplicial/lib/python3.10/site-packages/jsonschema/validators.py\": 1674407457.5692413, \"/Users/mpiekenbrock/opt/miniconda3/envs/simplicial/lib/python3.10/site-packages/jsonschema/__init__.py\": 1674407457.565504, \"/Users/mpiekenbrock/opt/miniconda3/envs/simplicial/lib/python3.10/site-packages/nbformat/json_compat.py\": 1674407431.9227734, \"/Users/mpiekenbrock/opt/miniconda3/envs/simplicial/lib/python3.10/site-packages/nbformat/reader.py\": 1674407431.9236574, \"/Users/mpiekenbrock/opt/miniconda3/envs/simplicial/lib/python3.10/site-packages/nbformat/warnings.py\": 1674407431.9253309, \"/Users/mpiekenbrock/opt/miniconda3/envs/simplicial/lib/python3.10/site-packages/nbformat/validator.py\": 1674407431.9249513, \"/Users/mpiekenbrock/opt/miniconda3/envs/simplicial/lib/python3.10/site-packages/nbformat/v4/convert.py\": 1674407431.934075, \"/Users/mpiekenbrock/opt/miniconda3/envs/simplicial/lib/python3.10/site-packages/nbformat/v4/__init__.py\": 1674407431.9337308, \"/Users/mpiekenbrock/opt/miniconda3/envs/simplicial/lib/python3.10/site-packages/nbformat/_version.py\": 1674407431.9217606, \"/Users/mpiekenbrock/opt/miniconda3/envs/simplicial/lib/python3.10/site-packages/nbformat/sentinel.py\": 1674407431.9239864, \"/Users/mpiekenbrock/opt/miniconda3/envs/simplicial/lib/python3.10/site-packages/nbformat/converter.py\": 1674407431.922089, \"/Users/mpiekenbrock/opt/miniconda3/envs/simplicial/lib/python3.10/site-packages/nbformat/__init__.py\": 1674407431.9206798, \"/Users/mpiekenbrock/opt/miniconda3/envs/simplicial/lib/python3.10/site-packages/plotly/io/_renderers.py\": 1675548152.9891512, \"/Users/mpiekenbrock/opt/miniconda3/envs/simplicial/lib/python3.10/site-packages/pytz/exceptions.py\": 1674336296.3840995, \"/Users/mpiekenbrock/opt/miniconda3/envs/simplicial/lib/python3.10/site-packages/pytz/lazy.py\": 1674336296.384534, \"/Users/mpiekenbrock/opt/miniconda3/envs/simplicial/lib/python3.10/site-packages/pytz/tzinfo.py\": 1674336296.3859634, \"/Users/mpiekenbrock/opt/miniconda3/envs/simplicial/lib/python3.10/site-packages/pytz/tzfile.py\": 1674336296.3853095, \"/Users/mpiekenbrock/opt/miniconda3/envs/simplicial/lib/python3.10/site-packages/pytz/__init__.py\": 1674336296.3835895, \"/Users/mpiekenbrock/opt/miniconda3/envs/simplicial/lib/python3.10/site-packages/pandas/_typing.py\": 1674339538.3363717, \"/Users/mpiekenbrock/opt/miniconda3/envs/simplicial/lib/python3.10/site-packages/pandas/_libs/tslibs/np_datetime.cpython-310-darwin.so\": 1674339538.43957, \"/Users/mpiekenbrock/opt/miniconda3/envs/simplicial/lib/python3.10/site-packages/pandas/_libs/tslibs/dtypes.cpython-310-darwin.so\": 1674339538.4330487, \"/Users/mpiekenbrock/opt/miniconda3/envs/simplicial/lib/python3.10/site-packages/pandas/_libs/tslibs/base.cpython-310-darwin.so\": 1674339538.4279153, \"/Users/mpiekenbrock/opt/miniconda3/envs/simplicial/lib/python3.10/site-packages/pandas/util/_exceptions.py\": 1674339538.9362066, \"/Users/mpiekenbrock/opt/miniconda3/envs/simplicial/lib/python3.10/site-packages/pandas/_libs/tslibs/nattype.cpython-310-darwin.so\": 1674339538.4377873, \"/Users/mpiekenbrock/opt/miniconda3/envs/simplicial/lib/python3.10/site-packages/pandas/util/version/__init__.py\": 1674339538.938503, \"/Users/mpiekenbrock/opt/miniconda3/envs/simplicial/lib/python3.10/site-packages/pandas/compat/_optional.py\": 1674339538.480826, \"/Users/mpiekenbrock/opt/miniconda3/envs/simplicial/lib/python3.10/zoneinfo/_tzpath.py\": 1665174129.0, \"/Users/mpiekenbrock/opt/miniconda3/envs/simplicial/lib/python3.10/zoneinfo/_common.py\": 1665174129.0, \"/Users/mpiekenbrock/opt/miniconda3/envs/simplicial/lib/python3.10/lib-dynload/_zoneinfo.cpython-310-darwin.so\": 1665174154.0, \"/Users/mpiekenbrock/opt/miniconda3/envs/simplicial/lib/python3.10/zoneinfo/__init__.py\": 1665174129.0, \"/Users/mpiekenbrock/opt/miniconda3/envs/simplicial/lib/python3.10/site-packages/pandas/_libs/tslibs/timezones.cpython-310-darwin.so\": 1674339538.4656868, \"/Users/mpiekenbrock/opt/miniconda3/envs/simplicial/lib/python3.10/site-packages/pandas/_libs/tslibs/tzconversion.cpython-310-darwin.so\": 1674339538.4683785, \"/Users/mpiekenbrock/opt/miniconda3/envs/simplicial/lib/python3.10/site-packages/pandas/_libs/tslibs/ccalendar.cpython-310-darwin.so\": 1674339538.4289653, \"/Users/mpiekenbrock/opt/miniconda3/envs/simplicial/lib/python3.10/site-packages/pandas/_config/config.py\": 1674339538.3379426, \"/Users/mpiekenbrock/opt/miniconda3/envs/simplicial/lib/python3.10/site-packages/pandas/_config/dates.py\": 1674339538.3382032, \"/Users/mpiekenbrock/opt/miniconda3/envs/simplicial/lib/python3.10/site-packages/pandas/_config/display.py\": 1674339538.338491, \"/Users/mpiekenbrock/opt/miniconda3/envs/simplicial/lib/python3.10/site-packages/pandas/_config/__init__.py\": 1674339538.3375866, \"/Users/mpiekenbrock/opt/miniconda3/envs/simplicial/lib/python3.10/site-packages/pandas/_config/localization.py\": 1674339538.338763, \"/Users/mpiekenbrock/opt/miniconda3/envs/simplicial/lib/python3.10/site-packages/pandas/_libs/tslibs/fields.cpython-310-darwin.so\": 1674339538.4357193, \"/Users/mpiekenbrock/opt/miniconda3/envs/simplicial/lib/python3.10/site-packages/pandas/_libs/tslibs/timedeltas.cpython-310-darwin.so\": 1674339538.4589427, \"/Users/mpiekenbrock/opt/miniconda3/envs/simplicial/lib/python3.10/site-packages/pandas/_libs/tslibs/timestamps.cpython-310-darwin.so\": 1674339538.463055, \"/Users/mpiekenbrock/opt/miniconda3/envs/simplicial/lib/python3.10/site-packages/dateutil/easter.py\": 1673812952.9588385, \"/Users/mpiekenbrock/opt/miniconda3/envs/simplicial/lib/python3.10/site-packages/pandas/_libs/properties.cpython-310-darwin.so\": 1674339538.4129825, \"/Users/mpiekenbrock/opt/miniconda3/envs/simplicial/lib/python3.10/site-packages/pandas/_libs/tslibs/offsets.cpython-310-darwin.so\": 1674339538.4455323, \"/Users/mpiekenbrock/opt/miniconda3/envs/simplicial/lib/python3.10/site-packages/pandas/_libs/tslibs/parsing.cpython-310-darwin.so\": 1674339538.4492977, \"/Users/mpiekenbrock/opt/miniconda3/envs/simplicial/lib/python3.10/site-packages/pandas/_libs/tslibs/conversion.cpython-310-darwin.so\": 1674339538.4311352, \"/Users/mpiekenbrock/opt/miniconda3/envs/simplicial/lib/python3.10/site-packages/pandas/_libs/tslibs/period.cpython-310-darwin.so\": 1674339538.4526246, \"/Users/mpiekenbrock/opt/miniconda3/envs/simplicial/lib/python3.10/site-packages/pandas/_libs/tslibs/vectorized.cpython-310-darwin.so\": 1674339538.4707997, \"/Users/mpiekenbrock/opt/miniconda3/envs/simplicial/lib/python3.10/site-packages/pandas/_libs/tslibs/__init__.py\": 1674339538.4274442, \"/Users/mpiekenbrock/opt/miniconda3/envs/simplicial/lib/python3.10/site-packages/pandas/_libs/ops_dispatch.cpython-310-darwin.so\": 1674339538.40812, \"/Users/mpiekenbrock/opt/miniconda3/envs/simplicial/lib/python3.10/site-packages/pandas/_libs/missing.cpython-310-darwin.so\": 1674339538.4047728, \"/Users/mpiekenbrock/opt/miniconda3/envs/simplicial/lib/python3.10/site-packages/pandas/_libs/hashtable.cpython-310-darwin.so\": 1674339538.3686352, \"/Users/mpiekenbrock/opt/miniconda3/envs/simplicial/lib/python3.10/site-packages/pandas/_libs/algos.cpython-310-darwin.so\": 1674339538.3477335, \"/Users/mpiekenbrock/opt/miniconda3/envs/simplicial/lib/python3.10/site-packages/pandas/_libs/interval.cpython-310-darwin.so\": 1674339538.383276, \"/Users/mpiekenbrock/opt/miniconda3/envs/simplicial/lib/python3.10/site-packages/pandas/_libs/__init__.py\": 1674339538.3390613, \"/Users/mpiekenbrock/opt/miniconda3/envs/simplicial/lib/python3.10/site-packages/pandas/util/_decorators.py\": 1674339538.935454, \"/Users/mpiekenbrock/opt/miniconda3/envs/simplicial/lib/python3.10/site-packages/pandas/core/__init__.py\": 1674339538.4822693, \"/Users/mpiekenbrock/opt/miniconda3/envs/simplicial/lib/python3.10/site-packages/pandas/core/util/__init__.py\": 1674339538.5387876, \"/Users/mpiekenbrock/opt/miniconda3/envs/simplicial/lib/python3.10/site-packages/pandas/_libs/tslib.cpython-310-darwin.so\": 1674339538.4244707, \"/Users/mpiekenbrock/opt/miniconda3/envs/simplicial/lib/python3.10/site-packages/pandas/_libs/lib.cpython-310-darwin.so\": 1674339538.4023335, \"/Users/mpiekenbrock/opt/miniconda3/envs/simplicial/lib/python3.10/site-packages/pandas/_libs/hashing.cpython-310-darwin.so\": 1674339538.3613515, \"/Users/mpiekenbrock/opt/miniconda3/envs/simplicial/lib/python3.10/site-packages/pandas/core/dtypes/__init__.py\": 1674339538.5108197, \"/Users/mpiekenbrock/opt/miniconda3/envs/simplicial/lib/python3.10/site-packages/pandas/errors/__init__.py\": 1674339538.5422328, \"/Users/mpiekenbrock/opt/miniconda3/envs/simplicial/lib/python3.10/site-packages/pandas/core/dtypes/generic.py\": 1674339538.5135257, \"/Users/mpiekenbrock/opt/miniconda3/envs/simplicial/lib/python3.10/site-packages/pandas/core/dtypes/base.py\": 1674339538.5116372, \"/Users/mpiekenbrock/opt/miniconda3/envs/simplicial/lib/python3.10/site-packages/pandas/core/dtypes/inference.py\": 1674339538.5137923, \"/Users/mpiekenbrock/opt/miniconda3/envs/simplicial/lib/python3.10/site-packages/pandas/core/dtypes/dtypes.py\": 1674339538.513276, \"/Users/mpiekenbrock/opt/miniconda3/envs/simplicial/lib/python3.10/site-packages/pandas/core/dtypes/common.py\": 1674339538.5126023, \"/Users/mpiekenbrock/opt/miniconda3/envs/simplicial/lib/python3.10/site-packages/pandas/core/util/hashing.py\": 1674339538.5390627, \"/Users/mpiekenbrock/opt/miniconda3/envs/simplicial/lib/python3.10/site-packages/pandas/util/__init__.py\": 1674339538.9348824, \"/Users/mpiekenbrock/opt/miniconda3/envs/simplicial/lib/python3.10/site-packages/pandas/compat/numpy/__init__.py\": 1674339538.4818041, \"/Users/mpiekenbrock/opt/miniconda3/envs/simplicial/lib/python3.10/site-packages/pandas/compat/pyarrow.py\": 1674339538.4815428, \"/Users/mpiekenbrock/opt/miniconda3/envs/simplicial/lib/python3.10/site-packages/pandas/compat/__init__.py\": 1674339538.480578, \"/Users/mpiekenbrock/opt/miniconda3/envs/simplicial/lib/python3.10/site-packages/pandas/core/config_init.py\": 1674339538.4849958, \"/Users/mpiekenbrock/opt/miniconda3/envs/simplicial/lib/python3.10/site-packages/pandas/core/dtypes/missing.py\": 1674339538.514104, \"/Users/mpiekenbrock/opt/miniconda3/envs/simplicial/lib/python3.10/site-packages/pandas/util/_validators.py\": 1674339538.9376972, \"/Users/mpiekenbrock/opt/miniconda3/envs/simplicial/lib/python3.10/site-packages/pandas/core/dtypes/astype.py\": 1674339538.5113416, \"/Users/mpiekenbrock/opt/miniconda3/envs/simplicial/lib/python3.10/site-packages/pandas/core/dtypes/cast.py\": 1674339538.5122163, \"/Users/mpiekenbrock/opt/miniconda3/envs/simplicial/lib/python3.10/site-packages/pandas/core/dtypes/concat.py\": 1674339538.5128973, \"/Users/mpiekenbrock/opt/miniconda3/envs/simplicial/lib/python3.10/site-packages/pandas/core/array_algos/__init__.py\": 1674339538.4959607, \"/Users/mpiekenbrock/opt/miniconda3/envs/simplicial/lib/python3.10/site-packages/pandas/core/common.py\": 1674339538.4846723, \"/Users/mpiekenbrock/opt/miniconda3/envs/simplicial/lib/python3.10/site-packages/pandas/core/construction.py\": 1674339538.4853404, \"/Users/mpiekenbrock/opt/miniconda3/envs/simplicial/lib/python3.10/site-packages/pandas/core/array_algos/take.py\": 1674339538.4974895, \"/Users/mpiekenbrock/opt/miniconda3/envs/simplicial/lib/python3.10/site-packages/pandas/core/indexers/utils.py\": 1674339538.5183733, \"/Users/mpiekenbrock/opt/miniconda3/envs/simplicial/lib/python3.10/site-packages/pandas/core/indexers/__init__.py\": 1674339538.5177877, \"/Users/mpiekenbrock/opt/miniconda3/envs/simplicial/lib/python3.10/site-packages/pandas/core/algorithms.py\": 1674339538.4829981, \"/Users/mpiekenbrock/opt/miniconda3/envs/simplicial/lib/python3.10/site-packages/pandas/core/roperator.py\": 1674339538.4916697, \"/Users/mpiekenbrock/opt/miniconda3/envs/simplicial/lib/python3.10/site-packages/pandas/_libs/ops.cpython-310-darwin.so\": 1674339538.406961, \"/Users/mpiekenbrock/opt/miniconda3/envs/simplicial/lib/python3.10/site-packages/pandas/core/computation/__init__.py\": 1674339538.5072982, \"/Users/mpiekenbrock/opt/miniconda3/envs/simplicial/lib/python3.10/site-packages/pandas/core/computation/check.py\": 1674339538.5080404, \"/Users/mpiekenbrock/opt/miniconda3/envs/simplicial/lib/python3.10/site-packages/pandas/core/computation/expressions.py\": 1674339538.5094552, \"/Users/mpiekenbrock/opt/miniconda3/envs/simplicial/lib/python3.10/site-packages/pandas/core/ops/missing.py\": 1674339538.5317895, \"/Users/mpiekenbrock/opt/miniconda3/envs/simplicial/lib/python3.10/site-packages/pandas/core/ops/dispatch.py\": 1674339538.5304658, \"/Users/mpiekenbrock/opt/miniconda3/envs/simplicial/lib/python3.10/site-packages/pandas/core/ops/invalid.py\": 1674339538.5310562, \"/Users/mpiekenbrock/opt/miniconda3/envs/simplicial/lib/python3.10/site-packages/pandas/core/ops/array_ops.py\": 1674339538.5299735, \"/Users/mpiekenbrock/opt/miniconda3/envs/simplicial/lib/python3.10/site-packages/pandas/core/ops/common.py\": 1674339538.5302312, \"/Users/mpiekenbrock/opt/miniconda3/envs/simplicial/lib/python3.10/site-packages/pandas/core/ops/docstrings.py\": 1674339538.5308197, \"/Users/mpiekenbrock/opt/miniconda3/envs/simplicial/lib/python3.10/site-packages/pandas/core/ops/mask_ops.py\": 1674339538.531292, \"/Users/mpiekenbrock/opt/miniconda3/envs/simplicial/lib/python3.10/site-packages/pandas/core/ops/methods.py\": 1674339538.5315428, \"/Users/mpiekenbrock/opt/miniconda3/envs/simplicial/lib/python3.10/site-packages/pandas/core/ops/__init__.py\": 1674339538.529662, \"/Users/mpiekenbrock/opt/miniconda3/envs/simplicial/lib/python3.10/site-packages/pandas/core/arraylike.py\": 1674339538.48398, \"/Users/mpiekenbrock/opt/miniconda3/envs/simplicial/lib/python3.10/site-packages/pandas/compat/numpy/function.py\": 1674339538.4820712, \"/Users/mpiekenbrock/opt/miniconda3/envs/simplicial/lib/python3.10/site-packages/pandas/core/missing.py\": 1674339538.4905393, \"/Users/mpiekenbrock/opt/miniconda3/envs/simplicial/lib/python3.10/site-packages/pandas/core/array_algos/quantile.py\": 1674339538.496955, \"/Users/mpiekenbrock/opt/miniconda3/envs/simplicial/lib/python3.10/site-packages/pandas/core/sorting.py\": 1674339538.4934952, \"/Users/mpiekenbrock/opt/miniconda3/envs/simplicial/lib/python3.10/site-packages/pandas/core/arrays/base.py\": 1674339538.4989898, \"/Users/mpiekenbrock/opt/miniconda3/envs/simplicial/lib/python3.10/site-packages/pandas/core/arrays/arrow/array.py\": 1674339538.5050385, \"/Users/mpiekenbrock/opt/miniconda3/envs/simplicial/lib/python3.10/site-packages/pandas/core/arrays/arrow/dtype.py\": 1674339538.5052965, \"/Users/mpiekenbrock/opt/miniconda3/envs/simplicial/lib/python3.10/site-packages/pandas/core/arrays/arrow/__init__.py\": 1674339538.504449, \"/Users/mpiekenbrock/opt/miniconda3/envs/simplicial/lib/python3.10/site-packages/pandas/core/nanops.py\": 1674339538.4909258, \"/Users/mpiekenbrock/opt/miniconda3/envs/simplicial/lib/python3.10/site-packages/pandas/core/array_algos/masked_reductions.py\": 1674339538.4963183, \"/Users/mpiekenbrock/opt/miniconda3/envs/simplicial/lib/python3.10/site-packages/pandas/core/arrays/masked.py\": 1674339538.502319, \"/Users/mpiekenbrock/opt/miniconda3/envs/simplicial/lib/python3.10/site-packages/pandas/core/arrays/boolean.py\": 1674339538.499287, \"/Users/mpiekenbrock/opt/miniconda3/envs/simplicial/lib/python3.10/site-packages/pandas/_libs/arrays.cpython-310-darwin.so\": 1674339538.3500328, \"/Users/mpiekenbrock/opt/miniconda3/envs/simplicial/lib/python3.10/site-packages/pandas/core/accessor.py\": 1674339538.4825492, \"/Users/mpiekenbrock/opt/miniconda3/envs/simplicial/lib/python3.10/site-packages/pandas/core/array_algos/transforms.py\": 1674339538.497736, \"/Users/mpiekenbrock/opt/miniconda3/envs/simplicial/lib/python3.10/site-packages/pandas/core/arrays/_mixins.py\": 1674339538.4982896, \"/Users/mpiekenbrock/opt/miniconda3/envs/simplicial/lib/python3.10/site-packages/pandas/core/base.py\": 1674339538.484356, \"/Users/mpiekenbrock/opt/miniconda3/envs/simplicial/lib/python3.10/site-packages/pandas/core/strings/accessor.py\": 1674339538.536474, \"/Users/mpiekenbrock/opt/miniconda3/envs/simplicial/lib/python3.10/site-packages/pandas/core/strings/base.py\": 1674339538.536802, \"/Users/mpiekenbrock/opt/miniconda3/envs/simplicial/lib/python3.10/site-packages/pandas/core/strings/__init__.py\": 1674339538.5359054, \"/Users/mpiekenbrock/opt/miniconda3/envs/simplicial/lib/python3.10/site-packages/pandas/core/strings/object_array.py\": 1674339538.5371833, \"/Users/mpiekenbrock/opt/miniconda3/envs/simplicial/lib/python3.10/site-packages/pandas/io/__init__.py\": 1674339538.5424998, \"/Users/mpiekenbrock/opt/miniconda3/envs/simplicial/lib/python3.10/site-packages/pandas/io/formats/__init__.py\": 1674339538.5516024, \"/Users/mpiekenbrock/opt/miniconda3/envs/simplicial/lib/python3.10/site-packages/pandas/io/formats/console.py\": 1674339538.5520816, \"/Users/mpiekenbrock/opt/miniconda3/envs/simplicial/lib/python3.10/site-packages/pandas/core/arrays/categorical.py\": 1674339538.499845, \"/Users/mpiekenbrock/opt/miniconda3/envs/simplicial/lib/python3.10/site-packages/pandas/core/arrays/numeric.py\": 1674339538.5025923, \"/Users/mpiekenbrock/opt/miniconda3/envs/simplicial/lib/python3.10/site-packages/pandas/core/arrays/integer.py\": 1674339538.5015178, \"/Users/mpiekenbrock/opt/miniconda3/envs/simplicial/lib/python3.10/site-packages/pandas/tseries/__init__.py\": 1674339538.9322653, \"/Users/mpiekenbrock/opt/miniconda3/envs/simplicial/lib/python3.10/site-packages/pandas/tseries/frequencies.py\": 1674339538.9331303, \"/Users/mpiekenbrock/opt/miniconda3/envs/simplicial/lib/python3.10/site-packages/pandas/core/arrays/datetimelike.py\": 1674339538.500371, \"/Users/mpiekenbrock/opt/miniconda3/envs/simplicial/lib/python3.10/site-packages/pandas/core/arrays/_ranges.py\": 1674339538.4985547, \"/Users/mpiekenbrock/opt/miniconda3/envs/simplicial/lib/python3.10/site-packages/pandas/tseries/offsets.py\": 1674339538.9341784, \"/Users/mpiekenbrock/opt/miniconda3/envs/simplicial/lib/python3.10/site-packages/pandas/core/arrays/datetimes.py\": 1674339538.5010004, \"/Users/mpiekenbrock/opt/miniconda3/envs/simplicial/lib/python3.10/site-packages/pandas/core/arrays/floating.py\": 1674339538.5012696, \"/Users/mpiekenbrock/opt/miniconda3/envs/simplicial/lib/python3.10/site-packages/pandas/core/indexes/__init__.py\": 1674339538.5185735, \"/Users/mpiekenbrock/opt/miniconda3/envs/simplicial/lib/python3.10/site-packages/pandas/_libs/index.cpython-310-darwin.so\": 1674339538.373062, \"/Users/mpiekenbrock/opt/miniconda3/envs/simplicial/lib/python3.10/site-packages/pandas/_libs/join.cpython-310-darwin.so\": 1674339538.3964112, \"/Users/mpiekenbrock/opt/miniconda3/envs/simplicial/lib/python3.10/site-packages/pandas/core/array_algos/putmask.py\": 1674339538.4966788, \"/Users/mpiekenbrock/opt/miniconda3/envs/simplicial/lib/python3.10/site-packages/pandas/_libs/sparse.cpython-310-darwin.so\": 1674339538.4205394, \"/Users/mpiekenbrock/opt/miniconda3/envs/simplicial/lib/python3.10/site-packages/pandas/core/arrays/sparse/dtype.py\": 1674339538.5068307, \"/Users/mpiekenbrock/opt/miniconda3/envs/simplicial/lib/python3.10/site-packages/pandas/io/formats/printing.py\": 1674339538.5547414, \"/Users/mpiekenbrock/opt/miniconda3/envs/simplicial/lib/python3.10/site-packages/pandas/core/arrays/sparse/array.py\": 1674339538.5065405, \"/Users/mpiekenbrock/opt/miniconda3/envs/simplicial/lib/python3.10/site-packages/pandas/core/arrays/sparse/accessor.py\": 1674339538.506095, \"/Users/mpiekenbrock/opt/miniconda3/envs/simplicial/lib/python3.10/site-packages/pandas/core/arrays/sparse/__init__.py\": 1674339538.5058281, \"/Users/mpiekenbrock/opt/miniconda3/envs/simplicial/lib/python3.10/site-packages/pandas/core/arrays/numpy_.py\": 1674339538.5028667, \"/Users/mpiekenbrock/opt/miniconda3/envs/simplicial/lib/python3.10/site-packages/pandas/core/arrays/string_.py\": 1674339538.5035381, \"/Users/mpiekenbrock/opt/miniconda3/envs/simplicial/lib/python3.10/site-packages/pandas/core/indexes/frozen.py\": 1674339538.5218332, \"/Users/mpiekenbrock/opt/miniconda3/envs/simplicial/lib/python3.10/site-packages/pandas/core/indexes/base.py\": 1674339538.5201943, \"/Users/mpiekenbrock/opt/miniconda3/envs/simplicial/lib/python3.10/site-packages/pandas/core/arrays/interval.py\": 1674339538.5019333, \"/Users/mpiekenbrock/opt/miniconda3/envs/simplicial/lib/python3.10/site-packages/pandas/core/arrays/period.py\": 1674339538.5032284, \"/Users/mpiekenbrock/opt/miniconda3/envs/simplicial/lib/python3.10/site-packages/pandas/core/arrays/string_arrow.py\": 1674339538.5038269, \"/Users/mpiekenbrock/opt/miniconda3/envs/simplicial/lib/python3.10/site-packages/pandas/core/arrays/timedeltas.py\": 1674339538.5041773, \"/Users/mpiekenbrock/opt/miniconda3/envs/simplicial/lib/python3.10/site-packages/pandas/core/arrays/__init__.py\": 1674339538.4980032, \"/Users/mpiekenbrock/opt/miniconda3/envs/simplicial/lib/python3.10/site-packages/pandas/core/flags.py\": 1674339538.485938, \"/Users/mpiekenbrock/opt/miniconda3/envs/simplicial/lib/python3.10/site-packages/pandas/_libs/reduction.cpython-310-darwin.so\": 1674339538.4139447, \"/Users/mpiekenbrock/opt/miniconda3/envs/simplicial/lib/python3.10/site-packages/pandas/core/apply.py\": 1674339538.483673, \"/Users/mpiekenbrock/opt/miniconda3/envs/simplicial/lib/python3.10/site-packages/pandas/_libs/indexing.cpython-310-darwin.so\": 1674339538.3744555, \"/Users/mpiekenbrock/opt/miniconda3/envs/simplicial/lib/python3.10/site-packages/pandas/core/indexes/extension.py\": 1674339538.5215876, \"/Users/mpiekenbrock/opt/miniconda3/envs/simplicial/lib/python3.10/site-packages/pandas/core/indexes/category.py\": 1674339538.520526, \"/Users/mpiekenbrock/opt/miniconda3/envs/simplicial/lib/python3.10/site-packages/pandas/core/indexes/numeric.py\": 1674339538.523283, \"/Users/mpiekenbrock/opt/miniconda3/envs/simplicial/lib/python3.10/site-packages/pandas/core/indexes/range.py\": 1674339538.523962, \"/Users/mpiekenbrock/opt/miniconda3/envs/simplicial/lib/python3.10/site-packages/pandas/core/tools/__init__.py\": 1674339538.5373833, \"/Users/mpiekenbrock/opt/miniconda3/envs/simplicial/lib/python3.10/site-packages/pandas/core/tools/timedeltas.py\": 1674339538.5383363, \"/Users/mpiekenbrock/opt/miniconda3/envs/simplicial/lib/python3.10/site-packages/pandas/core/indexes/datetimelike.py\": 1674339538.520917, \"/Users/mpiekenbrock/opt/miniconda3/envs/simplicial/lib/python3.10/site-packages/pandas/core/tools/times.py\": 1674339538.5385919, \"/Users/mpiekenbrock/opt/miniconda3/envs/simplicial/lib/python3.10/site-packages/pandas/core/indexes/datetimes.py\": 1674339538.5213163, \"/Users/mpiekenbrock/opt/miniconda3/envs/simplicial/lib/python3.10/site-packages/pandas/core/indexes/multi.py\": 1674339538.522882, \"/Users/mpiekenbrock/opt/miniconda3/envs/simplicial/lib/python3.10/site-packages/pandas/core/indexes/timedeltas.py\": 1674339538.5242329, \"/Users/mpiekenbrock/opt/miniconda3/envs/simplicial/lib/python3.10/site-packages/pandas/core/indexes/interval.py\": 1674339538.5221858, \"/Users/mpiekenbrock/opt/miniconda3/envs/simplicial/lib/python3.10/site-packages/pandas/core/indexes/period.py\": 1674339538.523597, \"/Users/mpiekenbrock/opt/miniconda3/envs/simplicial/lib/python3.10/site-packages/pandas/core/indexes/api.py\": 1674339538.5191336, \"/Users/mpiekenbrock/opt/miniconda3/envs/simplicial/lib/python3.10/site-packages/pandas/core/indexing.py\": 1674339538.4901748, \"/Users/mpiekenbrock/opt/miniconda3/envs/simplicial/lib/python3.10/site-packages/pandas/core/sample.py\": 1674339538.491911, \"/Users/mpiekenbrock/opt/miniconda3/envs/simplicial/lib/python3.10/site-packages/pandas/core/array_algos/replace.py\": 1674339538.4972034, \"/Users/mpiekenbrock/opt/miniconda3/envs/simplicial/lib/python3.10/site-packages/pandas/core/reshape/__init__.py\": 1674339538.5319843, \"/Users/mpiekenbrock/opt/miniconda3/envs/simplicial/lib/python3.10/site-packages/pandas/_libs/internals.cpython-310-darwin.so\": 1674339538.3769157, \"/Users/mpiekenbrock/opt/miniconda3/envs/simplicial/lib/python3.10/site-packages/pandas/_libs/writers.cpython-310-darwin.so\": 1674339538.4266198, \"/Users/mpiekenbrock/opt/miniconda3/envs/simplicial/lib/python3.10/site-packages/pandas/core/internals/blocks.py\": 1674339538.5277455, \"/Users/mpiekenbrock/opt/miniconda3/envs/simplicial/lib/python3.10/site-packages/pandas/core/internals/api.py\": 1674339538.5266123, \"/Users/mpiekenbrock/opt/miniconda3/envs/simplicial/lib/python3.10/site-packages/pandas/core/internals/base.py\": 1674339538.5272405, \"/Users/mpiekenbrock/opt/miniconda3/envs/simplicial/lib/python3.10/site-packages/pandas/core/internals/array_manager.py\": 1674339538.5269837, \"/Users/mpiekenbrock/opt/miniconda3/envs/simplicial/lib/python3.10/site-packages/pandas/core/internals/ops.py\": 1674339538.5293446, \"/Users/mpiekenbrock/opt/miniconda3/envs/simplicial/lib/python3.10/site-packages/pandas/core/internals/managers.py\": 1674339538.5290663, \"/Users/mpiekenbrock/opt/miniconda3/envs/simplicial/lib/python3.10/site-packages/pandas/core/internals/concat.py\": 1674339538.5281348, \"/Users/mpiekenbrock/opt/miniconda3/envs/simplicial/lib/python3.10/site-packages/pandas/core/internals/__init__.py\": 1674339538.5263789, \"/Users/mpiekenbrock/opt/miniconda3/envs/simplicial/lib/python3.10/site-packages/pandas/core/reshape/concat.py\": 1674339538.532534, \"/Users/mpiekenbrock/opt/miniconda3/envs/simplicial/lib/python3.10/lib-dynload/mmap.cpython-310-darwin.so\": 1665174155.0, \"/Users/mpiekenbrock/opt/miniconda3/envs/simplicial/lib/python3.10/tarfile.py\": 1665174127.0, \"/Users/mpiekenbrock/opt/miniconda3/envs/simplicial/lib/python3.10/site-packages/pandas/core/shared_docs.py\": 1674339538.4931774, \"/Users/mpiekenbrock/opt/miniconda3/envs/simplicial/lib/python3.10/site-packages/pandas/io/common.py\": 1674339538.5433226, \"/Users/mpiekenbrock/opt/miniconda3/envs/simplicial/lib/python3.10/site-packages/pandas/io/formats/format.py\": 1674339538.553467, \"/Users/mpiekenbrock/opt/miniconda3/envs/simplicial/lib/python3.10/site-packages/pandas/core/describe.py\": 1674339538.485668, \"/Users/mpiekenbrock/opt/miniconda3/envs/simplicial/lib/python3.10/site-packages/pandas/core/internals/construction.py\": 1674339538.528509, \"/Users/mpiekenbrock/opt/miniconda3/envs/simplicial/lib/python3.10/site-packages/pandas/_libs/window/__init__.py\": 1674339538.4716523, \"/Users/mpiekenbrock/opt/miniconda3/envs/simplicial/lib/python3.10/site-packages/pandas/_libs/window/aggregations.cpython-310-darwin.so\": 1674339538.4738562, \"/Users/mpiekenbrock/opt/miniconda3/envs/simplicial/lib/python3.10/site-packages/pandas/_libs/window/indexers.cpython-310-darwin.so\": 1674339538.4755971, \"/Users/mpiekenbrock/opt/miniconda3/envs/simplicial/lib/python3.10/site-packages/pandas/core/indexers/objects.py\": 1674339538.5180779, \"/Users/mpiekenbrock/opt/miniconda3/envs/simplicial/lib/python3.10/site-packages/pandas/core/util/numba_.py\": 1674339538.5393536, \"/Users/mpiekenbrock/opt/miniconda3/envs/simplicial/lib/python3.10/site-packages/pandas/core/window/common.py\": 1674339538.5399442, \"/Users/mpiekenbrock/opt/miniconda3/envs/simplicial/lib/python3.10/site-packages/pandas/core/window/doc.py\": 1674339538.5401902, \"/Users/mpiekenbrock/opt/miniconda3/envs/simplicial/lib/python3.10/site-packages/pandas/core/window/numba_.py\": 1674339538.541084, \"/Users/mpiekenbrock/opt/miniconda3/envs/simplicial/lib/python3.10/site-packages/pandas/core/window/online.py\": 1674339538.5413275, \"/Users/mpiekenbrock/opt/miniconda3/envs/simplicial/lib/python3.10/site-packages/pandas/core/_numba/__init__.py\": 1674339538.4936965, \"/Users/mpiekenbrock/opt/miniconda3/envs/simplicial/lib/python3.10/site-packages/pandas/core/_numba/executor.py\": 1674339538.4939468, \"/Users/mpiekenbrock/opt/miniconda3/envs/simplicial/lib/python3.10/site-packages/pandas/core/window/rolling.py\": 1674339538.541883, \"/Users/mpiekenbrock/opt/miniconda3/envs/simplicial/lib/python3.10/site-packages/pandas/core/window/ewm.py\": 1674339538.540524, \"/Users/mpiekenbrock/opt/miniconda3/envs/simplicial/lib/python3.10/site-packages/pandas/core/window/expanding.py\": 1674339538.5408227, \"/Users/mpiekenbrock/opt/miniconda3/envs/simplicial/lib/python3.10/site-packages/pandas/core/window/__init__.py\": 1674339538.539654, \"/Users/mpiekenbrock/opt/miniconda3/envs/simplicial/lib/python3.10/site-packages/pandas/core/generic.py\": 1674339538.4893687, \"/Users/mpiekenbrock/opt/miniconda3/envs/simplicial/lib/python3.10/site-packages/pandas/core/reshape/util.py\": 1674339538.535212, \"/Users/mpiekenbrock/opt/miniconda3/envs/simplicial/lib/python3.10/site-packages/pandas/core/tools/numeric.py\": 1674339538.538065, \"/Users/mpiekenbrock/opt/miniconda3/envs/simplicial/lib/python3.10/site-packages/pandas/core/reshape/melt.py\": 1674339538.5331833, \"/Users/mpiekenbrock/opt/miniconda3/envs/simplicial/lib/python3.10/site-packages/pandas/_libs/reshape.cpython-310-darwin.so\": 1674339538.4158146, \"/Users/mpiekenbrock/opt/miniconda3/envs/simplicial/lib/python3.10/site-packages/pandas/core/indexes/accessors.py\": 1674339538.5188622, \"/Users/mpiekenbrock/opt/miniconda3/envs/simplicial/lib/python3.10/site-packages/pandas/_libs/tslibs/strptime.cpython-310-darwin.so\": 1674339538.4552975, \"/Users/mpiekenbrock/opt/miniconda3/envs/simplicial/lib/python3.10/site-packages/pandas/arrays/__init__.py\": 1674339538.4803097, \"/Users/mpiekenbrock/opt/miniconda3/envs/simplicial/lib/python3.10/site-packages/pandas/core/tools/datetimes.py\": 1674339538.537789, \"/Users/mpiekenbrock/opt/miniconda3/envs/simplicial/lib/python3.10/site-packages/pandas/io/formats/info.py\": 1674339538.5541108, \"/Users/mpiekenbrock/opt/miniconda3/envs/simplicial/lib/python3.10/site-packages/pandas/plotting/_core.py\": 1674339538.5662675, \"/Users/mpiekenbrock/opt/miniconda3/envs/simplicial/lib/python3.10/site-packages/pandas/plotting/_misc.py\": 1674339538.566564, \"/Users/mpiekenbrock/opt/miniconda3/envs/simplicial/lib/python3.10/site-packages/pandas/plotting/__init__.py\": 1674339538.5658407, \"/Users/mpiekenbrock/opt/miniconda3/envs/simplicial/lib/python3.10/site-packages/pandas/core/series.py\": 1674339538.4927692, \"/Users/mpiekenbrock/opt/miniconda3/envs/simplicial/lib/python3.10/site-packages/pandas/core/frame.py\": 1674339538.4876266, \"/Users/mpiekenbrock/opt/miniconda3/envs/simplicial/lib/python3.10/site-packages/pandas/core/groupby/base.py\": 1674339538.5146518, \"/Users/mpiekenbrock/opt/miniconda3/envs/simplicial/lib/python3.10/site-packages/pandas/_libs/groupby.cpython-310-darwin.so\": 1674339538.3595164, \"/Users/mpiekenbrock/opt/miniconda3/envs/simplicial/lib/python3.10/site-packages/pandas/core/groupby/numba_.py\": 1674339538.5170236, \"/Users/mpiekenbrock/opt/miniconda3/envs/simplicial/lib/python3.10/site-packages/pandas/core/groupby/categorical.py\": 1674339538.5148933, \"/Users/mpiekenbrock/opt/miniconda3/envs/simplicial/lib/python3.10/site-packages/pandas/core/groupby/grouper.py\": 1674339538.5164948, \"/Users/mpiekenbrock/opt/miniconda3/envs/simplicial/lib/python3.10/site-packages/pandas/core/groupby/ops.py\": 1674339538.5173917, \"/Users/mpiekenbrock/opt/miniconda3/envs/simplicial/lib/python3.10/site-packages/pandas/core/groupby/indexing.py\": 1674339538.5167725, \"/Users/mpiekenbrock/opt/miniconda3/envs/simplicial/lib/python3.10/site-packages/pandas/core/groupby/groupby.py\": 1674339538.5161052, \"/Users/mpiekenbrock/opt/miniconda3/envs/simplicial/lib/python3.10/site-packages/pandas/core/groupby/generic.py\": 1674339538.5153637, \"/Users/mpiekenbrock/opt/miniconda3/envs/simplicial/lib/python3.10/site-packages/pandas/core/groupby/__init__.py\": 1674339538.5143719, \"/Users/mpiekenbrock/opt/miniconda3/envs/simplicial/lib/python3.10/site-packages/pandas/core/api.py\": 1674339538.4832673, \"/Users/mpiekenbrock/opt/miniconda3/envs/simplicial/lib/python3.10/site-packages/pandas/tseries/api.py\": 1674339538.9326708, \"/Users/mpiekenbrock/opt/miniconda3/envs/simplicial/lib/python3.10/site-packages/pandas/core/computation/common.py\": 1674339538.5083413, \"/Users/mpiekenbrock/opt/miniconda3/envs/simplicial/lib/python3.10/site-packages/pandas/core/computation/align.py\": 1674339538.5075688, \"/Users/mpiekenbrock/opt/miniconda3/envs/simplicial/lib/python3.10/site-packages/pandas/compat/chainmap.py\": 1674339538.4810572, \"/Users/mpiekenbrock/opt/miniconda3/envs/simplicial/lib/python3.10/site-packages/pandas/core/computation/scope.py\": 1674339538.5106225, \"/Users/mpiekenbrock/opt/miniconda3/envs/simplicial/lib/python3.10/site-packages/pandas/core/computation/ops.py\": 1674339538.5097418, \"/Users/mpiekenbrock/opt/miniconda3/envs/simplicial/lib/python3.10/site-packages/pandas/core/computation/engines.py\": 1674339538.5085807, \"/Users/mpiekenbrock/opt/miniconda3/envs/simplicial/lib/python3.10/site-packages/pandas/core/computation/parsing.py\": 1674339538.5100033, \"/Users/mpiekenbrock/opt/miniconda3/envs/simplicial/lib/python3.10/site-packages/pandas/core/computation/expr.py\": 1674339538.509193, \"/Users/mpiekenbrock/opt/miniconda3/envs/simplicial/lib/python3.10/site-packages/pandas/core/computation/eval.py\": 1674339538.5088656, \"/Users/mpiekenbrock/opt/miniconda3/envs/simplicial/lib/python3.10/site-packages/pandas/core/computation/api.py\": 1674339538.5078037, \"/Users/mpiekenbrock/opt/miniconda3/envs/simplicial/lib/python3.10/site-packages/pandas/core/reshape/encoding.py\": 1674339538.5328252, \"/Users/mpiekenbrock/opt/miniconda3/envs/simplicial/lib/python3.10/site-packages/pandas/core/reshape/merge.py\": 1674339538.5337472, \"/Users/mpiekenbrock/opt/miniconda3/envs/simplicial/lib/python3.10/site-packages/pandas/core/reshape/pivot.py\": 1674339538.5341244, \"/Users/mpiekenbrock/opt/miniconda3/envs/simplicial/lib/python3.10/site-packages/pandas/core/reshape/tile.py\": 1674339538.534964, \"/Users/mpiekenbrock/opt/miniconda3/envs/simplicial/lib/python3.10/site-packages/pandas/core/reshape/api.py\": 1674339538.5322242, \"/Users/mpiekenbrock/opt/miniconda3/envs/simplicial/lib/python3.10/site-packages/pandas/api/extensions/__init__.py\": 1674339538.4792607, \"/Users/mpiekenbrock/opt/miniconda3/envs/simplicial/lib/python3.10/site-packages/pandas/api/indexers/__init__.py\": 1674339538.4795187, \"/Users/mpiekenbrock/opt/miniconda3/envs/simplicial/lib/python3.10/site-packages/pandas/core/interchange/__init__.py\": 1674339538.524437, \"/Users/mpiekenbrock/opt/miniconda3/envs/simplicial/lib/python3.10/site-packages/pandas/core/interchange/dataframe_protocol.py\": 1674339538.5255125, \"/Users/mpiekenbrock/opt/miniconda3/envs/simplicial/lib/python3.10/site-packages/pandas/core/dtypes/api.py\": 1674339538.5110657, \"/Users/mpiekenbrock/opt/miniconda3/envs/simplicial/lib/python3.10/site-packages/pandas/api/types/__init__.py\": 1674339538.48005, \"/Users/mpiekenbrock/opt/miniconda3/envs/simplicial/lib/python3.10/site-packages/pandas/core/interchange/buffer.py\": 1674339538.5246954, \"/Users/mpiekenbrock/opt/miniconda3/envs/simplicial/lib/python3.10/site-packages/pandas/core/interchange/utils.py\": 1674339538.5261128, \"/Users/mpiekenbrock/opt/miniconda3/envs/simplicial/lib/python3.10/site-packages/pandas/core/interchange/column.py\": 1674339538.5249693, \"/Users/mpiekenbrock/opt/miniconda3/envs/simplicial/lib/python3.10/site-packages/pandas/core/interchange/from_dataframe.py\": 1674339538.525816, \"/Users/mpiekenbrock/opt/miniconda3/envs/simplicial/lib/python3.10/site-packages/pandas/api/interchange/__init__.py\": 1674339538.4797754, \"/Users/mpiekenbrock/opt/miniconda3/envs/simplicial/lib/python3.10/site-packages/pandas/api/__init__.py\": 1674339538.4789553, \"/Users/mpiekenbrock/opt/miniconda3/envs/simplicial/lib/python3.10/site-packages/pandas/_testing/_random.py\": 1674339538.4775586, \"/Users/mpiekenbrock/opt/miniconda3/envs/simplicial/lib/python3.10/site-packages/pandas/_testing/contexts.py\": 1674339538.478691, \"/Users/mpiekenbrock/opt/miniconda3/envs/simplicial/lib/python3.10/site-packages/pandas/_testing/_io.py\": 1674339538.4773178, \"/Users/mpiekenbrock/opt/miniconda3/envs/simplicial/lib/python3.10/site-packages/pandas/_testing/_warnings.py\": 1674339538.4778247, \"/Users/mpiekenbrock/opt/miniconda3/envs/simplicial/lib/python3.10/lib-dynload/cmath.cpython-310-darwin.so\": 1665174157.0, \"/Users/mpiekenbrock/opt/miniconda3/envs/simplicial/lib/python3.10/site-packages/pandas/_libs/testing.cpython-310-darwin.so\": 1674339538.42207, \"/Users/mpiekenbrock/opt/miniconda3/envs/simplicial/lib/python3.10/site-packages/pandas/_testing/asserters.py\": 1674339538.4781983, \"/Users/mpiekenbrock/opt/miniconda3/envs/simplicial/lib/python3.10/site-packages/pandas/_testing/compat.py\": 1674339538.478438, \"/Users/mpiekenbrock/opt/miniconda3/envs/simplicial/lib/python3.10/site-packages/pandas/_testing/__init__.py\": 1674339538.476594, \"/Users/mpiekenbrock/opt/miniconda3/envs/simplicial/lib/python3.10/site-packages/pandas/testing.py\": 1674339538.3373039, \"/Users/mpiekenbrock/opt/miniconda3/envs/simplicial/lib/python3.10/site-packages/pandas/util/_print_versions.py\": 1674339538.9365704, \"/Users/mpiekenbrock/opt/miniconda3/envs/simplicial/lib/python3.10/site-packages/pandas/io/clipboards.py\": 1674339538.5429692, \"/Users/mpiekenbrock/opt/miniconda3/envs/simplicial/lib/python3.10/site-packages/pandas/_libs/parsers.cpython-310-darwin.so\": 1674339538.411556, \"/Users/mpiekenbrock/opt/miniconda3/envs/simplicial/lib/python3.10/site-packages/pandas/io/excel/_util.py\": 1674339538.5505223, \"/Users/mpiekenbrock/opt/miniconda3/envs/simplicial/lib/python3.10/site-packages/pandas/io/date_converters.py\": 1674339538.5435698, \"/Users/mpiekenbrock/opt/miniconda3/envs/simplicial/lib/python3.10/site-packages/pandas/io/parsers/base_parser.py\": 1674339538.5606933, \"/Users/mpiekenbrock/opt/miniconda3/envs/simplicial/lib/python3.10/site-packages/pandas/io/parsers/arrow_parser_wrapper.py\": 1674339538.5603151, \"/Users/mpiekenbrock/opt/miniconda3/envs/simplicial/lib/python3.10/site-packages/pandas/io/parsers/c_parser_wrapper.py\": 1674339538.560983, \"/Users/mpiekenbrock/opt/miniconda3/envs/simplicial/lib/python3.10/site-packages/pandas/io/parsers/python_parser.py\": 1674339538.561369, \"/Users/mpiekenbrock/opt/miniconda3/envs/simplicial/lib/python3.10/site-packages/pandas/io/parsers/readers.py\": 1674339538.5618682, \"/Users/mpiekenbrock/opt/miniconda3/envs/simplicial/lib/python3.10/site-packages/pandas/io/parsers/__init__.py\": 1674339538.56007, \"/Users/mpiekenbrock/opt/miniconda3/envs/simplicial/lib/python3.10/site-packages/pandas/io/excel/_odfreader.py\": 1674339538.5494406, \"/Users/mpiekenbrock/opt/miniconda3/envs/simplicial/lib/python3.10/site-packages/pandas/io/excel/_openpyxl.py\": 1674339538.5500035, \"/Users/mpiekenbrock/opt/miniconda3/envs/simplicial/lib/python3.10/site-packages/pandas/io/excel/_pyxlsb.py\": 1674339538.5502553, \"/Users/mpiekenbrock/opt/miniconda3/envs/simplicial/lib/python3.10/site-packages/pandas/io/excel/_xlrd.py\": 1674339538.5508192, \"/Users/mpiekenbrock/opt/miniconda3/envs/simplicial/lib/python3.10/site-packages/pandas/io/excel/_base.py\": 1674339538.5491734, \"/Users/mpiekenbrock/opt/miniconda3/envs/simplicial/lib/python3.10/site-packages/pandas/_libs/json.cpython-310-darwin.so\": 1674339538.3979006, \"/Users/mpiekenbrock/opt/miniconda3/envs/simplicial/lib/python3.10/site-packages/pandas/io/excel/_odswriter.py\": 1674339538.5497084, \"/Users/mpiekenbrock/opt/miniconda3/envs/simplicial/lib/python3.10/site-packages/pandas/io/excel/_xlsxwriter.py\": 1674339538.5510786, \"/Users/mpiekenbrock/opt/miniconda3/envs/simplicial/lib/python3.10/site-packages/pandas/io/excel/_xlwt.py\": 1674339538.5513287, \"/Users/mpiekenbrock/opt/miniconda3/envs/simplicial/lib/python3.10/site-packages/pandas/io/excel/__init__.py\": 1674339538.5487442, \"/Users/mpiekenbrock/opt/miniconda3/envs/simplicial/lib/python3.10/site-packages/pandas/io/feather_format.py\": 1674339538.5438209, \"/Users/mpiekenbrock/opt/miniconda3/envs/simplicial/lib/python3.10/site-packages/pandas/io/gbq.py\": 1674339538.5441165, \"/Users/mpiekenbrock/opt/miniconda3/envs/simplicial/lib/python3.10/site-packages/pandas/io/html.py\": 1674339538.544484, \"/Users/mpiekenbrock/opt/miniconda3/envs/simplicial/lib/python3.10/site-packages/pandas/io/json/_normalize.py\": 1674339538.5595262, \"/Users/mpiekenbrock/opt/miniconda3/envs/simplicial/lib/python3.10/site-packages/pandas/io/json/_table_schema.py\": 1674339538.5598042, \"/Users/mpiekenbrock/opt/miniconda3/envs/simplicial/lib/python3.10/site-packages/pandas/io/json/_json.py\": 1674339538.5592191, \"/Users/mpiekenbrock/opt/miniconda3/envs/simplicial/lib/python3.10/site-packages/pandas/io/json/__init__.py\": 1674339538.5588245, \"/Users/mpiekenbrock/opt/miniconda3/envs/simplicial/lib/python3.10/site-packages/pandas/io/orc.py\": 1674339538.5448794, \"/Users/mpiekenbrock/opt/miniconda3/envs/simplicial/lib/python3.10/site-packages/pandas/io/parquet.py\": 1674339538.5451822, \"/Users/mpiekenbrock/opt/miniconda3/envs/simplicial/lib/python3.10/site-packages/pandas/compat/pickle_compat.py\": 1674339538.481313, \"/Users/mpiekenbrock/opt/miniconda3/envs/simplicial/lib/python3.10/site-packages/pandas/io/pickle.py\": 1674339538.5454476, \"/Users/mpiekenbrock/opt/miniconda3/envs/simplicial/lib/python3.10/site-packages/pandas/core/computation/pytables.py\": 1674339538.5103014, \"/Users/mpiekenbrock/opt/miniconda3/envs/simplicial/lib/python3.10/site-packages/pandas/io/pytables.py\": 1674339538.546272, \"/Users/mpiekenbrock/opt/miniconda3/envs/simplicial/lib/python3.10/site-packages/pandas/io/sas/sasreader.py\": 1674339538.565557, \"/Users/mpiekenbrock/opt/miniconda3/envs/simplicial/lib/python3.10/site-packages/pandas/io/sas/__init__.py\": 1674339538.562151, \"/Users/mpiekenbrock/opt/miniconda3/envs/simplicial/lib/python3.10/site-packages/pandas/io/spss.py\": 1674339538.5465395, \"/Users/mpiekenbrock/opt/miniconda3/envs/simplicial/lib/python3.10/site-packages/pandas/io/sql.py\": 1674339538.5470102, \"/Users/mpiekenbrock/opt/miniconda3/envs/simplicial/lib/python3.10/site-packages/pandas/io/stata.py\": 1674339538.5477195, \"/Users/mpiekenbrock/opt/miniconda3/envs/simplicial/lib/python3.10/site-packages/pandas/io/xml.py\": 1674339538.5480795, \"/Users/mpiekenbrock/opt/miniconda3/envs/simplicial/lib/python3.10/site-packages/pandas/io/api.py\": 1674339538.5427256, \"/Users/mpiekenbrock/opt/miniconda3/envs/simplicial/lib/python3.10/site-packages/pandas/util/_tester.py\": 1674339538.937287, \"/Users/mpiekenbrock/opt/miniconda3/envs/simplicial/lib/python3.10/site-packages/pandas/_version.py\": 1674339538.3366306, \"/Users/mpiekenbrock/opt/miniconda3/envs/simplicial/lib/python3.10/site-packages/pandas/__init__.py\": 1674339538.336059}\n"
     ]
    }
   ],
   "source": [
    "\n",
    "# imports\n",
    "import os\n",
    "import sys\n",
    "import types\n",
    "import json\n",
    "\n",
    "# figure size/format\n",
    "fig_width = 7\n",
    "fig_height = 5\n",
    "fig_format = 'retina'\n",
    "fig_dpi = 96\n",
    "\n",
    "# matplotlib defaults / format\n",
    "try:\n",
    "  import matplotlib.pyplot as plt\n",
    "  plt.rcParams['figure.figsize'] = (fig_width, fig_height)\n",
    "  plt.rcParams['figure.dpi'] = fig_dpi\n",
    "  plt.rcParams['savefig.dpi'] = fig_dpi\n",
    "  from IPython.display import set_matplotlib_formats\n",
    "  set_matplotlib_formats(fig_format)\n",
    "except Exception:\n",
    "  pass\n",
    "\n",
    "# plotly use connected mode\n",
    "try:\n",
    "  import plotly.io as pio\n",
    "  pio.renderers.default = \"notebook_connected\"\n",
    "except Exception:\n",
    "  pass\n",
    "\n",
    "# enable pandas latex repr when targeting pdfs\n",
    "try:\n",
    "  import pandas as pd\n",
    "  if fig_format == 'pdf':\n",
    "    pd.set_option('display.latex.repr', True)\n",
    "except Exception:\n",
    "  pass\n",
    "\n",
    "\n",
    "\n",
    "# output kernel dependencies\n",
    "kernel_deps = dict()\n",
    "for module in list(sys.modules.values()):\n",
    "  # Some modules play games with sys.modules (e.g. email/__init__.py\n",
    "  # in the standard library), and occasionally this can cause strange\n",
    "  # failures in getattr.  Just ignore anything that's not an ordinary\n",
    "  # module.\n",
    "  if not isinstance(module, types.ModuleType):\n",
    "    continue\n",
    "  path = getattr(module, \"__file__\", None)\n",
    "  if not path:\n",
    "    continue\n",
    "  if path.endswith(\".pyc\") or path.endswith(\".pyo\"):\n",
    "    path = path[:-1]\n",
    "  if not os.path.exists(path):\n",
    "    continue\n",
    "  kernel_deps[path] = os.stat(path).st_mtime\n",
    "print(json.dumps(kernel_deps))\n",
    "\n",
    "# set run_path if requested\n",
    "if r'/Users/mpiekenbrock/splex/docs/reference':\n",
    "  os.chdir(r'/Users/mpiekenbrock/splex/docs/reference')\n",
    "\n",
    "# reset state\n",
    "%reset\n",
    "\n",
    "def ojs_define(**kwargs):\n",
    "  import json\n",
    "  try:\n",
    "    # IPython 7.14 preferred import\n",
    "    from IPython.display import display, HTML\n",
    "  except:\n",
    "    from IPython.core.display import display, HTML\n",
    "\n",
    "  # do some minor magic for convenience when handling pandas\n",
    "  # dataframes\n",
    "  def convert(v):\n",
    "    try:\n",
    "      import pandas as pd\n",
    "    except ModuleNotFoundError: # don't do the magic when pandas is not available\n",
    "      return v\n",
    "    if type(v) == pd.Series:\n",
    "      v = pd.DataFrame(v)\n",
    "    if type(v) == pd.DataFrame:\n",
    "      j = json.loads(v.T.to_json(orient='split'))\n",
    "      return dict((k,v) for (k,v) in zip(j[\"index\"], j[\"data\"]))\n",
    "    else:\n",
    "      return v\n",
    "  \n",
    "  v = dict(contents=list(dict(name=key, value=convert(value)) for (key, value) in kwargs.items()))\n",
    "  display(HTML('<script type=\"ojs-define\">' + json.dumps(v) + '</script>'), metadata=dict(ojs_define = True))\n",
    "globals()[\"ojs_define\"] = ojs_define\n"
   ]
  },
  {
   "cell_type": "code",
   "execution_count": 2,
   "id": "35f6ef6b",
   "metadata": {},
   "outputs": [],
   "source": [
    "from splex import *"
   ]
  },
  {
   "cell_type": "code",
   "execution_count": 3,
   "id": "52bef2a0",
   "metadata": {},
   "outputs": [
    {
     "data": {
      "text/html": [
       "        <script type=\"text/javascript\">\n",
       "        window.PlotlyConfig = {MathJaxConfig: 'local'};\n",
       "        if (window.MathJax && window.MathJax.Hub && window.MathJax.Hub.Config) {window.MathJax.Hub.Config({SVG: {font: \"STIX-Web\"}});}\n",
       "        if (typeof require !== 'undefined') {\n",
       "        require.undef(\"plotly\");\n",
       "        requirejs.config({\n",
       "            paths: {\n",
       "                'plotly': ['https://cdn.plot.ly/plotly-2.18.0.min']\n",
       "            }\n",
       "        });\n",
       "        require(['plotly'], function(Plotly) {\n",
       "            window._Plotly = Plotly;\n",
       "        });\n",
       "        }\n",
       "        </script>\n",
       "        "
      ]
     },
     "metadata": {},
     "output_type": "display_data"
    },
    {
     "data": {
      "application/vnd.plotly.v1+json": {
       "config": {
        "plotlyServerURL": "https://plot.ly"
       },
       "data": [
        {
         "hovertemplate": "species=setosa<br>sepal_width=%{x}<br>sepal_length=%{y}<extra></extra>",
         "legendgroup": "setosa",
         "marker": {
          "color": "#1F77B4",
          "symbol": "circle"
         },
         "mode": "markers",
         "name": "setosa",
         "orientation": "v",
         "showlegend": true,
         "type": "scatter",
         "x": [
          3.5,
          3.0,
          3.2,
          3.1,
          3.6,
          3.9,
          3.4,
          3.4,
          2.9,
          3.1,
          3.7,
          3.4,
          3.0,
          3.0,
          4.0,
          4.4,
          3.9,
          3.5,
          3.8,
          3.8,
          3.4,
          3.7,
          3.6,
          3.3,
          3.4,
          3.0,
          3.4,
          3.5,
          3.4,
          3.2,
          3.1,
          3.4,
          4.1,
          4.2,
          3.1,
          3.2,
          3.5,
          3.1,
          3.0,
          3.4,
          3.5,
          2.3,
          3.2,
          3.5,
          3.8,
          3.0,
          3.8,
          3.2,
          3.7,
          3.3
         ],
         "xaxis": "x",
         "y": [
          5.1,
          4.9,
          4.7,
          4.6,
          5.0,
          5.4,
          4.6,
          5.0,
          4.4,
          4.9,
          5.4,
          4.8,
          4.8,
          4.3,
          5.8,
          5.7,
          5.4,
          5.1,
          5.7,
          5.1,
          5.4,
          5.1,
          4.6,
          5.1,
          4.8,
          5.0,
          5.0,
          5.2,
          5.2,
          4.7,
          4.8,
          5.4,
          5.2,
          5.5,
          4.9,
          5.0,
          5.5,
          4.9,
          4.4,
          5.1,
          5.0,
          4.5,
          4.4,
          5.0,
          5.1,
          4.8,
          5.1,
          4.6,
          5.3,
          5.0
         ],
         "yaxis": "y"
        },
        {
         "alignmentgroup": "True",
         "hovertemplate": "species=setosa<br>sepal_width=%{x}<extra></extra>",
         "legendgroup": "setosa",
         "marker": {
          "color": "#1F77B4",
          "symbol": "circle"
         },
         "name": "setosa",
         "notched": true,
         "offsetgroup": "setosa",
         "showlegend": false,
         "type": "box",
         "x": [
          3.5,
          3.0,
          3.2,
          3.1,
          3.6,
          3.9,
          3.4,
          3.4,
          2.9,
          3.1,
          3.7,
          3.4,
          3.0,
          3.0,
          4.0,
          4.4,
          3.9,
          3.5,
          3.8,
          3.8,
          3.4,
          3.7,
          3.6,
          3.3,
          3.4,
          3.0,
          3.4,
          3.5,
          3.4,
          3.2,
          3.1,
          3.4,
          4.1,
          4.2,
          3.1,
          3.2,
          3.5,
          3.1,
          3.0,
          3.4,
          3.5,
          2.3,
          3.2,
          3.5,
          3.8,
          3.0,
          3.8,
          3.2,
          3.7,
          3.3
         ],
         "xaxis": "x3",
         "yaxis": "y3"
        },
        {
         "alignmentgroup": "True",
         "hovertemplate": "species=setosa<br>sepal_length=%{y}<extra></extra>",
         "legendgroup": "setosa",
         "marker": {
          "color": "#1F77B4",
          "symbol": "circle"
         },
         "name": "setosa",
         "offsetgroup": "setosa",
         "scalegroup": "y",
         "showlegend": false,
         "type": "violin",
         "xaxis": "x2",
         "y": [
          5.1,
          4.9,
          4.7,
          4.6,
          5.0,
          5.4,
          4.6,
          5.0,
          4.4,
          4.9,
          5.4,
          4.8,
          4.8,
          4.3,
          5.8,
          5.7,
          5.4,
          5.1,
          5.7,
          5.1,
          5.4,
          5.1,
          4.6,
          5.1,
          4.8,
          5.0,
          5.0,
          5.2,
          5.2,
          4.7,
          4.8,
          5.4,
          5.2,
          5.5,
          4.9,
          5.0,
          5.5,
          4.9,
          4.4,
          5.1,
          5.0,
          4.5,
          4.4,
          5.0,
          5.1,
          4.8,
          5.1,
          4.6,
          5.3,
          5.0
         ],
         "yaxis": "y2"
        },
        {
         "hovertemplate": "<b>OLS trendline</b><br>sepal_length = 0.690854 * sepal_width + 2.64466<br>R<sup>2</sup>=0.557681<br><br>species=setosa<br>sepal_width=%{x}<br>sepal_length=%{y} <b>(trend)</b><extra></extra>",
         "legendgroup": "setosa",
         "marker": {
          "color": "#1F77B4",
          "symbol": "circle"
         },
         "mode": "lines",
         "name": "setosa",
         "showlegend": false,
         "type": "scatter",
         "x": [
          2.3,
          2.9,
          3.0,
          3.0,
          3.0,
          3.0,
          3.0,
          3.0,
          3.1,
          3.1,
          3.1,
          3.1,
          3.1,
          3.2,
          3.2,
          3.2,
          3.2,
          3.2,
          3.3,
          3.3,
          3.4,
          3.4,
          3.4,
          3.4,
          3.4,
          3.4,
          3.4,
          3.4,
          3.4,
          3.5,
          3.5,
          3.5,
          3.5,
          3.5,
          3.5,
          3.6,
          3.6,
          3.7,
          3.7,
          3.7,
          3.8,
          3.8,
          3.8,
          3.8,
          3.9,
          3.9,
          4.0,
          4.1,
          4.2,
          4.4
         ],
         "xaxis": "x",
         "y": [
          4.233624785627936,
          4.648137423036916,
          4.717222862605079,
          4.717222862605079,
          4.717222862605079,
          4.717222862605079,
          4.717222862605079,
          4.717222862605079,
          4.786308302173243,
          4.786308302173243,
          4.786308302173243,
          4.786308302173243,
          4.786308302173243,
          4.8553937417414055,
          4.8553937417414055,
          4.8553937417414055,
          4.8553937417414055,
          4.8553937417414055,
          4.92447918130957,
          4.92447918130957,
          4.9935646208777325,
          4.9935646208777325,
          4.9935646208777325,
          4.9935646208777325,
          4.9935646208777325,
          4.9935646208777325,
          4.9935646208777325,
          4.9935646208777325,
          4.9935646208777325,
          5.062650060445896,
          5.062650060445896,
          5.062650060445896,
          5.062650060445896,
          5.062650060445896,
          5.062650060445896,
          5.131735500014059,
          5.131735500014059,
          5.200820939582222,
          5.200820939582222,
          5.200820939582222,
          5.269906379150386,
          5.269906379150386,
          5.269906379150386,
          5.269906379150386,
          5.338991818718549,
          5.338991818718549,
          5.4080772582867125,
          5.477162697854876,
          5.546248137423039,
          5.6844190165593655
         ],
         "yaxis": "y"
        },
        {
         "hovertemplate": "species=versicolor<br>sepal_width=%{x}<br>sepal_length=%{y}<extra></extra>",
         "legendgroup": "versicolor",
         "marker": {
          "color": "#FF7F0E",
          "symbol": "circle"
         },
         "mode": "markers",
         "name": "versicolor",
         "orientation": "v",
         "showlegend": true,
         "type": "scatter",
         "x": [
          3.2,
          3.2,
          3.1,
          2.3,
          2.8,
          2.8,
          3.3,
          2.4,
          2.9,
          2.7,
          2.0,
          3.0,
          2.2,
          2.9,
          2.9,
          3.1,
          3.0,
          2.7,
          2.2,
          2.5,
          3.2,
          2.8,
          2.5,
          2.8,
          2.9,
          3.0,
          2.8,
          3.0,
          2.9,
          2.6,
          2.4,
          2.4,
          2.7,
          2.7,
          3.0,
          3.4,
          3.1,
          2.3,
          3.0,
          2.5,
          2.6,
          3.0,
          2.6,
          2.3,
          2.7,
          3.0,
          2.9,
          2.9,
          2.5,
          2.8
         ],
         "xaxis": "x",
         "y": [
          7.0,
          6.4,
          6.9,
          5.5,
          6.5,
          5.7,
          6.3,
          4.9,
          6.6,
          5.2,
          5.0,
          5.9,
          6.0,
          6.1,
          5.6,
          6.7,
          5.6,
          5.8,
          6.2,
          5.6,
          5.9,
          6.1,
          6.3,
          6.1,
          6.4,
          6.6,
          6.8,
          6.7,
          6.0,
          5.7,
          5.5,
          5.5,
          5.8,
          6.0,
          5.4,
          6.0,
          6.7,
          6.3,
          5.6,
          5.5,
          5.5,
          6.1,
          5.8,
          5.0,
          5.6,
          5.7,
          5.7,
          6.2,
          5.1,
          5.7
         ],
         "yaxis": "y"
        },
        {
         "alignmentgroup": "True",
         "hovertemplate": "species=versicolor<br>sepal_width=%{x}<extra></extra>",
         "legendgroup": "versicolor",
         "marker": {
          "color": "#FF7F0E",
          "symbol": "circle"
         },
         "name": "versicolor",
         "notched": true,
         "offsetgroup": "versicolor",
         "showlegend": false,
         "type": "box",
         "x": [
          3.2,
          3.2,
          3.1,
          2.3,
          2.8,
          2.8,
          3.3,
          2.4,
          2.9,
          2.7,
          2.0,
          3.0,
          2.2,
          2.9,
          2.9,
          3.1,
          3.0,
          2.7,
          2.2,
          2.5,
          3.2,
          2.8,
          2.5,
          2.8,
          2.9,
          3.0,
          2.8,
          3.0,
          2.9,
          2.6,
          2.4,
          2.4,
          2.7,
          2.7,
          3.0,
          3.4,
          3.1,
          2.3,
          3.0,
          2.5,
          2.6,
          3.0,
          2.6,
          2.3,
          2.7,
          3.0,
          2.9,
          2.9,
          2.5,
          2.8
         ],
         "xaxis": "x3",
         "yaxis": "y3"
        },
        {
         "alignmentgroup": "True",
         "hovertemplate": "species=versicolor<br>sepal_length=%{y}<extra></extra>",
         "legendgroup": "versicolor",
         "marker": {
          "color": "#FF7F0E",
          "symbol": "circle"
         },
         "name": "versicolor",
         "offsetgroup": "versicolor",
         "scalegroup": "y",
         "showlegend": false,
         "type": "violin",
         "xaxis": "x2",
         "y": [
          7.0,
          6.4,
          6.9,
          5.5,
          6.5,
          5.7,
          6.3,
          4.9,
          6.6,
          5.2,
          5.0,
          5.9,
          6.0,
          6.1,
          5.6,
          6.7,
          5.6,
          5.8,
          6.2,
          5.6,
          5.9,
          6.1,
          6.3,
          6.1,
          6.4,
          6.6,
          6.8,
          6.7,
          6.0,
          5.7,
          5.5,
          5.5,
          5.8,
          6.0,
          5.4,
          6.0,
          6.7,
          6.3,
          5.6,
          5.5,
          5.5,
          6.1,
          5.8,
          5.0,
          5.6,
          5.7,
          5.7,
          6.2,
          5.1,
          5.7
         ],
         "yaxis": "y2"
        },
        {
         "hovertemplate": "<b>OLS trendline</b><br>sepal_length = 0.865078 * sepal_width + 3.53973<br>R<sup>2</sup>=0.276582<br><br>species=versicolor<br>sepal_width=%{x}<br>sepal_length=%{y} <b>(trend)</b><extra></extra>",
         "legendgroup": "versicolor",
         "marker": {
          "color": "#FF7F0E",
          "symbol": "circle"
         },
         "mode": "lines",
         "name": "versicolor",
         "showlegend": false,
         "type": "scatter",
         "x": [
          2.0,
          2.2,
          2.2,
          2.3,
          2.3,
          2.3,
          2.4,
          2.4,
          2.4,
          2.5,
          2.5,
          2.5,
          2.5,
          2.6,
          2.6,
          2.6,
          2.7,
          2.7,
          2.7,
          2.7,
          2.7,
          2.8,
          2.8,
          2.8,
          2.8,
          2.8,
          2.8,
          2.9,
          2.9,
          2.9,
          2.9,
          2.9,
          2.9,
          2.9,
          3.0,
          3.0,
          3.0,
          3.0,
          3.0,
          3.0,
          3.0,
          3.0,
          3.1,
          3.1,
          3.1,
          3.2,
          3.2,
          3.2,
          3.3,
          3.4
         ],
         "xaxis": "x",
         "y": [
          5.26989015544041,
          5.4429056994818605,
          5.4429056994818605,
          5.529413471502586,
          5.529413471502586,
          5.529413471502586,
          5.615921243523311,
          5.615921243523311,
          5.615921243523311,
          5.702429015544037,
          5.702429015544037,
          5.702429015544037,
          5.702429015544037,
          5.7889367875647615,
          5.7889367875647615,
          5.7889367875647615,
          5.875444559585487,
          5.875444559585487,
          5.875444559585487,
          5.875444559585487,
          5.875444559585487,
          5.961952331606212,
          5.961952331606212,
          5.961952331606212,
          5.961952331606212,
          5.961952331606212,
          5.961952331606212,
          6.048460103626938,
          6.048460103626938,
          6.048460103626938,
          6.048460103626938,
          6.048460103626938,
          6.048460103626938,
          6.048460103626938,
          6.134967875647662,
          6.134967875647662,
          6.134967875647662,
          6.134967875647662,
          6.134967875647662,
          6.134967875647662,
          6.134967875647662,
          6.134967875647662,
          6.221475647668388,
          6.221475647668388,
          6.221475647668388,
          6.307983419689114,
          6.307983419689114,
          6.307983419689114,
          6.394491191709839,
          6.480998963730563
         ],
         "yaxis": "y"
        },
        {
         "hovertemplate": "species=virginica<br>sepal_width=%{x}<br>sepal_length=%{y}<extra></extra>",
         "legendgroup": "virginica",
         "marker": {
          "color": "#2CA02C",
          "symbol": "circle"
         },
         "mode": "markers",
         "name": "virginica",
         "orientation": "v",
         "showlegend": true,
         "type": "scatter",
         "x": [
          3.3,
          2.7,
          3.0,
          2.9,
          3.0,
          3.0,
          2.5,
          2.9,
          2.5,
          3.6,
          3.2,
          2.7,
          3.0,
          2.5,
          2.8,
          3.2,
          3.0,
          3.8,
          2.6,
          2.2,
          3.2,
          2.8,
          2.8,
          2.7,
          3.3,
          3.2,
          2.8,
          3.0,
          2.8,
          3.0,
          2.8,
          3.8,
          2.8,
          2.8,
          2.6,
          3.0,
          3.4,
          3.1,
          3.0,
          3.1,
          3.1,
          3.1,
          2.7,
          3.2,
          3.3,
          3.0,
          2.5,
          3.0,
          3.4,
          3.0
         ],
         "xaxis": "x",
         "y": [
          6.3,
          5.8,
          7.1,
          6.3,
          6.5,
          7.6,
          4.9,
          7.3,
          6.7,
          7.2,
          6.5,
          6.4,
          6.8,
          5.7,
          5.8,
          6.4,
          6.5,
          7.7,
          7.7,
          6.0,
          6.9,
          5.6,
          7.7,
          6.3,
          6.7,
          7.2,
          6.2,
          6.1,
          6.4,
          7.2,
          7.4,
          7.9,
          6.4,
          6.3,
          6.1,
          7.7,
          6.3,
          6.4,
          6.0,
          6.9,
          6.7,
          6.9,
          5.8,
          6.8,
          6.7,
          6.7,
          6.3,
          6.5,
          6.2,
          5.9
         ],
         "yaxis": "y"
        },
        {
         "alignmentgroup": "True",
         "hovertemplate": "species=virginica<br>sepal_width=%{x}<extra></extra>",
         "legendgroup": "virginica",
         "marker": {
          "color": "#2CA02C",
          "symbol": "circle"
         },
         "name": "virginica",
         "notched": true,
         "offsetgroup": "virginica",
         "showlegend": false,
         "type": "box",
         "x": [
          3.3,
          2.7,
          3.0,
          2.9,
          3.0,
          3.0,
          2.5,
          2.9,
          2.5,
          3.6,
          3.2,
          2.7,
          3.0,
          2.5,
          2.8,
          3.2,
          3.0,
          3.8,
          2.6,
          2.2,
          3.2,
          2.8,
          2.8,
          2.7,
          3.3,
          3.2,
          2.8,
          3.0,
          2.8,
          3.0,
          2.8,
          3.8,
          2.8,
          2.8,
          2.6,
          3.0,
          3.4,
          3.1,
          3.0,
          3.1,
          3.1,
          3.1,
          2.7,
          3.2,
          3.3,
          3.0,
          2.5,
          3.0,
          3.4,
          3.0
         ],
         "xaxis": "x3",
         "yaxis": "y3"
        },
        {
         "alignmentgroup": "True",
         "hovertemplate": "species=virginica<br>sepal_length=%{y}<extra></extra>",
         "legendgroup": "virginica",
         "marker": {
          "color": "#2CA02C",
          "symbol": "circle"
         },
         "name": "virginica",
         "offsetgroup": "virginica",
         "scalegroup": "y",
         "showlegend": false,
         "type": "violin",
         "xaxis": "x2",
         "y": [
          6.3,
          5.8,
          7.1,
          6.3,
          6.5,
          7.6,
          4.9,
          7.3,
          6.7,
          7.2,
          6.5,
          6.4,
          6.8,
          5.7,
          5.8,
          6.4,
          6.5,
          7.7,
          7.7,
          6.0,
          6.9,
          5.6,
          7.7,
          6.3,
          6.7,
          7.2,
          6.2,
          6.1,
          6.4,
          7.2,
          7.4,
          7.9,
          6.4,
          6.3,
          6.1,
          7.7,
          6.3,
          6.4,
          6.0,
          6.9,
          6.7,
          6.9,
          5.8,
          6.8,
          6.7,
          6.7,
          6.3,
          6.5,
          6.2,
          5.9
         ],
         "yaxis": "y2"
        },
        {
         "hovertemplate": "<b>OLS trendline</b><br>sepal_length = 0.901534 * sepal_width + 3.90684<br>R<sup>2</sup>=0.209057<br><br>species=virginica<br>sepal_width=%{x}<br>sepal_length=%{y} <b>(trend)</b><extra></extra>",
         "legendgroup": "virginica",
         "marker": {
          "color": "#2CA02C",
          "symbol": "circle"
         },
         "mode": "lines",
         "name": "virginica",
         "showlegend": false,
         "type": "scatter",
         "x": [
          2.2,
          2.5,
          2.5,
          2.5,
          2.5,
          2.6,
          2.6,
          2.7,
          2.7,
          2.7,
          2.7,
          2.8,
          2.8,
          2.8,
          2.8,
          2.8,
          2.8,
          2.8,
          2.8,
          2.9,
          2.9,
          3.0,
          3.0,
          3.0,
          3.0,
          3.0,
          3.0,
          3.0,
          3.0,
          3.0,
          3.0,
          3.0,
          3.0,
          3.1,
          3.1,
          3.1,
          3.1,
          3.2,
          3.2,
          3.2,
          3.2,
          3.2,
          3.3,
          3.3,
          3.3,
          3.4,
          3.4,
          3.6,
          3.8,
          3.8
         ],
         "xaxis": "x",
         "y": [
          5.8902123150582755,
          6.160672658058943,
          6.160672658058943,
          6.160672658058943,
          6.160672658058943,
          6.250826105725833,
          6.250826105725833,
          6.340979553392723,
          6.340979553392723,
          6.340979553392723,
          6.340979553392723,
          6.431133001059611,
          6.431133001059611,
          6.431133001059611,
          6.431133001059611,
          6.431133001059611,
          6.431133001059611,
          6.431133001059611,
          6.431133001059611,
          6.521286448726501,
          6.521286448726501,
          6.6114398963933905,
          6.6114398963933905,
          6.6114398963933905,
          6.6114398963933905,
          6.6114398963933905,
          6.6114398963933905,
          6.6114398963933905,
          6.6114398963933905,
          6.6114398963933905,
          6.6114398963933905,
          6.6114398963933905,
          6.6114398963933905,
          6.70159334406028,
          6.70159334406028,
          6.70159334406028,
          6.70159334406028,
          6.791746791727169,
          6.791746791727169,
          6.791746791727169,
          6.791746791727169,
          6.791746791727169,
          6.881900239394058,
          6.881900239394058,
          6.881900239394058,
          6.9720536870609475,
          6.9720536870609475,
          7.152360582394726,
          7.332667477728505,
          7.332667477728505
         ],
         "yaxis": "y"
        }
       ],
       "layout": {
        "legend": {
         "title": {
          "text": "species"
         },
         "tracegroupgap": 0
        },
        "margin": {
         "t": 60
        },
        "template": {
         "data": {
          "bar": [
           {
            "error_x": {
             "color": "rgb(36,36,36)"
            },
            "error_y": {
             "color": "rgb(36,36,36)"
            },
            "marker": {
             "line": {
              "color": "white",
              "width": 0.5
             },
             "pattern": {
              "fillmode": "overlay",
              "size": 10,
              "solidity": 0.2
             }
            },
            "type": "bar"
           }
          ],
          "barpolar": [
           {
            "marker": {
             "line": {
              "color": "white",
              "width": 0.5
             },
             "pattern": {
              "fillmode": "overlay",
              "size": 10,
              "solidity": 0.2
             }
            },
            "type": "barpolar"
           }
          ],
          "carpet": [
           {
            "aaxis": {
             "endlinecolor": "rgb(36,36,36)",
             "gridcolor": "white",
             "linecolor": "white",
             "minorgridcolor": "white",
             "startlinecolor": "rgb(36,36,36)"
            },
            "baxis": {
             "endlinecolor": "rgb(36,36,36)",
             "gridcolor": "white",
             "linecolor": "white",
             "minorgridcolor": "white",
             "startlinecolor": "rgb(36,36,36)"
            },
            "type": "carpet"
           }
          ],
          "choropleth": [
           {
            "colorbar": {
             "outlinewidth": 1,
             "tickcolor": "rgb(36,36,36)",
             "ticks": "outside"
            },
            "type": "choropleth"
           }
          ],
          "contour": [
           {
            "colorbar": {
             "outlinewidth": 1,
             "tickcolor": "rgb(36,36,36)",
             "ticks": "outside"
            },
            "colorscale": [
             [
              0.0,
              "#440154"
             ],
             [
              0.1111111111111111,
              "#482878"
             ],
             [
              0.2222222222222222,
              "#3e4989"
             ],
             [
              0.3333333333333333,
              "#31688e"
             ],
             [
              0.4444444444444444,
              "#26828e"
             ],
             [
              0.5555555555555556,
              "#1f9e89"
             ],
             [
              0.6666666666666666,
              "#35b779"
             ],
             [
              0.7777777777777778,
              "#6ece58"
             ],
             [
              0.8888888888888888,
              "#b5de2b"
             ],
             [
              1.0,
              "#fde725"
             ]
            ],
            "type": "contour"
           }
          ],
          "contourcarpet": [
           {
            "colorbar": {
             "outlinewidth": 1,
             "tickcolor": "rgb(36,36,36)",
             "ticks": "outside"
            },
            "type": "contourcarpet"
           }
          ],
          "heatmap": [
           {
            "colorbar": {
             "outlinewidth": 1,
             "tickcolor": "rgb(36,36,36)",
             "ticks": "outside"
            },
            "colorscale": [
             [
              0.0,
              "#440154"
             ],
             [
              0.1111111111111111,
              "#482878"
             ],
             [
              0.2222222222222222,
              "#3e4989"
             ],
             [
              0.3333333333333333,
              "#31688e"
             ],
             [
              0.4444444444444444,
              "#26828e"
             ],
             [
              0.5555555555555556,
              "#1f9e89"
             ],
             [
              0.6666666666666666,
              "#35b779"
             ],
             [
              0.7777777777777778,
              "#6ece58"
             ],
             [
              0.8888888888888888,
              "#b5de2b"
             ],
             [
              1.0,
              "#fde725"
             ]
            ],
            "type": "heatmap"
           }
          ],
          "heatmapgl": [
           {
            "colorbar": {
             "outlinewidth": 1,
             "tickcolor": "rgb(36,36,36)",
             "ticks": "outside"
            },
            "colorscale": [
             [
              0.0,
              "#440154"
             ],
             [
              0.1111111111111111,
              "#482878"
             ],
             [
              0.2222222222222222,
              "#3e4989"
             ],
             [
              0.3333333333333333,
              "#31688e"
             ],
             [
              0.4444444444444444,
              "#26828e"
             ],
             [
              0.5555555555555556,
              "#1f9e89"
             ],
             [
              0.6666666666666666,
              "#35b779"
             ],
             [
              0.7777777777777778,
              "#6ece58"
             ],
             [
              0.8888888888888888,
              "#b5de2b"
             ],
             [
              1.0,
              "#fde725"
             ]
            ],
            "type": "heatmapgl"
           }
          ],
          "histogram": [
           {
            "marker": {
             "line": {
              "color": "white",
              "width": 0.6
             }
            },
            "type": "histogram"
           }
          ],
          "histogram2d": [
           {
            "colorbar": {
             "outlinewidth": 1,
             "tickcolor": "rgb(36,36,36)",
             "ticks": "outside"
            },
            "colorscale": [
             [
              0.0,
              "#440154"
             ],
             [
              0.1111111111111111,
              "#482878"
             ],
             [
              0.2222222222222222,
              "#3e4989"
             ],
             [
              0.3333333333333333,
              "#31688e"
             ],
             [
              0.4444444444444444,
              "#26828e"
             ],
             [
              0.5555555555555556,
              "#1f9e89"
             ],
             [
              0.6666666666666666,
              "#35b779"
             ],
             [
              0.7777777777777778,
              "#6ece58"
             ],
             [
              0.8888888888888888,
              "#b5de2b"
             ],
             [
              1.0,
              "#fde725"
             ]
            ],
            "type": "histogram2d"
           }
          ],
          "histogram2dcontour": [
           {
            "colorbar": {
             "outlinewidth": 1,
             "tickcolor": "rgb(36,36,36)",
             "ticks": "outside"
            },
            "colorscale": [
             [
              0.0,
              "#440154"
             ],
             [
              0.1111111111111111,
              "#482878"
             ],
             [
              0.2222222222222222,
              "#3e4989"
             ],
             [
              0.3333333333333333,
              "#31688e"
             ],
             [
              0.4444444444444444,
              "#26828e"
             ],
             [
              0.5555555555555556,
              "#1f9e89"
             ],
             [
              0.6666666666666666,
              "#35b779"
             ],
             [
              0.7777777777777778,
              "#6ece58"
             ],
             [
              0.8888888888888888,
              "#b5de2b"
             ],
             [
              1.0,
              "#fde725"
             ]
            ],
            "type": "histogram2dcontour"
           }
          ],
          "mesh3d": [
           {
            "colorbar": {
             "outlinewidth": 1,
             "tickcolor": "rgb(36,36,36)",
             "ticks": "outside"
            },
            "type": "mesh3d"
           }
          ],
          "parcoords": [
           {
            "line": {
             "colorbar": {
              "outlinewidth": 1,
              "tickcolor": "rgb(36,36,36)",
              "ticks": "outside"
             }
            },
            "type": "parcoords"
           }
          ],
          "pie": [
           {
            "automargin": true,
            "type": "pie"
           }
          ],
          "scatter": [
           {
            "fillpattern": {
             "fillmode": "overlay",
             "size": 10,
             "solidity": 0.2
            },
            "type": "scatter"
           }
          ],
          "scatter3d": [
           {
            "line": {
             "colorbar": {
              "outlinewidth": 1,
              "tickcolor": "rgb(36,36,36)",
              "ticks": "outside"
             }
            },
            "marker": {
             "colorbar": {
              "outlinewidth": 1,
              "tickcolor": "rgb(36,36,36)",
              "ticks": "outside"
             }
            },
            "type": "scatter3d"
           }
          ],
          "scattercarpet": [
           {
            "marker": {
             "colorbar": {
              "outlinewidth": 1,
              "tickcolor": "rgb(36,36,36)",
              "ticks": "outside"
             }
            },
            "type": "scattercarpet"
           }
          ],
          "scattergeo": [
           {
            "marker": {
             "colorbar": {
              "outlinewidth": 1,
              "tickcolor": "rgb(36,36,36)",
              "ticks": "outside"
             }
            },
            "type": "scattergeo"
           }
          ],
          "scattergl": [
           {
            "marker": {
             "colorbar": {
              "outlinewidth": 1,
              "tickcolor": "rgb(36,36,36)",
              "ticks": "outside"
             }
            },
            "type": "scattergl"
           }
          ],
          "scattermapbox": [
           {
            "marker": {
             "colorbar": {
              "outlinewidth": 1,
              "tickcolor": "rgb(36,36,36)",
              "ticks": "outside"
             }
            },
            "type": "scattermapbox"
           }
          ],
          "scatterpolar": [
           {
            "marker": {
             "colorbar": {
              "outlinewidth": 1,
              "tickcolor": "rgb(36,36,36)",
              "ticks": "outside"
             }
            },
            "type": "scatterpolar"
           }
          ],
          "scatterpolargl": [
           {
            "marker": {
             "colorbar": {
              "outlinewidth": 1,
              "tickcolor": "rgb(36,36,36)",
              "ticks": "outside"
             }
            },
            "type": "scatterpolargl"
           }
          ],
          "scatterternary": [
           {
            "marker": {
             "colorbar": {
              "outlinewidth": 1,
              "tickcolor": "rgb(36,36,36)",
              "ticks": "outside"
             }
            },
            "type": "scatterternary"
           }
          ],
          "surface": [
           {
            "colorbar": {
             "outlinewidth": 1,
             "tickcolor": "rgb(36,36,36)",
             "ticks": "outside"
            },
            "colorscale": [
             [
              0.0,
              "#440154"
             ],
             [
              0.1111111111111111,
              "#482878"
             ],
             [
              0.2222222222222222,
              "#3e4989"
             ],
             [
              0.3333333333333333,
              "#31688e"
             ],
             [
              0.4444444444444444,
              "#26828e"
             ],
             [
              0.5555555555555556,
              "#1f9e89"
             ],
             [
              0.6666666666666666,
              "#35b779"
             ],
             [
              0.7777777777777778,
              "#6ece58"
             ],
             [
              0.8888888888888888,
              "#b5de2b"
             ],
             [
              1.0,
              "#fde725"
             ]
            ],
            "type": "surface"
           }
          ],
          "table": [
           {
            "cells": {
             "fill": {
              "color": "rgb(237,237,237)"
             },
             "line": {
              "color": "white"
             }
            },
            "header": {
             "fill": {
              "color": "rgb(217,217,217)"
             },
             "line": {
              "color": "white"
             }
            },
            "type": "table"
           }
          ]
         },
         "layout": {
          "annotationdefaults": {
           "arrowhead": 0,
           "arrowwidth": 1
          },
          "autotypenumbers": "strict",
          "coloraxis": {
           "colorbar": {
            "outlinewidth": 1,
            "tickcolor": "rgb(36,36,36)",
            "ticks": "outside"
           }
          },
          "colorscale": {
           "diverging": [
            [
             0.0,
             "rgb(103,0,31)"
            ],
            [
             0.1,
             "rgb(178,24,43)"
            ],
            [
             0.2,
             "rgb(214,96,77)"
            ],
            [
             0.3,
             "rgb(244,165,130)"
            ],
            [
             0.4,
             "rgb(253,219,199)"
            ],
            [
             0.5,
             "rgb(247,247,247)"
            ],
            [
             0.6,
             "rgb(209,229,240)"
            ],
            [
             0.7,
             "rgb(146,197,222)"
            ],
            [
             0.8,
             "rgb(67,147,195)"
            ],
            [
             0.9,
             "rgb(33,102,172)"
            ],
            [
             1.0,
             "rgb(5,48,97)"
            ]
           ],
           "sequential": [
            [
             0.0,
             "#440154"
            ],
            [
             0.1111111111111111,
             "#482878"
            ],
            [
             0.2222222222222222,
             "#3e4989"
            ],
            [
             0.3333333333333333,
             "#31688e"
            ],
            [
             0.4444444444444444,
             "#26828e"
            ],
            [
             0.5555555555555556,
             "#1f9e89"
            ],
            [
             0.6666666666666666,
             "#35b779"
            ],
            [
             0.7777777777777778,
             "#6ece58"
            ],
            [
             0.8888888888888888,
             "#b5de2b"
            ],
            [
             1.0,
             "#fde725"
            ]
           ],
           "sequentialminus": [
            [
             0.0,
             "#440154"
            ],
            [
             0.1111111111111111,
             "#482878"
            ],
            [
             0.2222222222222222,
             "#3e4989"
            ],
            [
             0.3333333333333333,
             "#31688e"
            ],
            [
             0.4444444444444444,
             "#26828e"
            ],
            [
             0.5555555555555556,
             "#1f9e89"
            ],
            [
             0.6666666666666666,
             "#35b779"
            ],
            [
             0.7777777777777778,
             "#6ece58"
            ],
            [
             0.8888888888888888,
             "#b5de2b"
            ],
            [
             1.0,
             "#fde725"
            ]
           ]
          },
          "colorway": [
           "#1F77B4",
           "#FF7F0E",
           "#2CA02C",
           "#D62728",
           "#9467BD",
           "#8C564B",
           "#E377C2",
           "#7F7F7F",
           "#BCBD22",
           "#17BECF"
          ],
          "font": {
           "color": "rgb(36,36,36)"
          },
          "geo": {
           "bgcolor": "white",
           "lakecolor": "white",
           "landcolor": "white",
           "showlakes": true,
           "showland": true,
           "subunitcolor": "white"
          },
          "hoverlabel": {
           "align": "left"
          },
          "hovermode": "closest",
          "mapbox": {
           "style": "light"
          },
          "paper_bgcolor": "white",
          "plot_bgcolor": "white",
          "polar": {
           "angularaxis": {
            "gridcolor": "rgb(232,232,232)",
            "linecolor": "rgb(36,36,36)",
            "showgrid": false,
            "showline": true,
            "ticks": "outside"
           },
           "bgcolor": "white",
           "radialaxis": {
            "gridcolor": "rgb(232,232,232)",
            "linecolor": "rgb(36,36,36)",
            "showgrid": false,
            "showline": true,
            "ticks": "outside"
           }
          },
          "scene": {
           "xaxis": {
            "backgroundcolor": "white",
            "gridcolor": "rgb(232,232,232)",
            "gridwidth": 2,
            "linecolor": "rgb(36,36,36)",
            "showbackground": true,
            "showgrid": false,
            "showline": true,
            "ticks": "outside",
            "zeroline": false,
            "zerolinecolor": "rgb(36,36,36)"
           },
           "yaxis": {
            "backgroundcolor": "white",
            "gridcolor": "rgb(232,232,232)",
            "gridwidth": 2,
            "linecolor": "rgb(36,36,36)",
            "showbackground": true,
            "showgrid": false,
            "showline": true,
            "ticks": "outside",
            "zeroline": false,
            "zerolinecolor": "rgb(36,36,36)"
           },
           "zaxis": {
            "backgroundcolor": "white",
            "gridcolor": "rgb(232,232,232)",
            "gridwidth": 2,
            "linecolor": "rgb(36,36,36)",
            "showbackground": true,
            "showgrid": false,
            "showline": true,
            "ticks": "outside",
            "zeroline": false,
            "zerolinecolor": "rgb(36,36,36)"
           }
          },
          "shapedefaults": {
           "fillcolor": "black",
           "line": {
            "width": 0
           },
           "opacity": 0.3
          },
          "ternary": {
           "aaxis": {
            "gridcolor": "rgb(232,232,232)",
            "linecolor": "rgb(36,36,36)",
            "showgrid": false,
            "showline": true,
            "ticks": "outside"
           },
           "baxis": {
            "gridcolor": "rgb(232,232,232)",
            "linecolor": "rgb(36,36,36)",
            "showgrid": false,
            "showline": true,
            "ticks": "outside"
           },
           "bgcolor": "white",
           "caxis": {
            "gridcolor": "rgb(232,232,232)",
            "linecolor": "rgb(36,36,36)",
            "showgrid": false,
            "showline": true,
            "ticks": "outside"
           }
          },
          "title": {
           "x": 0.05
          },
          "xaxis": {
           "automargin": true,
           "gridcolor": "rgb(232,232,232)",
           "linecolor": "rgb(36,36,36)",
           "showgrid": false,
           "showline": true,
           "ticks": "outside",
           "title": {
            "standoff": 15
           },
           "zeroline": false,
           "zerolinecolor": "rgb(36,36,36)"
          },
          "yaxis": {
           "automargin": true,
           "gridcolor": "rgb(232,232,232)",
           "linecolor": "rgb(36,36,36)",
           "showgrid": false,
           "showline": true,
           "ticks": "outside",
           "title": {
            "standoff": 15
           },
           "zeroline": false,
           "zerolinecolor": "rgb(36,36,36)"
          }
         }
        },
        "xaxis": {
         "anchor": "y",
         "domain": [
          0.0,
          0.7363
         ],
         "title": {
          "text": "sepal_width"
         }
        },
        "xaxis2": {
         "anchor": "y2",
         "domain": [
          0.7413,
          1.0
         ],
         "matches": "x2",
         "showline": false,
         "showticklabels": false,
         "ticks": ""
        },
        "xaxis3": {
         "anchor": "y3",
         "domain": [
          0.0,
          0.7363
         ],
         "matches": "x",
         "showticklabels": false
        },
        "xaxis4": {
         "anchor": "y4",
         "domain": [
          0.7413,
          1.0
         ],
         "matches": "x2",
         "showline": false,
         "showticklabels": false,
         "ticks": ""
        },
        "yaxis": {
         "anchor": "x",
         "domain": [
          0.0,
          0.7326
         ],
         "title": {
          "text": "sepal_length"
         }
        },
        "yaxis2": {
         "anchor": "x2",
         "domain": [
          0.0,
          0.7326
         ],
         "matches": "y",
         "showticklabels": false
        },
        "yaxis3": {
         "anchor": "x3",
         "domain": [
          0.7426,
          1.0
         ],
         "matches": "y3",
         "showline": false,
         "showticklabels": false,
         "ticks": ""
        },
        "yaxis4": {
         "anchor": "x4",
         "domain": [
          0.7426,
          1.0
         ],
         "matches": "y3",
         "showline": false,
         "showticklabels": false,
         "ticks": ""
        }
       }
      },
      "text/html": [
       "<div>                            <div id=\"7c5569e6-8240-4020-85e1-3604e9e1bfdc\" class=\"plotly-graph-div\" style=\"height:525px; width:100%;\"></div>            <script type=\"text/javascript\">                require([\"plotly\"], function(Plotly) {                    window.PLOTLYENV=window.PLOTLYENV || {};                                    if (document.getElementById(\"7c5569e6-8240-4020-85e1-3604e9e1bfdc\")) {                    Plotly.newPlot(                        \"7c5569e6-8240-4020-85e1-3604e9e1bfdc\",                        [{\"hovertemplate\":\"species=setosa<br>sepal_width=%{x}<br>sepal_length=%{y}<extra></extra>\",\"legendgroup\":\"setosa\",\"marker\":{\"color\":\"#1F77B4\",\"symbol\":\"circle\"},\"mode\":\"markers\",\"name\":\"setosa\",\"orientation\":\"v\",\"showlegend\":true,\"x\":[3.5,3.0,3.2,3.1,3.6,3.9,3.4,3.4,2.9,3.1,3.7,3.4,3.0,3.0,4.0,4.4,3.9,3.5,3.8,3.8,3.4,3.7,3.6,3.3,3.4,3.0,3.4,3.5,3.4,3.2,3.1,3.4,4.1,4.2,3.1,3.2,3.5,3.1,3.0,3.4,3.5,2.3,3.2,3.5,3.8,3.0,3.8,3.2,3.7,3.3],\"xaxis\":\"x\",\"y\":[5.1,4.9,4.7,4.6,5.0,5.4,4.6,5.0,4.4,4.9,5.4,4.8,4.8,4.3,5.8,5.7,5.4,5.1,5.7,5.1,5.4,5.1,4.6,5.1,4.8,5.0,5.0,5.2,5.2,4.7,4.8,5.4,5.2,5.5,4.9,5.0,5.5,4.9,4.4,5.1,5.0,4.5,4.4,5.0,5.1,4.8,5.1,4.6,5.3,5.0],\"yaxis\":\"y\",\"type\":\"scatter\"},{\"alignmentgroup\":\"True\",\"hovertemplate\":\"species=setosa<br>sepal_width=%{x}<extra></extra>\",\"legendgroup\":\"setosa\",\"marker\":{\"color\":\"#1F77B4\",\"symbol\":\"circle\"},\"name\":\"setosa\",\"notched\":true,\"offsetgroup\":\"setosa\",\"showlegend\":false,\"x\":[3.5,3.0,3.2,3.1,3.6,3.9,3.4,3.4,2.9,3.1,3.7,3.4,3.0,3.0,4.0,4.4,3.9,3.5,3.8,3.8,3.4,3.7,3.6,3.3,3.4,3.0,3.4,3.5,3.4,3.2,3.1,3.4,4.1,4.2,3.1,3.2,3.5,3.1,3.0,3.4,3.5,2.3,3.2,3.5,3.8,3.0,3.8,3.2,3.7,3.3],\"xaxis\":\"x3\",\"yaxis\":\"y3\",\"type\":\"box\"},{\"alignmentgroup\":\"True\",\"hovertemplate\":\"species=setosa<br>sepal_length=%{y}<extra></extra>\",\"legendgroup\":\"setosa\",\"marker\":{\"color\":\"#1F77B4\",\"symbol\":\"circle\"},\"name\":\"setosa\",\"offsetgroup\":\"setosa\",\"scalegroup\":\"y\",\"showlegend\":false,\"xaxis\":\"x2\",\"y\":[5.1,4.9,4.7,4.6,5.0,5.4,4.6,5.0,4.4,4.9,5.4,4.8,4.8,4.3,5.8,5.7,5.4,5.1,5.7,5.1,5.4,5.1,4.6,5.1,4.8,5.0,5.0,5.2,5.2,4.7,4.8,5.4,5.2,5.5,4.9,5.0,5.5,4.9,4.4,5.1,5.0,4.5,4.4,5.0,5.1,4.8,5.1,4.6,5.3,5.0],\"yaxis\":\"y2\",\"type\":\"violin\"},{\"hovertemplate\":\"<b>OLS trendline</b><br>sepal_length = 0.690854 * sepal_width + 2.64466<br>R<sup>2</sup>=0.557681<br><br>species=setosa<br>sepal_width=%{x}<br>sepal_length=%{y} <b>(trend)</b><extra></extra>\",\"legendgroup\":\"setosa\",\"marker\":{\"color\":\"#1F77B4\",\"symbol\":\"circle\"},\"mode\":\"lines\",\"name\":\"setosa\",\"showlegend\":false,\"x\":[2.3,2.9,3.0,3.0,3.0,3.0,3.0,3.0,3.1,3.1,3.1,3.1,3.1,3.2,3.2,3.2,3.2,3.2,3.3,3.3,3.4,3.4,3.4,3.4,3.4,3.4,3.4,3.4,3.4,3.5,3.5,3.5,3.5,3.5,3.5,3.6,3.6,3.7,3.7,3.7,3.8,3.8,3.8,3.8,3.9,3.9,4.0,4.1,4.2,4.4],\"xaxis\":\"x\",\"y\":[4.233624785627936,4.648137423036916,4.717222862605079,4.717222862605079,4.717222862605079,4.717222862605079,4.717222862605079,4.717222862605079,4.786308302173243,4.786308302173243,4.786308302173243,4.786308302173243,4.786308302173243,4.8553937417414055,4.8553937417414055,4.8553937417414055,4.8553937417414055,4.8553937417414055,4.92447918130957,4.92447918130957,4.9935646208777325,4.9935646208777325,4.9935646208777325,4.9935646208777325,4.9935646208777325,4.9935646208777325,4.9935646208777325,4.9935646208777325,4.9935646208777325,5.062650060445896,5.062650060445896,5.062650060445896,5.062650060445896,5.062650060445896,5.062650060445896,5.131735500014059,5.131735500014059,5.200820939582222,5.200820939582222,5.200820939582222,5.269906379150386,5.269906379150386,5.269906379150386,5.269906379150386,5.338991818718549,5.338991818718549,5.4080772582867125,5.477162697854876,5.546248137423039,5.6844190165593655],\"yaxis\":\"y\",\"type\":\"scatter\"},{\"hovertemplate\":\"species=versicolor<br>sepal_width=%{x}<br>sepal_length=%{y}<extra></extra>\",\"legendgroup\":\"versicolor\",\"marker\":{\"color\":\"#FF7F0E\",\"symbol\":\"circle\"},\"mode\":\"markers\",\"name\":\"versicolor\",\"orientation\":\"v\",\"showlegend\":true,\"x\":[3.2,3.2,3.1,2.3,2.8,2.8,3.3,2.4,2.9,2.7,2.0,3.0,2.2,2.9,2.9,3.1,3.0,2.7,2.2,2.5,3.2,2.8,2.5,2.8,2.9,3.0,2.8,3.0,2.9,2.6,2.4,2.4,2.7,2.7,3.0,3.4,3.1,2.3,3.0,2.5,2.6,3.0,2.6,2.3,2.7,3.0,2.9,2.9,2.5,2.8],\"xaxis\":\"x\",\"y\":[7.0,6.4,6.9,5.5,6.5,5.7,6.3,4.9,6.6,5.2,5.0,5.9,6.0,6.1,5.6,6.7,5.6,5.8,6.2,5.6,5.9,6.1,6.3,6.1,6.4,6.6,6.8,6.7,6.0,5.7,5.5,5.5,5.8,6.0,5.4,6.0,6.7,6.3,5.6,5.5,5.5,6.1,5.8,5.0,5.6,5.7,5.7,6.2,5.1,5.7],\"yaxis\":\"y\",\"type\":\"scatter\"},{\"alignmentgroup\":\"True\",\"hovertemplate\":\"species=versicolor<br>sepal_width=%{x}<extra></extra>\",\"legendgroup\":\"versicolor\",\"marker\":{\"color\":\"#FF7F0E\",\"symbol\":\"circle\"},\"name\":\"versicolor\",\"notched\":true,\"offsetgroup\":\"versicolor\",\"showlegend\":false,\"x\":[3.2,3.2,3.1,2.3,2.8,2.8,3.3,2.4,2.9,2.7,2.0,3.0,2.2,2.9,2.9,3.1,3.0,2.7,2.2,2.5,3.2,2.8,2.5,2.8,2.9,3.0,2.8,3.0,2.9,2.6,2.4,2.4,2.7,2.7,3.0,3.4,3.1,2.3,3.0,2.5,2.6,3.0,2.6,2.3,2.7,3.0,2.9,2.9,2.5,2.8],\"xaxis\":\"x3\",\"yaxis\":\"y3\",\"type\":\"box\"},{\"alignmentgroup\":\"True\",\"hovertemplate\":\"species=versicolor<br>sepal_length=%{y}<extra></extra>\",\"legendgroup\":\"versicolor\",\"marker\":{\"color\":\"#FF7F0E\",\"symbol\":\"circle\"},\"name\":\"versicolor\",\"offsetgroup\":\"versicolor\",\"scalegroup\":\"y\",\"showlegend\":false,\"xaxis\":\"x2\",\"y\":[7.0,6.4,6.9,5.5,6.5,5.7,6.3,4.9,6.6,5.2,5.0,5.9,6.0,6.1,5.6,6.7,5.6,5.8,6.2,5.6,5.9,6.1,6.3,6.1,6.4,6.6,6.8,6.7,6.0,5.7,5.5,5.5,5.8,6.0,5.4,6.0,6.7,6.3,5.6,5.5,5.5,6.1,5.8,5.0,5.6,5.7,5.7,6.2,5.1,5.7],\"yaxis\":\"y2\",\"type\":\"violin\"},{\"hovertemplate\":\"<b>OLS trendline</b><br>sepal_length = 0.865078 * sepal_width + 3.53973<br>R<sup>2</sup>=0.276582<br><br>species=versicolor<br>sepal_width=%{x}<br>sepal_length=%{y} <b>(trend)</b><extra></extra>\",\"legendgroup\":\"versicolor\",\"marker\":{\"color\":\"#FF7F0E\",\"symbol\":\"circle\"},\"mode\":\"lines\",\"name\":\"versicolor\",\"showlegend\":false,\"x\":[2.0,2.2,2.2,2.3,2.3,2.3,2.4,2.4,2.4,2.5,2.5,2.5,2.5,2.6,2.6,2.6,2.7,2.7,2.7,2.7,2.7,2.8,2.8,2.8,2.8,2.8,2.8,2.9,2.9,2.9,2.9,2.9,2.9,2.9,3.0,3.0,3.0,3.0,3.0,3.0,3.0,3.0,3.1,3.1,3.1,3.2,3.2,3.2,3.3,3.4],\"xaxis\":\"x\",\"y\":[5.26989015544041,5.4429056994818605,5.4429056994818605,5.529413471502586,5.529413471502586,5.529413471502586,5.615921243523311,5.615921243523311,5.615921243523311,5.702429015544037,5.702429015544037,5.702429015544037,5.702429015544037,5.7889367875647615,5.7889367875647615,5.7889367875647615,5.875444559585487,5.875444559585487,5.875444559585487,5.875444559585487,5.875444559585487,5.961952331606212,5.961952331606212,5.961952331606212,5.961952331606212,5.961952331606212,5.961952331606212,6.048460103626938,6.048460103626938,6.048460103626938,6.048460103626938,6.048460103626938,6.048460103626938,6.048460103626938,6.134967875647662,6.134967875647662,6.134967875647662,6.134967875647662,6.134967875647662,6.134967875647662,6.134967875647662,6.134967875647662,6.221475647668388,6.221475647668388,6.221475647668388,6.307983419689114,6.307983419689114,6.307983419689114,6.394491191709839,6.480998963730563],\"yaxis\":\"y\",\"type\":\"scatter\"},{\"hovertemplate\":\"species=virginica<br>sepal_width=%{x}<br>sepal_length=%{y}<extra></extra>\",\"legendgroup\":\"virginica\",\"marker\":{\"color\":\"#2CA02C\",\"symbol\":\"circle\"},\"mode\":\"markers\",\"name\":\"virginica\",\"orientation\":\"v\",\"showlegend\":true,\"x\":[3.3,2.7,3.0,2.9,3.0,3.0,2.5,2.9,2.5,3.6,3.2,2.7,3.0,2.5,2.8,3.2,3.0,3.8,2.6,2.2,3.2,2.8,2.8,2.7,3.3,3.2,2.8,3.0,2.8,3.0,2.8,3.8,2.8,2.8,2.6,3.0,3.4,3.1,3.0,3.1,3.1,3.1,2.7,3.2,3.3,3.0,2.5,3.0,3.4,3.0],\"xaxis\":\"x\",\"y\":[6.3,5.8,7.1,6.3,6.5,7.6,4.9,7.3,6.7,7.2,6.5,6.4,6.8,5.7,5.8,6.4,6.5,7.7,7.7,6.0,6.9,5.6,7.7,6.3,6.7,7.2,6.2,6.1,6.4,7.2,7.4,7.9,6.4,6.3,6.1,7.7,6.3,6.4,6.0,6.9,6.7,6.9,5.8,6.8,6.7,6.7,6.3,6.5,6.2,5.9],\"yaxis\":\"y\",\"type\":\"scatter\"},{\"alignmentgroup\":\"True\",\"hovertemplate\":\"species=virginica<br>sepal_width=%{x}<extra></extra>\",\"legendgroup\":\"virginica\",\"marker\":{\"color\":\"#2CA02C\",\"symbol\":\"circle\"},\"name\":\"virginica\",\"notched\":true,\"offsetgroup\":\"virginica\",\"showlegend\":false,\"x\":[3.3,2.7,3.0,2.9,3.0,3.0,2.5,2.9,2.5,3.6,3.2,2.7,3.0,2.5,2.8,3.2,3.0,3.8,2.6,2.2,3.2,2.8,2.8,2.7,3.3,3.2,2.8,3.0,2.8,3.0,2.8,3.8,2.8,2.8,2.6,3.0,3.4,3.1,3.0,3.1,3.1,3.1,2.7,3.2,3.3,3.0,2.5,3.0,3.4,3.0],\"xaxis\":\"x3\",\"yaxis\":\"y3\",\"type\":\"box\"},{\"alignmentgroup\":\"True\",\"hovertemplate\":\"species=virginica<br>sepal_length=%{y}<extra></extra>\",\"legendgroup\":\"virginica\",\"marker\":{\"color\":\"#2CA02C\",\"symbol\":\"circle\"},\"name\":\"virginica\",\"offsetgroup\":\"virginica\",\"scalegroup\":\"y\",\"showlegend\":false,\"xaxis\":\"x2\",\"y\":[6.3,5.8,7.1,6.3,6.5,7.6,4.9,7.3,6.7,7.2,6.5,6.4,6.8,5.7,5.8,6.4,6.5,7.7,7.7,6.0,6.9,5.6,7.7,6.3,6.7,7.2,6.2,6.1,6.4,7.2,7.4,7.9,6.4,6.3,6.1,7.7,6.3,6.4,6.0,6.9,6.7,6.9,5.8,6.8,6.7,6.7,6.3,6.5,6.2,5.9],\"yaxis\":\"y2\",\"type\":\"violin\"},{\"hovertemplate\":\"<b>OLS trendline</b><br>sepal_length = 0.901534 * sepal_width + 3.90684<br>R<sup>2</sup>=0.209057<br><br>species=virginica<br>sepal_width=%{x}<br>sepal_length=%{y} <b>(trend)</b><extra></extra>\",\"legendgroup\":\"virginica\",\"marker\":{\"color\":\"#2CA02C\",\"symbol\":\"circle\"},\"mode\":\"lines\",\"name\":\"virginica\",\"showlegend\":false,\"x\":[2.2,2.5,2.5,2.5,2.5,2.6,2.6,2.7,2.7,2.7,2.7,2.8,2.8,2.8,2.8,2.8,2.8,2.8,2.8,2.9,2.9,3.0,3.0,3.0,3.0,3.0,3.0,3.0,3.0,3.0,3.0,3.0,3.0,3.1,3.1,3.1,3.1,3.2,3.2,3.2,3.2,3.2,3.3,3.3,3.3,3.4,3.4,3.6,3.8,3.8],\"xaxis\":\"x\",\"y\":[5.8902123150582755,6.160672658058943,6.160672658058943,6.160672658058943,6.160672658058943,6.250826105725833,6.250826105725833,6.340979553392723,6.340979553392723,6.340979553392723,6.340979553392723,6.431133001059611,6.431133001059611,6.431133001059611,6.431133001059611,6.431133001059611,6.431133001059611,6.431133001059611,6.431133001059611,6.521286448726501,6.521286448726501,6.6114398963933905,6.6114398963933905,6.6114398963933905,6.6114398963933905,6.6114398963933905,6.6114398963933905,6.6114398963933905,6.6114398963933905,6.6114398963933905,6.6114398963933905,6.6114398963933905,6.6114398963933905,6.70159334406028,6.70159334406028,6.70159334406028,6.70159334406028,6.791746791727169,6.791746791727169,6.791746791727169,6.791746791727169,6.791746791727169,6.881900239394058,6.881900239394058,6.881900239394058,6.9720536870609475,6.9720536870609475,7.152360582394726,7.332667477728505,7.332667477728505],\"yaxis\":\"y\",\"type\":\"scatter\"}],                        {\"template\":{\"data\":{\"barpolar\":[{\"marker\":{\"line\":{\"color\":\"white\",\"width\":0.5},\"pattern\":{\"fillmode\":\"overlay\",\"size\":10,\"solidity\":0.2}},\"type\":\"barpolar\"}],\"bar\":[{\"error_x\":{\"color\":\"rgb(36,36,36)\"},\"error_y\":{\"color\":\"rgb(36,36,36)\"},\"marker\":{\"line\":{\"color\":\"white\",\"width\":0.5},\"pattern\":{\"fillmode\":\"overlay\",\"size\":10,\"solidity\":0.2}},\"type\":\"bar\"}],\"carpet\":[{\"aaxis\":{\"endlinecolor\":\"rgb(36,36,36)\",\"gridcolor\":\"white\",\"linecolor\":\"white\",\"minorgridcolor\":\"white\",\"startlinecolor\":\"rgb(36,36,36)\"},\"baxis\":{\"endlinecolor\":\"rgb(36,36,36)\",\"gridcolor\":\"white\",\"linecolor\":\"white\",\"minorgridcolor\":\"white\",\"startlinecolor\":\"rgb(36,36,36)\"},\"type\":\"carpet\"}],\"choropleth\":[{\"colorbar\":{\"outlinewidth\":1,\"tickcolor\":\"rgb(36,36,36)\",\"ticks\":\"outside\"},\"type\":\"choropleth\"}],\"contourcarpet\":[{\"colorbar\":{\"outlinewidth\":1,\"tickcolor\":\"rgb(36,36,36)\",\"ticks\":\"outside\"},\"type\":\"contourcarpet\"}],\"contour\":[{\"colorbar\":{\"outlinewidth\":1,\"tickcolor\":\"rgb(36,36,36)\",\"ticks\":\"outside\"},\"colorscale\":[[0.0,\"#440154\"],[0.1111111111111111,\"#482878\"],[0.2222222222222222,\"#3e4989\"],[0.3333333333333333,\"#31688e\"],[0.4444444444444444,\"#26828e\"],[0.5555555555555556,\"#1f9e89\"],[0.6666666666666666,\"#35b779\"],[0.7777777777777778,\"#6ece58\"],[0.8888888888888888,\"#b5de2b\"],[1.0,\"#fde725\"]],\"type\":\"contour\"}],\"heatmapgl\":[{\"colorbar\":{\"outlinewidth\":1,\"tickcolor\":\"rgb(36,36,36)\",\"ticks\":\"outside\"},\"colorscale\":[[0.0,\"#440154\"],[0.1111111111111111,\"#482878\"],[0.2222222222222222,\"#3e4989\"],[0.3333333333333333,\"#31688e\"],[0.4444444444444444,\"#26828e\"],[0.5555555555555556,\"#1f9e89\"],[0.6666666666666666,\"#35b779\"],[0.7777777777777778,\"#6ece58\"],[0.8888888888888888,\"#b5de2b\"],[1.0,\"#fde725\"]],\"type\":\"heatmapgl\"}],\"heatmap\":[{\"colorbar\":{\"outlinewidth\":1,\"tickcolor\":\"rgb(36,36,36)\",\"ticks\":\"outside\"},\"colorscale\":[[0.0,\"#440154\"],[0.1111111111111111,\"#482878\"],[0.2222222222222222,\"#3e4989\"],[0.3333333333333333,\"#31688e\"],[0.4444444444444444,\"#26828e\"],[0.5555555555555556,\"#1f9e89\"],[0.6666666666666666,\"#35b779\"],[0.7777777777777778,\"#6ece58\"],[0.8888888888888888,\"#b5de2b\"],[1.0,\"#fde725\"]],\"type\":\"heatmap\"}],\"histogram2dcontour\":[{\"colorbar\":{\"outlinewidth\":1,\"tickcolor\":\"rgb(36,36,36)\",\"ticks\":\"outside\"},\"colorscale\":[[0.0,\"#440154\"],[0.1111111111111111,\"#482878\"],[0.2222222222222222,\"#3e4989\"],[0.3333333333333333,\"#31688e\"],[0.4444444444444444,\"#26828e\"],[0.5555555555555556,\"#1f9e89\"],[0.6666666666666666,\"#35b779\"],[0.7777777777777778,\"#6ece58\"],[0.8888888888888888,\"#b5de2b\"],[1.0,\"#fde725\"]],\"type\":\"histogram2dcontour\"}],\"histogram2d\":[{\"colorbar\":{\"outlinewidth\":1,\"tickcolor\":\"rgb(36,36,36)\",\"ticks\":\"outside\"},\"colorscale\":[[0.0,\"#440154\"],[0.1111111111111111,\"#482878\"],[0.2222222222222222,\"#3e4989\"],[0.3333333333333333,\"#31688e\"],[0.4444444444444444,\"#26828e\"],[0.5555555555555556,\"#1f9e89\"],[0.6666666666666666,\"#35b779\"],[0.7777777777777778,\"#6ece58\"],[0.8888888888888888,\"#b5de2b\"],[1.0,\"#fde725\"]],\"type\":\"histogram2d\"}],\"histogram\":[{\"marker\":{\"line\":{\"color\":\"white\",\"width\":0.6}},\"type\":\"histogram\"}],\"mesh3d\":[{\"colorbar\":{\"outlinewidth\":1,\"tickcolor\":\"rgb(36,36,36)\",\"ticks\":\"outside\"},\"type\":\"mesh3d\"}],\"parcoords\":[{\"line\":{\"colorbar\":{\"outlinewidth\":1,\"tickcolor\":\"rgb(36,36,36)\",\"ticks\":\"outside\"}},\"type\":\"parcoords\"}],\"pie\":[{\"automargin\":true,\"type\":\"pie\"}],\"scatter3d\":[{\"line\":{\"colorbar\":{\"outlinewidth\":1,\"tickcolor\":\"rgb(36,36,36)\",\"ticks\":\"outside\"}},\"marker\":{\"colorbar\":{\"outlinewidth\":1,\"tickcolor\":\"rgb(36,36,36)\",\"ticks\":\"outside\"}},\"type\":\"scatter3d\"}],\"scattercarpet\":[{\"marker\":{\"colorbar\":{\"outlinewidth\":1,\"tickcolor\":\"rgb(36,36,36)\",\"ticks\":\"outside\"}},\"type\":\"scattercarpet\"}],\"scattergeo\":[{\"marker\":{\"colorbar\":{\"outlinewidth\":1,\"tickcolor\":\"rgb(36,36,36)\",\"ticks\":\"outside\"}},\"type\":\"scattergeo\"}],\"scattergl\":[{\"marker\":{\"colorbar\":{\"outlinewidth\":1,\"tickcolor\":\"rgb(36,36,36)\",\"ticks\":\"outside\"}},\"type\":\"scattergl\"}],\"scattermapbox\":[{\"marker\":{\"colorbar\":{\"outlinewidth\":1,\"tickcolor\":\"rgb(36,36,36)\",\"ticks\":\"outside\"}},\"type\":\"scattermapbox\"}],\"scatterpolargl\":[{\"marker\":{\"colorbar\":{\"outlinewidth\":1,\"tickcolor\":\"rgb(36,36,36)\",\"ticks\":\"outside\"}},\"type\":\"scatterpolargl\"}],\"scatterpolar\":[{\"marker\":{\"colorbar\":{\"outlinewidth\":1,\"tickcolor\":\"rgb(36,36,36)\",\"ticks\":\"outside\"}},\"type\":\"scatterpolar\"}],\"scatter\":[{\"fillpattern\":{\"fillmode\":\"overlay\",\"size\":10,\"solidity\":0.2},\"type\":\"scatter\"}],\"scatterternary\":[{\"marker\":{\"colorbar\":{\"outlinewidth\":1,\"tickcolor\":\"rgb(36,36,36)\",\"ticks\":\"outside\"}},\"type\":\"scatterternary\"}],\"surface\":[{\"colorbar\":{\"outlinewidth\":1,\"tickcolor\":\"rgb(36,36,36)\",\"ticks\":\"outside\"},\"colorscale\":[[0.0,\"#440154\"],[0.1111111111111111,\"#482878\"],[0.2222222222222222,\"#3e4989\"],[0.3333333333333333,\"#31688e\"],[0.4444444444444444,\"#26828e\"],[0.5555555555555556,\"#1f9e89\"],[0.6666666666666666,\"#35b779\"],[0.7777777777777778,\"#6ece58\"],[0.8888888888888888,\"#b5de2b\"],[1.0,\"#fde725\"]],\"type\":\"surface\"}],\"table\":[{\"cells\":{\"fill\":{\"color\":\"rgb(237,237,237)\"},\"line\":{\"color\":\"white\"}},\"header\":{\"fill\":{\"color\":\"rgb(217,217,217)\"},\"line\":{\"color\":\"white\"}},\"type\":\"table\"}]},\"layout\":{\"annotationdefaults\":{\"arrowhead\":0,\"arrowwidth\":1},\"autotypenumbers\":\"strict\",\"coloraxis\":{\"colorbar\":{\"outlinewidth\":1,\"tickcolor\":\"rgb(36,36,36)\",\"ticks\":\"outside\"}},\"colorscale\":{\"diverging\":[[0.0,\"rgb(103,0,31)\"],[0.1,\"rgb(178,24,43)\"],[0.2,\"rgb(214,96,77)\"],[0.3,\"rgb(244,165,130)\"],[0.4,\"rgb(253,219,199)\"],[0.5,\"rgb(247,247,247)\"],[0.6,\"rgb(209,229,240)\"],[0.7,\"rgb(146,197,222)\"],[0.8,\"rgb(67,147,195)\"],[0.9,\"rgb(33,102,172)\"],[1.0,\"rgb(5,48,97)\"]],\"sequential\":[[0.0,\"#440154\"],[0.1111111111111111,\"#482878\"],[0.2222222222222222,\"#3e4989\"],[0.3333333333333333,\"#31688e\"],[0.4444444444444444,\"#26828e\"],[0.5555555555555556,\"#1f9e89\"],[0.6666666666666666,\"#35b779\"],[0.7777777777777778,\"#6ece58\"],[0.8888888888888888,\"#b5de2b\"],[1.0,\"#fde725\"]],\"sequentialminus\":[[0.0,\"#440154\"],[0.1111111111111111,\"#482878\"],[0.2222222222222222,\"#3e4989\"],[0.3333333333333333,\"#31688e\"],[0.4444444444444444,\"#26828e\"],[0.5555555555555556,\"#1f9e89\"],[0.6666666666666666,\"#35b779\"],[0.7777777777777778,\"#6ece58\"],[0.8888888888888888,\"#b5de2b\"],[1.0,\"#fde725\"]]},\"colorway\":[\"#1F77B4\",\"#FF7F0E\",\"#2CA02C\",\"#D62728\",\"#9467BD\",\"#8C564B\",\"#E377C2\",\"#7F7F7F\",\"#BCBD22\",\"#17BECF\"],\"font\":{\"color\":\"rgb(36,36,36)\"},\"geo\":{\"bgcolor\":\"white\",\"lakecolor\":\"white\",\"landcolor\":\"white\",\"showlakes\":true,\"showland\":true,\"subunitcolor\":\"white\"},\"hoverlabel\":{\"align\":\"left\"},\"hovermode\":\"closest\",\"mapbox\":{\"style\":\"light\"},\"paper_bgcolor\":\"white\",\"plot_bgcolor\":\"white\",\"polar\":{\"angularaxis\":{\"gridcolor\":\"rgb(232,232,232)\",\"linecolor\":\"rgb(36,36,36)\",\"showgrid\":false,\"showline\":true,\"ticks\":\"outside\"},\"bgcolor\":\"white\",\"radialaxis\":{\"gridcolor\":\"rgb(232,232,232)\",\"linecolor\":\"rgb(36,36,36)\",\"showgrid\":false,\"showline\":true,\"ticks\":\"outside\"}},\"scene\":{\"xaxis\":{\"backgroundcolor\":\"white\",\"gridcolor\":\"rgb(232,232,232)\",\"gridwidth\":2,\"linecolor\":\"rgb(36,36,36)\",\"showbackground\":true,\"showgrid\":false,\"showline\":true,\"ticks\":\"outside\",\"zeroline\":false,\"zerolinecolor\":\"rgb(36,36,36)\"},\"yaxis\":{\"backgroundcolor\":\"white\",\"gridcolor\":\"rgb(232,232,232)\",\"gridwidth\":2,\"linecolor\":\"rgb(36,36,36)\",\"showbackground\":true,\"showgrid\":false,\"showline\":true,\"ticks\":\"outside\",\"zeroline\":false,\"zerolinecolor\":\"rgb(36,36,36)\"},\"zaxis\":{\"backgroundcolor\":\"white\",\"gridcolor\":\"rgb(232,232,232)\",\"gridwidth\":2,\"linecolor\":\"rgb(36,36,36)\",\"showbackground\":true,\"showgrid\":false,\"showline\":true,\"ticks\":\"outside\",\"zeroline\":false,\"zerolinecolor\":\"rgb(36,36,36)\"}},\"shapedefaults\":{\"fillcolor\":\"black\",\"line\":{\"width\":0},\"opacity\":0.3},\"ternary\":{\"aaxis\":{\"gridcolor\":\"rgb(232,232,232)\",\"linecolor\":\"rgb(36,36,36)\",\"showgrid\":false,\"showline\":true,\"ticks\":\"outside\"},\"baxis\":{\"gridcolor\":\"rgb(232,232,232)\",\"linecolor\":\"rgb(36,36,36)\",\"showgrid\":false,\"showline\":true,\"ticks\":\"outside\"},\"bgcolor\":\"white\",\"caxis\":{\"gridcolor\":\"rgb(232,232,232)\",\"linecolor\":\"rgb(36,36,36)\",\"showgrid\":false,\"showline\":true,\"ticks\":\"outside\"}},\"title\":{\"x\":0.05},\"xaxis\":{\"automargin\":true,\"gridcolor\":\"rgb(232,232,232)\",\"linecolor\":\"rgb(36,36,36)\",\"showgrid\":false,\"showline\":true,\"ticks\":\"outside\",\"title\":{\"standoff\":15},\"zeroline\":false,\"zerolinecolor\":\"rgb(36,36,36)\"},\"yaxis\":{\"automargin\":true,\"gridcolor\":\"rgb(232,232,232)\",\"linecolor\":\"rgb(36,36,36)\",\"showgrid\":false,\"showline\":true,\"ticks\":\"outside\",\"title\":{\"standoff\":15},\"zeroline\":false,\"zerolinecolor\":\"rgb(36,36,36)\"}}},\"xaxis\":{\"anchor\":\"y\",\"domain\":[0.0,0.7363],\"title\":{\"text\":\"sepal_width\"}},\"yaxis\":{\"anchor\":\"x\",\"domain\":[0.0,0.7326],\"title\":{\"text\":\"sepal_length\"}},\"xaxis2\":{\"anchor\":\"y2\",\"domain\":[0.7413,1.0],\"matches\":\"x2\",\"showticklabels\":false,\"showline\":false,\"ticks\":\"\"},\"yaxis2\":{\"anchor\":\"x2\",\"domain\":[0.0,0.7326],\"matches\":\"y\",\"showticklabels\":false},\"xaxis3\":{\"anchor\":\"y3\",\"domain\":[0.0,0.7363],\"matches\":\"x\",\"showticklabels\":false},\"yaxis3\":{\"anchor\":\"x3\",\"domain\":[0.7426,1.0],\"matches\":\"y3\",\"showticklabels\":false,\"showline\":false,\"ticks\":\"\"},\"xaxis4\":{\"anchor\":\"y4\",\"domain\":[0.7413,1.0],\"matches\":\"x2\",\"showticklabels\":false,\"showline\":false,\"ticks\":\"\"},\"yaxis4\":{\"anchor\":\"x4\",\"domain\":[0.7426,1.0],\"matches\":\"y3\",\"showticklabels\":false,\"showline\":false,\"ticks\":\"\"},\"legend\":{\"title\":{\"text\":\"species\"},\"tracegroupgap\":0},\"margin\":{\"t\":60}},                        {\"responsive\": true}                    ).then(function(){\n",
       "                            \n",
       "var gd = document.getElementById('7c5569e6-8240-4020-85e1-3604e9e1bfdc');\n",
       "var x = new MutationObserver(function (mutations, observer) {{\n",
       "        var display = window.getComputedStyle(gd).display;\n",
       "        if (!display || display === 'none') {{\n",
       "            console.log([gd, 'removed!']);\n",
       "            Plotly.purge(gd);\n",
       "            observer.disconnect();\n",
       "        }}\n",
       "}});\n",
       "\n",
       "// Listen for the removal of the full notebook cells\n",
       "var notebookContainer = gd.closest('#notebook-container');\n",
       "if (notebookContainer) {{\n",
       "    x.observe(notebookContainer, {childList: true});\n",
       "}}\n",
       "\n",
       "// Listen for the clearing of the current output cell\n",
       "var outputEl = gd.closest('.output');\n",
       "if (outputEl) {{\n",
       "    x.observe(outputEl, {childList: true});\n",
       "}}\n",
       "\n",
       "                        })                };                });            </script>        </div>"
      ]
     },
     "metadata": {},
     "output_type": "display_data"
    }
   ],
   "source": [
    "import plotly.express as px\n",
    "import plotly.io as pio\n",
    "pio.renderers.default = \"plotly_mimetype+notebook_connected\"\n",
    "df = px.data.iris()\n",
    "fig = px.scatter(df, x=\"sepal_width\", y=\"sepal_length\", \n",
    "                 color=\"species\", \n",
    "                 marginal_y=\"violin\", marginal_x=\"box\", \n",
    "                 trendline=\"ols\", template=\"simple_white\")\n",
    "fig.show()"
   ]
  },
  {
   "cell_type": "code",
   "execution_count": 4,
   "id": "955b2bac",
   "metadata": {},
   "outputs": [
    {
     "name": "stdout",
     "output_type": "stream",
     "text": [
      "Simplex Tree with (3, 3, 1) (0, 1, 2)-simplices\n",
      "Simplex Tree with (3, 2) (0, 1)-simplices\n"
     ]
    }
   ],
   "source": [
    "st = SimplexTree([[0,1,2]])\n",
    "print(st)\n",
    "# Simplex Tree with (3, 3, 1) (0, 1, 2)-simplices\n",
    "\n",
    "st.collapse([1,2], [0,1,2])\n",
    "# True \n",
    "\n",
    "print(st)\n",
    "# Simplex Tree with (3, 2) (0, 1)-simplices"
   ]
  }
 ],
 "metadata": {
  "kernelspec": {
   "display_name": "Python 3 (ipykernel)",
   "language": "python",
   "name": "python3"
  },
  "language_info": {
   "codemirror_mode": {
    "name": "ipython",
    "version": 3
   },
   "file_extension": ".py",
   "mimetype": "text/x-python",
   "name": "python",
   "nbconvert_exporter": "python",
   "pygments_lexer": "ipython3",
   "version": "3.10.6"
  }
 },
 "nbformat": 4,
 "nbformat_minor": 5
}