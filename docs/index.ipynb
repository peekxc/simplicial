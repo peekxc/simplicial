{
  "cells": [
    {
      "cell_type": "raw",
      "metadata": {},
      "source": [
        "---\n",
        "format:\n",
        "  html:\n",
        "    code-fold: false\n",
        "execute:\n",
        "  freeze: true\n",
        "  enabled: false\n",
        "---"
      ],
      "id": "cfa3052e"
    },
    {
      "cell_type": "markdown",
      "metadata": {},
      "source": [
        "# Simplicial\n",
        "\n",
        "_Simplicial_ is an experimental Python package aimed at simplifying computation with simplicial complexes. \n",
        "\n",
        "```{tableofcontents}\n",
        "```\n",
        "\n",
        "## Quick start "
      ],
      "id": "ec4f4c13"
    },
    {
      "cell_type": "code",
      "metadata": {},
      "source": [
        "import simplicial "
      ],
      "id": "64f519dc",
      "execution_count": null,
      "outputs": []
    }
  ],
  "metadata": {
    "kernelspec": {
      "name": "python3",
      "language": "python",
      "display_name": "Python 3 (ipykernel)"
    }
  },
  "nbformat": 4,
  "nbformat_minor": 5
}